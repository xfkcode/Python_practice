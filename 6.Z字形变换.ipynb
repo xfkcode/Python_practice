{
 "cells": [
  {
   "cell_type": "markdown",
   "metadata": {},
   "source": [
    "将一个给定字符串 s 根据给定的行数 numRows ，以从上往下、从左到右进行 Z 字形排列。\n",
    "\n",
    "比如输入字符串为 \"PAYPALISHIRING\" 行数为 3 时，排列如下：\n",
    "\n",
    "P   A   H   N\n",
    "A P L S I I G\n",
    "Y   I   R\n",
    "之后，你的输出需要从左往右逐行读取，产生出一个新的字符串，比如：\"PAHNAPLSIIGYIR\"。\n",
    "\n",
    "请你实现这个将字符串进行指定行数变换的函数：\n",
    "\n",
    "string convert(string s, int numRows);\n",
    " \n",
    "\n",
    "示例 1：\n",
    "\n",
    "输入：s = \"PAYPALISHIRING\", numRows = 3\n",
    "输出：\"PAHNAPLSIIGYIR\"\n",
    "示例 2：\n",
    "输入：s = \"PAYPALISHIRING\", numRows = 4\n",
    "输出：\"PINALSIGYAHRPI\"\n",
    "解释：\n",
    "P     I    N\n",
    "A   L S  I G\n",
    "Y A   H R\n",
    "P     I\n",
    "示例 3：\n",
    "\n",
    "输入：s = \"A\", numRows = 1\n",
    "输出：\"A\"\n",
    " \n",
    "\n",
    "提示：\n",
    "\n",
    "1 <= s.length <= 1000\n",
    "s 由英文字母（小写和大写）、',' 和 '.' 组成\n",
    "1 <= numRows <= 1000"
   ]
  },
  {
   "cell_type": "code",
   "execution_count": 80,
   "metadata": {},
   "outputs": [],
   "source": [
    "# Z字形变换\n",
    "def convert(s,numRows):\n",
    "    length=len(s)\n",
    "    if numRows==1:\n",
    "        convert_str=s\n",
    "    elif numRows==2:\n",
    "        str1=s[0::2]\n",
    "        str2=s[1::2]\n",
    "#         print(str1)\n",
    "#         print(str2)\n",
    "        convert_str=str1+str2\n",
    "#         print(convert_str)\n",
    "    elif numRows==3:\n",
    "        str1=s[0::numRows+1]\n",
    "        str2=s[0+1::2]\n",
    "        str3=s[0+numRows-1::numRows+1]\n",
    "        convert_str=str1+str2+str3\n",
    "    elif numRows==4:\n",
    "        str1=s[0::numRows-1+numRows-2+1]\n",
    "        \n",
    "        str2=s[0+1]\n",
    "        index2=(0+1)\n",
    "        while index2<length-1:\n",
    "            for i in [3,1]:\n",
    "                index2+=(i+1)\n",
    "                if index2<length-1:\n",
    "                    str2+=s[index2]\n",
    "                \n",
    "        str3=s[0+2]\n",
    "        index3=(0+2)\n",
    "        while index3<length-1:\n",
    "            for i in [1,3]:\n",
    "                index3+=(i+1)\n",
    "                if index3<length-1:\n",
    "                    str3+=s[index3]\n",
    "        \n",
    "        str4=s[0+3::numRows-1+numRows-2+1]\n",
    "        convert_str=str1+str2+str3+str4\n",
    "    return convert_str"
   ]
  },
  {
   "cell_type": "code",
   "execution_count": 81,
   "metadata": {},
   "outputs": [
    {
     "name": "stdout",
     "output_type": "stream",
     "text": [
      "ahbx\n"
     ]
    }
   ],
   "source": [
    "constr=convert('abhx',2)\n",
    "print(constr)"
   ]
  },
  {
   "cell_type": "code",
   "execution_count": 82,
   "metadata": {},
   "outputs": [
    {
     "name": "stdout",
     "output_type": "stream",
     "text": [
      "agmbfhlceikdj\n"
     ]
    }
   ],
   "source": [
    "# n丢失了\n",
    "constr=convert('abcdefghijklmn',4)\n",
    "print(constr)"
   ]
  },
  {
   "cell_type": "code",
   "execution_count": 83,
   "metadata": {},
   "outputs": [],
   "source": [
    "# Z字形变换，完美解\n",
    "def Convert(s,numRows):\n",
    "    length=len(s)\n",
    "    convert_str=''\n",
    "    for i in range(numRows):\n",
    "        first_str=s[i]\n",
    "        a=1+2*(numRows-2)-2*i\n",
    "        b=-1+2*i\n",
    "        if a==-1:\n",
    "            a=1+2*(numRows-2)\n",
    "        if b==-1:\n",
    "            b=1+2*(numRows-2)\n",
    "        list1=[a,b]\n",
    "        index=i\n",
    "        while index<length:\n",
    "            for j in list1:\n",
    "                index+=j+1\n",
    "                if index<length:\n",
    "                    first_str+=s[index]\n",
    "        convert_str+=first_str\n",
    "    return convert_str\n",
    "        "
   ]
  },
  {
   "cell_type": "code",
   "execution_count": 84,
   "metadata": {},
   "outputs": [
    {
     "name": "stdout",
     "output_type": "stream",
     "text": [
      "ahbx\n"
     ]
    }
   ],
   "source": [
    "constr=Convert('abhx',2)\n",
    "print(constr)"
   ]
  },
  {
   "cell_type": "code",
   "execution_count": 85,
   "metadata": {},
   "outputs": [
    {
     "name": "stdout",
     "output_type": "stream",
     "text": [
      "agmbfhlnceikdj\n"
     ]
    }
   ],
   "source": [
    "constr=Convert('abcdefghijklmn',4)\n",
    "print(constr)"
   ]
  },
  {
   "cell_type": "code",
   "execution_count": 86,
   "metadata": {},
   "outputs": [
    {
     "name": "stdout",
     "output_type": "stream",
     "text": [
      "aibhjcgkdflnem\n"
     ]
    }
   ],
   "source": [
    "constr=Convert('abcdefghijklmn',5)\n",
    "print(constr)"
   ]
  },
  {
   "cell_type": "code",
   "execution_count": 13,
   "metadata": {},
   "outputs": [],
   "source": [
    "class Solution:\n",
    "    def convert(self, s: str,numRows: int) -> str: \n",
    "        length=len(s)\n",
    "        convert_str=\"\"\n",
    "        for i in range(numRows):\n",
    "            first_str=s[i]\n",
    "            a=1+2*(numRows-2)-2*i\n",
    "            b=-1+2*i\n",
    "            if a==-1:\n",
    "                a=1+2*(numRows-2)\n",
    "            if b==-1:\n",
    "                b=1+2*(numRows-2)\n",
    "            list1=[a,b]\n",
    "            index=i\n",
    "            while index<length:\n",
    "                for j in list1:\n",
    "                    index+=j+1\n",
    "                    if index<length:\n",
    "                        first_str+=s[index]\n",
    "            convert_str+=first_str\n",
    "        return convert_str\n",
    "        "
   ]
  },
  {
   "cell_type": "code",
   "execution_count": 10,
   "metadata": {},
   "outputs": [
    {
     "data": {
      "text/plain": [
       "'aibhjcgkdflnem'"
      ]
     },
     "execution_count": 10,
     "metadata": {},
     "output_type": "execute_result"
    }
   ],
   "source": [
    "sol=Solution()\n",
    "sol.convert('abcdefghijklmn',5)"
   ]
  },
  {
   "cell_type": "code",
   "execution_count": 14,
   "metadata": {},
   "outputs": [
    {
     "data": {
      "text/plain": [
       "'PAHNAPLSIIGYIR'"
      ]
     },
     "execution_count": 14,
     "metadata": {},
     "output_type": "execute_result"
    }
   ],
   "source": [
    "# 力扣测试无法通过，Jupyter可以得到预期答案\n",
    "sol=Solution()\n",
    "sol.convert(\"PAYPALISHIRING\",3)"
   ]
  },
  {
   "cell_type": "code",
   "execution_count": null,
   "metadata": {},
   "outputs": [],
   "source": [
    "# 力扣标准解\n",
    "class Solution:\n",
    "    def convert(self, s: str, numRows: int) -> str:\n",
    "        n, r = len(s), numRows\n",
    "        if r == 1 or r >= n:\n",
    "            return s\n",
    "        t = r * 2 - 2\n",
    "        c = (n + t - 1) // t * (r - 1)\n",
    "        mat = [[''] * c for _ in range(r)]\n",
    "        x, y = 0, 0\n",
    "        for i, ch in enumerate(s):\n",
    "            mat[x][y] = ch\n",
    "            if i % t < r - 1:\n",
    "                x += 1  # 向下移动\n",
    "            else:\n",
    "                x -= 1\n",
    "                y += 1  # 向右上移动\n",
    "        return ''.join(ch for row in mat for ch in row if ch)"
   ]
  }
 ],
 "metadata": {
  "kernelspec": {
   "display_name": "Python 3.9.12 ('base')",
   "language": "python",
   "name": "python3"
  },
  "language_info": {
   "codemirror_mode": {
    "name": "ipython",
    "version": 3
   },
   "file_extension": ".py",
   "mimetype": "text/x-python",
   "name": "python",
   "nbconvert_exporter": "python",
   "pygments_lexer": "ipython3",
   "version": "3.9.12"
  },
  "vscode": {
   "interpreter": {
    "hash": "a825f8e8905b8e64233e6384cfa1616d0baa442a3b458fa78e4916d5c671b0d4"
   }
  }
 },
 "nbformat": 4,
 "nbformat_minor": 2
}
