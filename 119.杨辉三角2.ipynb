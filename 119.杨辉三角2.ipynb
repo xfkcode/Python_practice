{
 "cells": [
  {
   "cell_type": "markdown",
   "metadata": {},
   "source": [
    "给定一个非负索引 rowIndex，返回「杨辉三角」的第 rowIndex 行。\n",
    "\n",
    "在「杨辉三角」中，每个数是它左上方和右上方的数的和。\n",
    "\n",
    "\n",
    "示例 1:\n",
    "输入: rowIndex = 3\n",
    "输出: [1,3,3,1]\n",
    "\n",
    "示例 2:\n",
    "输入: rowIndex = 0\n",
    "输出: [1]\n",
    "\n",
    "示例 3:\n",
    "输入: rowIndex = 1\n",
    "输出: [1,1]\n",
    " \n",
    "\n",
    "提示:\n",
    "\n",
    "0 <= rowIndex <= 33\n",
    " \n",
    "\n",
    "进阶：\n",
    "\n",
    "你可以优化你的算法到 O(rowIndex) 空间复杂度吗？"
   ]
  },
  {
   "cell_type": "code",
   "execution_count": 3,
   "metadata": {},
   "outputs": [],
   "source": [
    "class Solution:\n",
    "    def getRow(self, rowIndex: int) -> list[int]:\n",
    "        def genlist(num):\n",
    "            lt=[]\n",
    "            for i in range(num):\n",
    "                lt.append(0)\n",
    "            return lt\n",
    "            \n",
    "        retlist=[]\n",
    "        for row in range(1,rowIndex+2):\n",
    "            eachlist=genlist(row)\n",
    "            eachlist[0]=1\n",
    "            eachlist[-1]=1\n",
    "            if row>2:\n",
    "                for i in range(1,row-1):\n",
    "                    eachlist[i]=retlist[row-2][i-1]+retlist[row-2][i]\n",
    "            retlist.append(eachlist)\n",
    "        return retlist[-1]"
   ]
  },
  {
   "cell_type": "code",
   "execution_count": 4,
   "metadata": {},
   "outputs": [
    {
     "data": {
      "text/plain": [
       "[1, 3, 3, 1]"
      ]
     },
     "execution_count": 4,
     "metadata": {},
     "output_type": "execute_result"
    }
   ],
   "source": [
    "sol=Solution()\n",
    "sol.getRow(3)"
   ]
  },
  {
   "cell_type": "code",
   "execution_count": null,
   "metadata": {},
   "outputs": [],
   "source": []
  }
 ],
 "metadata": {
  "kernelspec": {
   "display_name": "Python 3.9.12 ('base')",
   "language": "python",
   "name": "python3"
  },
  "language_info": {
   "codemirror_mode": {
    "name": "ipython",
    "version": 3
   },
   "file_extension": ".py",
   "mimetype": "text/x-python",
   "name": "python",
   "nbconvert_exporter": "python",
   "pygments_lexer": "ipython3",
   "version": "3.9.12"
  },
  "orig_nbformat": 4,
  "vscode": {
   "interpreter": {
    "hash": "a825f8e8905b8e64233e6384cfa1616d0baa442a3b458fa78e4916d5c671b0d4"
   }
  }
 },
 "nbformat": 4,
 "nbformat_minor": 2
}
