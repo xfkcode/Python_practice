{
 "cells": [
  {
   "cell_type": "markdown",
   "metadata": {},
   "source": [
    "给定一个只包括 '('，')'，'{'，'}'，'['，']' 的字符串 s ，判断字符串是否有效。\n",
    "\n",
    "有效字符串需满足：\n",
    "\n",
    "左括号必须用相同类型的右括号闭合。\n",
    "左括号必须以正确的顺序闭合。\n",
    " \n",
    "\n",
    "示例 1：\n",
    "输入：s = \"()\"\n",
    "输出：true\n",
    "\n",
    "示例 2：\n",
    "输入：s = \"()[]{}\"\n",
    "输出：true\n",
    "\n",
    "示例 3：\n",
    "输入：s = \"(]\"\n",
    "输出：false\n",
    "\n",
    "示例 4：\n",
    "输入：s = \"([)]\"\n",
    "输出：false\n",
    "\n",
    "示例 5：\n",
    "输入：s = \"{[]}\"\n",
    "输出：true\n",
    " \n",
    "\n",
    "提示：\n",
    "\n",
    "1 <= s.length <= 10^4\n",
    "s 仅由括号 '()[]{}' 组成"
   ]
  },
  {
   "cell_type": "code",
   "execution_count": 7,
   "metadata": {},
   "outputs": [],
   "source": [
    "# 查找法，复杂度太高\n",
    "class Solution:\n",
    "    def Is_Valid(self,s: str) -> bool:\n",
    "        dirt={'(':')','[':']','{':'}'}\n",
    "        # 字符串长度若为奇数直接返回False\n",
    "        if len(s)%2==1:\n",
    "            return False\n",
    "        # 外层查找匹配判断\n",
    "        list_s=list(s)\n",
    "        new=[]\n",
    "        i=0\n",
    "        length=len(list_s)\n",
    "        while i<length:\n",
    "            j=i+1\n",
    "            while j<length:\n",
    "                if list_s[j]==dirt[list_s[i]]:\n",
    "                    if (j-i+1)%2==1:\n",
    "                        return False,new\n",
    "                    new.append(s[i+1:j])\n",
    "                    i=j+1\n",
    "                    break\n",
    "                elif j==length-1:\n",
    "                    return False,new\n",
    "                j+=1\n",
    "        return True,new\n",
    "        \n",
    "    \n",
    "                        "
   ]
  },
  {
   "cell_type": "code",
   "execution_count": 10,
   "metadata": {},
   "outputs": [
    {
     "data": {
      "text/plain": [
       "(True, ['', '(((}))'])"
      ]
     },
     "execution_count": 10,
     "metadata": {},
     "output_type": "execute_result"
    }
   ],
   "source": [
    "sol=Solution()\n",
    "sol.Is_Valid('{}[(((}))]')"
   ]
  },
  {
   "cell_type": "code",
   "execution_count": 13,
   "metadata": {},
   "outputs": [],
   "source": [
    "# 力扣标准解，栈先进后出\n",
    "class Solution:\n",
    "    def isValid(self, s: str) -> bool:\n",
    "        if len(s) % 2 == 1:\n",
    "            return False\n",
    "        \n",
    "        pairs = {\n",
    "            \")\": \"(\",\n",
    "            \"]\": \"[\",\n",
    "            \"}\": \"{\",\n",
    "        }\n",
    "        stack = list()\n",
    "        for ch in s:\n",
    "            if ch in pairs:\n",
    "                if not stack or stack[-1] != pairs[ch]:\n",
    "                    return False\n",
    "                stack.pop()\n",
    "            else:\n",
    "                stack.append(ch)\n",
    "        \n",
    "        return not stack"
   ]
  },
  {
   "cell_type": "code",
   "execution_count": 2,
   "metadata": {},
   "outputs": [
    {
     "data": {
      "text/plain": [
       "True"
      ]
     },
     "execution_count": 2,
     "metadata": {},
     "output_type": "execute_result"
    }
   ],
   "source": [
    "sol=Solution()\n",
    "sol.isValid('{}{{}}[]()')"
   ]
  },
  {
   "cell_type": "code",
   "execution_count": 14,
   "metadata": {},
   "outputs": [
    {
     "data": {
      "text/plain": [
       "True"
      ]
     },
     "execution_count": 14,
     "metadata": {},
     "output_type": "execute_result"
    }
   ],
   "source": [
    "sol=Solution()\n",
    "sol.isValid('[(){}][({})()]')"
   ]
  },
  {
   "cell_type": "code",
   "execution_count": null,
   "metadata": {},
   "outputs": [],
   "source": []
  }
 ],
 "metadata": {
  "kernelspec": {
   "display_name": "Python 3.9.12 ('base')",
   "language": "python",
   "name": "python3"
  },
  "language_info": {
   "codemirror_mode": {
    "name": "ipython",
    "version": 3
   },
   "file_extension": ".py",
   "mimetype": "text/x-python",
   "name": "python",
   "nbconvert_exporter": "python",
   "pygments_lexer": "ipython3",
   "version": "3.9.12"
  },
  "orig_nbformat": 4,
  "vscode": {
   "interpreter": {
    "hash": "a825f8e8905b8e64233e6384cfa1616d0baa442a3b458fa78e4916d5c671b0d4"
   }
  }
 },
 "nbformat": 4,
 "nbformat_minor": 2
}
