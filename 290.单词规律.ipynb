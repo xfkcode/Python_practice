{
 "cells": [
  {
   "cell_type": "markdown",
   "metadata": {},
   "source": [
    "给定一种规律 pattern 和一个字符串 s ，判断 s 是否遵循相同的规律。\n",
    "\n",
    "这里的 遵循 指完全匹配，例如， pattern 里的每个字母和字符串 s 中的每个非空单词之间存在着双向连接的对应规律。\n",
    "\n",
    " \n",
    "\n",
    "示例1:  \n",
    "输入: pattern = \"abba\", s = \"dog cat cat dog\"  \n",
    "输出: true  \n",
    "\n",
    "示例 2:  \n",
    "输入:pattern = \"abba\", s = \"dog cat cat fish\"  \n",
    "输出: false  \n",
    "\n",
    "示例 3:  \n",
    "输入: pattern = \"aaaa\", s = \"dog cat cat dog\"  \n",
    "输出: false  \n",
    " \n",
    "\n",
    "提示:\n",
    "\n",
    "1 <= pattern.length <= 300  \n",
    "pattern 只包含小写英文字母  \n",
    "1 <= s.length <= 3000  \n",
    "s 只包含小写英文字母和 ' '  \n",
    "s 不包含 任何前导或尾随对空格  \n",
    "s 中每个单词都被 单个空格 分隔  "
   ]
  },
  {
   "cell_type": "code",
   "execution_count": 15,
   "metadata": {},
   "outputs": [],
   "source": [
    "class Solution:\n",
    "    def wordPattern(self, pattern: str, s: str) -> bool:\n",
    "        d={}\n",
    "        s_split=s.split()\n",
    "        if len(pattern)!=len(s_split):\n",
    "            return False\n",
    "        for i in range(len(pattern)):\n",
    "            if pattern[i] not in d.keys():\n",
    "                if s_split[i] in d.values():\n",
    "                    return False\n",
    "                d[pattern[i]]=s_split[i]\n",
    "            else:\n",
    "                if d.get(pattern[i])!=s_split[i]:\n",
    "                    return False\n",
    "        return True        "
   ]
  },
  {
   "cell_type": "code",
   "execution_count": 16,
   "metadata": {},
   "outputs": [
    {
     "data": {
      "text/plain": [
       "True"
      ]
     },
     "execution_count": 16,
     "metadata": {},
     "output_type": "execute_result"
    }
   ],
   "source": [
    "sol=Solution()\n",
    "sol.wordPattern(\"abba\",\"dog cat cat dog\")"
   ]
  },
  {
   "cell_type": "code",
   "execution_count": 17,
   "metadata": {},
   "outputs": [
    {
     "data": {
      "text/plain": [
       "False"
      ]
     },
     "execution_count": 17,
     "metadata": {},
     "output_type": "execute_result"
    }
   ],
   "source": [
    "sol=Solution()\n",
    "sol.wordPattern(pattern = \"abba\", s = \"dog cat cat fish\")"
   ]
  },
  {
   "cell_type": "code",
   "execution_count": 18,
   "metadata": {},
   "outputs": [
    {
     "data": {
      "text/plain": [
       "False"
      ]
     },
     "execution_count": 18,
     "metadata": {},
     "output_type": "execute_result"
    }
   ],
   "source": [
    "sol=Solution()\n",
    "sol.wordPattern(pattern = \"aaaa\", s = \"dog cat cat dog\")"
   ]
  },
  {
   "cell_type": "code",
   "execution_count": 19,
   "metadata": {},
   "outputs": [
    {
     "data": {
      "text/plain": [
       "False"
      ]
     },
     "execution_count": 19,
     "metadata": {},
     "output_type": "execute_result"
    }
   ],
   "source": [
    "sol=Solution()\n",
    "sol.wordPattern(pattern = \"abba\", s = \"dog dog dog dog\")"
   ]
  },
  {
   "cell_type": "code",
   "execution_count": null,
   "metadata": {},
   "outputs": [],
   "source": []
  }
 ],
 "metadata": {
  "kernelspec": {
   "display_name": "Python 3.9.12 ('base')",
   "language": "python",
   "name": "python3"
  },
  "language_info": {
   "codemirror_mode": {
    "name": "ipython",
    "version": 3
   },
   "file_extension": ".py",
   "mimetype": "text/x-python",
   "name": "python",
   "nbconvert_exporter": "python",
   "pygments_lexer": "ipython3",
   "version": "3.9.12"
  },
  "orig_nbformat": 4,
  "vscode": {
   "interpreter": {
    "hash": "a825f8e8905b8e64233e6384cfa1616d0baa442a3b458fa78e4916d5c671b0d4"
   }
  }
 },
 "nbformat": 4,
 "nbformat_minor": 2
}
