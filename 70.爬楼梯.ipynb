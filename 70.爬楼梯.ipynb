{
 "cells": [
  {
   "cell_type": "markdown",
   "metadata": {},
   "source": [
    "假设你正在爬楼梯。需要 n 阶你才能到达楼顶。\n",
    "\n",
    "每次你可以爬 1 或 2 个台阶。你有多少种不同的方法可以爬到楼顶呢？\n",
    "\n",
    " \n",
    "示例 1：\n",
    "输入：n = 2\n",
    "输出：2\n",
    "解释：有两种方法可以爬到楼顶。\n",
    "1. 1 阶 + 1 阶\n",
    "2. 2 阶\n",
    "示例 2：\n",
    "\n",
    "输入：n = 3\n",
    "输出：3\n",
    "解释：有三种方法可以爬到楼顶。\n",
    "1. 1 阶 + 1 阶 + 1 阶\n",
    "2. 1 阶 + 2 阶\n",
    "3. 2 阶 + 1 阶\n",
    " \n",
    "\n",
    "提示：\n",
    "\n",
    "1 <= n <= 45"
   ]
  },
  {
   "cell_type": "code",
   "execution_count": 15,
   "metadata": {},
   "outputs": [],
   "source": [
    "# f(n)=f(n-1)+f(n-2)超时\n",
    "class Solution:\n",
    "    def climbStairs(self,n: int) -> int:\n",
    "         if n==1:\n",
    "            ans=1\n",
    "         elif n==2:\n",
    "            ans=2\n",
    "         else:\n",
    "            # 类方法调用函数要遵循self.函数名\n",
    "            ans=self.climbStairs(n-1)+self.climbStairs(n-2)\n",
    "         return ans"
   ]
  },
  {
   "cell_type": "code",
   "execution_count": 17,
   "metadata": {},
   "outputs": [
    {
     "data": {
      "text/plain": [
       "2"
      ]
     },
     "execution_count": 17,
     "metadata": {},
     "output_type": "execute_result"
    }
   ],
   "source": [
    "sol=Solution()\n",
    "sol.climbStairs(2)"
   ]
  },
  {
   "cell_type": "code",
   "execution_count": 8,
   "metadata": {},
   "outputs": [],
   "source": [
    "class Solution:\n",
    "    def climbStairs(self, n: int) -> int:\n",
    "        \"\"\"dfs: 超时\"\"\"\n",
    "        def dfs(n: int) -> int:\n",
    "            if n == 1 or n == 2:\n",
    "                return n\n",
    "            return dfs(n - 1) + dfs(n - 2)\n",
    "        return dfs(n)"
   ]
  },
  {
   "cell_type": "code",
   "execution_count": 9,
   "metadata": {},
   "outputs": [
    {
     "data": {
      "text/plain": [
       "3"
      ]
     },
     "execution_count": 9,
     "metadata": {},
     "output_type": "execute_result"
    }
   ],
   "source": [
    "sol=Solution()\n",
    "sol.climbStairs(3)"
   ]
  },
  {
   "cell_type": "code",
   "execution_count": 18,
   "metadata": {},
   "outputs": [],
   "source": [
    "# f(n)=f(n-1)+f(n-2)+记忆（超时）\n",
    "class Solution:\n",
    "    def climbStairs(self,n: int) -> int:\n",
    "         mem=[0 for _ in range(n+1)]\n",
    "         if n==1:\n",
    "            ans=1\n",
    "         elif n==2:\n",
    "            ans=2\n",
    "         else:\n",
    "            if mem[n]==0:\n",
    "                ans=self.climbStairs(n-1)+self.climbStairs(n-2)\n",
    "         return ans"
   ]
  },
  {
   "cell_type": "code",
   "execution_count": 19,
   "metadata": {},
   "outputs": [
    {
     "data": {
      "text/plain": [
       "3"
      ]
     },
     "execution_count": 19,
     "metadata": {},
     "output_type": "execute_result"
    }
   ],
   "source": [
    "sol=Solution()\n",
    "sol.climbStairs(3)"
   ]
  },
  {
   "cell_type": "code",
   "execution_count": 21,
   "metadata": {},
   "outputs": [],
   "source": [
    "# 动态规划\n",
    "class Solution:\n",
    "    def climbStairs(self, n: int) -> int:\n",
    "        if n == 1 or n == 2:\n",
    "            return n\n",
    "\n",
    "        dp = [0 for _ in range(n + 1)]\n",
    "        dp[1], dp[2] = 1, 2\n",
    "\n",
    "        for i in range(3, n + 1):\n",
    "            dp[i] = dp[i - 1] + dp[i - 2]\n",
    "\n",
    "        return dp[n]"
   ]
  },
  {
   "cell_type": "code",
   "execution_count": null,
   "metadata": {},
   "outputs": [],
   "source": []
  }
 ],
 "metadata": {
  "kernelspec": {
   "display_name": "Python 3 (ipykernel)",
   "language": "python",
   "name": "python3"
  },
  "language_info": {
   "codemirror_mode": {
    "name": "ipython",
    "version": 3
   },
   "file_extension": ".py",
   "mimetype": "text/x-python",
   "name": "python",
   "nbconvert_exporter": "python",
   "pygments_lexer": "ipython3",
   "version": "3.9.12"
  },
  "vscode": {
   "interpreter": {
    "hash": "a825f8e8905b8e64233e6384cfa1616d0baa442a3b458fa78e4916d5c671b0d4"
   }
  }
 },
 "nbformat": 4,
 "nbformat_minor": 2
}
