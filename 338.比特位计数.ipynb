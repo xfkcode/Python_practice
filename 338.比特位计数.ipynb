{
 "cells": [
  {
   "cell_type": "markdown",
   "metadata": {},
   "source": [
    "给你一个整数 n ，对于 0 <= i <= n 中的每个 i ，计算其二进制表示中 1 的个数 ，返回一个长度为 n + 1 的数组 ans 作为答案。\n",
    "\n",
    " \n",
    "\n",
    "示例 1：  \n",
    "输入：n = 2  \n",
    "输出：[0,1,1]  \n",
    "解释：  \n",
    "0 --> 0  \n",
    "1 --> 1  \n",
    "2 --> 10  \n",
    "\n",
    "示例 2：  \n",
    "输入：n = 5  \n",
    "输出：[0,1,1,2,1,2]  \n",
    "解释：  \n",
    "0 --> 0  \n",
    "1 --> 1  \n",
    "2 --> 10  \n",
    "3 --> 11  \n",
    "4 --> 100  \n",
    "5 --> 101  \n",
    " \n",
    "\n",
    "提示：\n",
    "\n",
    "0 <= n <= 10^5\n",
    " \n",
    "\n",
    "进阶：\n",
    "\n",
    "很容易就能实现时间复杂度为 O(n log n) 的解决方案，你可以在线性时间复杂度 O(n) 内用一趟扫描解决此问题吗？  \n",
    "你能不使用任何内置函数解决此问题吗？（如，C++ 中的 __builtin_popcount ）"
   ]
  },
  {
   "cell_type": "code",
   "execution_count": 9,
   "metadata": {},
   "outputs": [],
   "source": [
    "# x=x&(x-1)将x二进制最后一位1变0\n",
    "class Solution:\n",
    "    def countBits(self, n: int) -> list[int]:\n",
    "        ans=[]\n",
    "        for num in range(n+1):\n",
    "            count=0\n",
    "            while num!=0:\n",
    "                num=num&(num-1)\n",
    "                count+=1\n",
    "            ans.append(count)\n",
    "        return ans"
   ]
  },
  {
   "cell_type": "code",
   "execution_count": 10,
   "metadata": {},
   "outputs": [
    {
     "data": {
      "text/plain": [
       "[0, 1, 1]"
      ]
     },
     "execution_count": 10,
     "metadata": {},
     "output_type": "execute_result"
    }
   ],
   "source": [
    "sol=Solution()\n",
    "sol.countBits(2)"
   ]
  },
  {
   "cell_type": "code",
   "execution_count": 11,
   "metadata": {},
   "outputs": [
    {
     "data": {
      "text/plain": [
       "[0, 1, 1, 2, 1, 2]"
      ]
     },
     "execution_count": 11,
     "metadata": {},
     "output_type": "execute_result"
    }
   ],
   "source": [
    "sol=Solution()\n",
    "sol.countBits(5)"
   ]
  },
  {
   "cell_type": "code",
   "execution_count": null,
   "metadata": {},
   "outputs": [],
   "source": []
  }
 ],
 "metadata": {
  "kernelspec": {
   "display_name": "Python 3.9.12 ('base')",
   "language": "python",
   "name": "python3"
  },
  "language_info": {
   "codemirror_mode": {
    "name": "ipython",
    "version": 3
   },
   "file_extension": ".py",
   "mimetype": "text/x-python",
   "name": "python",
   "nbconvert_exporter": "python",
   "pygments_lexer": "ipython3",
   "version": "3.9.12"
  },
  "orig_nbformat": 4,
  "vscode": {
   "interpreter": {
    "hash": "a825f8e8905b8e64233e6384cfa1616d0baa442a3b458fa78e4916d5c671b0d4"
   }
  }
 },
 "nbformat": 4,
 "nbformat_minor": 2
}
