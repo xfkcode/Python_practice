{
 "cells": [
  {
   "cell_type": "markdown",
   "metadata": {},
   "source": [
    "给你两个二进制字符串，返回它们的和（用二进制表示）。\n",
    "\n",
    "输入为 非空 字符串且只包含数字 1 和 0。\n",
    "\n",
    " \n",
    "示例 1:\n",
    "\n",
    "输入: a = \"11\", b = \"1\"\n",
    "输出: \"100\"\n",
    "\n",
    "示例 2:\n",
    "\n",
    "输入: a = \"1010\", b = \"1011\"\n",
    "输出: \"10101\"\n",
    " \n",
    "\n",
    "提示：\n",
    "\n",
    "每个字符串仅由字符 '0' 或 '1' 组成。\n",
    "1 <= a.length, b.length <= 10^4\n",
    "字符串如果不是 \"0\" ，就都不含前导零。"
   ]
  },
  {
   "cell_type": "code",
   "execution_count": 9,
   "metadata": {},
   "outputs": [],
   "source": [
    "class Solution:\n",
    "    def addBinary(self,a: str,b:str) -> str:\n",
    "        # 短补零\n",
    "        while len(a)!=len(b):\n",
    "            if len(a)<len(b):\n",
    "                a='0'+a\n",
    "            else:\n",
    "                b='0'+b\n",
    "        # 位加\n",
    "        jw=0\n",
    "        i=len(a)-1\n",
    "        ret=''\n",
    "        while i>=0:\n",
    "            if int(a[i])+int(b[i])+jw>2:\n",
    "                bit=1\n",
    "                jw=1\n",
    "            elif int(a[i])+int(b[i])+jw>1:\n",
    "                bit=0\n",
    "                jw=1\n",
    "            elif int(a[i])+int(b[i])+jw>0:\n",
    "                bit=1\n",
    "                jw=0\n",
    "            else:\n",
    "                bit=0\n",
    "                jw=0\n",
    "            ret=str(bit)+ret\n",
    "            i-=1\n",
    "        # 最高位进位\n",
    "        if jw==1:\n",
    "            ret='1'+ret\n",
    "        return ret"
   ]
  },
  {
   "cell_type": "code",
   "execution_count": 11,
   "metadata": {},
   "outputs": [
    {
     "name": "stdout",
     "output_type": "stream",
     "text": [
      "1010 1011\n"
     ]
    },
    {
     "data": {
      "text/plain": [
       "'10101'"
      ]
     },
     "execution_count": 11,
     "metadata": {},
     "output_type": "execute_result"
    }
   ],
   "source": [
    "sol=Solution()\n",
    "sol.addBinary('1010','1011')"
   ]
  },
  {
   "cell_type": "code",
   "execution_count": 12,
   "metadata": {},
   "outputs": [
    {
     "name": "stdout",
     "output_type": "stream",
     "text": [
      "11 01\n"
     ]
    },
    {
     "data": {
      "text/plain": [
       "'100'"
      ]
     },
     "execution_count": 12,
     "metadata": {},
     "output_type": "execute_result"
    }
   ],
   "source": [
    "sol=Solution()\n",
    "sol.addBinary('11','1')"
   ]
  },
  {
   "cell_type": "code",
   "execution_count": null,
   "metadata": {},
   "outputs": [],
   "source": []
  }
 ],
 "metadata": {
  "kernelspec": {
   "display_name": "Python 3.9.12 ('base')",
   "language": "python",
   "name": "python3"
  },
  "language_info": {
   "codemirror_mode": {
    "name": "ipython",
    "version": 3
   },
   "file_extension": ".py",
   "mimetype": "text/x-python",
   "name": "python",
   "nbconvert_exporter": "python",
   "pygments_lexer": "ipython3",
   "version": "3.9.12"
  },
  "orig_nbformat": 4,
  "vscode": {
   "interpreter": {
    "hash": "a825f8e8905b8e64233e6384cfa1616d0baa442a3b458fa78e4916d5c671b0d4"
   }
  }
 },
 "nbformat": 4,
 "nbformat_minor": 2
}
