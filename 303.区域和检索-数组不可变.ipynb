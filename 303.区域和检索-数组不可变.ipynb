{
 "cells": [
  {
   "cell_type": "markdown",
   "metadata": {},
   "source": [
    "给定一个整数数组  nums，处理以下类型的多个查询:\n",
    "\n",
    "计算索引 left 和 right （包含 left 和 right）之间的 nums 元素的 和 ，其中 left <= right\n",
    "\n",
    "实现 NumArray 类：\n",
    "\n",
    "NumArray(int[] nums) 使用数组 nums 初始化对象\n",
    "int sumRange(int i, int j) 返回数组 nums 中索引 left 和 right 之间的元素的 总和 ，  \n",
    "包含 left 和 right 两点（也就是 nums[left] + nums[left + 1] + ... + nums[right] )\n",
    " \n",
    "\n",
    "示例 1：\n",
    "\n",
    "输入：  \n",
    "[\"NumArray\", \"sumRange\", \"sumRange\", \"sumRange\"]\n",
    "[[[-2, 0, 3, -5, 2, -1]], [0, 2], [2, 5], [0, 5]]  \n",
    "输出：  \n",
    "[null, 1, -1, -3]  \n",
    "\n",
    "解释：  \n",
    "NumArray numArray = new NumArray([-2, 0, 3, -5, 2, -1]);  \n",
    "numArray.sumRange(0, 2); // return 1 ((-2) + 0 + 3)  \n",
    "numArray.sumRange(2, 5); // return -1 (3 + (-5) + 2 + (-1))   \n",
    "numArray.sumRange(0, 5); // return -3 ((-2) + 0 + 3 + (-5) + 2 + (-1))  \n",
    " \n",
    "\n",
    "提示：\n",
    "\n",
    "1 <= nums.length <= 10^4  \n",
    "-10^5 <= nums[i] <= 10^5  \n",
    "0 <= i <= j < nums.length  \n",
    "最多调用 10^4 次 sumRange 方法"
   ]
  },
  {
   "cell_type": "code",
   "execution_count": 1,
   "metadata": {},
   "outputs": [],
   "source": [
    "class NumArray:\n",
    "\n",
    "    def __init__(self, nums: list[int]):\n",
    "        self.nums=nums\n",
    "\n",
    "    def sumRange(self, left: int, right: int) -> int:\n",
    "        sum=0\n",
    "        while left<=right:\n",
    "            if left!=right:\n",
    "                sum+=(self.nums[left]+self.nums[right])\n",
    "            else:\n",
    "                sum+=self.nums[left]\n",
    "            left+=1;right-=1\n",
    "        return sum\n",
    "\n",
    "# Your NumArray object will be instantiated and called as such:\n",
    "# obj = NumArray(nums)\n",
    "# param_1 = obj.sumRange(left,right)"
   ]
  },
  {
   "cell_type": "code",
   "execution_count": 2,
   "metadata": {},
   "outputs": [
    {
     "name": "stdout",
     "output_type": "stream",
     "text": [
      "1\n",
      "-1\n",
      "-3\n"
     ]
    }
   ],
   "source": [
    "obj=NumArray([-2, 0, 3, -5, 2, -1])\n",
    "print(obj.sumRange(0,2))\n",
    "print(obj.sumRange(2,5))\n",
    "print(obj.sumRange(0,5))"
   ]
  },
  {
   "cell_type": "code",
   "execution_count": 3,
   "metadata": {},
   "outputs": [],
   "source": [
    "class Num_Array:\n",
    "\n",
    "    def __init__(self, nums: list[int]):\n",
    "        self.sums = [0]\n",
    "        _sums = self.sums\n",
    "\n",
    "        for num in nums:\n",
    "            _sums.append(_sums[-1] + num)\n",
    "\n",
    "    def sumRange(self, i: int, j: int) -> int:\n",
    "        _sums = self.sums\n",
    "        return _sums[j + 1] - _sums[i]"
   ]
  },
  {
   "cell_type": "code",
   "execution_count": null,
   "metadata": {},
   "outputs": [],
   "source": []
  }
 ],
 "metadata": {
  "kernelspec": {
   "display_name": "Python 3.9.12 ('base')",
   "language": "python",
   "name": "python3"
  },
  "language_info": {
   "codemirror_mode": {
    "name": "ipython",
    "version": 3
   },
   "file_extension": ".py",
   "mimetype": "text/x-python",
   "name": "python",
   "nbconvert_exporter": "python",
   "pygments_lexer": "ipython3",
   "version": "3.9.12"
  },
  "orig_nbformat": 4,
  "vscode": {
   "interpreter": {
    "hash": "a825f8e8905b8e64233e6384cfa1616d0baa442a3b458fa78e4916d5c671b0d4"
   }
  }
 },
 "nbformat": 4,
 "nbformat_minor": 2
}
