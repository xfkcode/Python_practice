{
 "cells": [
  {
   "cell_type": "markdown",
   "metadata": {},
   "source": [
    "给你一个字符串 s，找到 s 中最长的回文子串。\n",
    "\n",
    "\n",
    "示例 1：\n",
    "\n",
    "输入：s = \"babad\"\n",
    "输出：\"bab\"\n",
    "解释：\"aba\" 同样是符合题意的答案。\n",
    "\n",
    "示例 2：\n",
    "\n",
    "输入：s = \"cbbd\"\n",
    "输出：\"bb\"\n",
    " \n",
    "\n",
    "提示：\n",
    "\n",
    "1 <= s.length <= 1000\n",
    "s 仅由数字和英文字母组成"
   ]
  },
  {
   "cell_type": "code",
   "execution_count": 11,
   "metadata": {},
   "outputs": [],
   "source": [
    "# 最长回文子串，返回最后一个最长回文子串\n",
    "def longestPalindrome(str):\n",
    "    lenstr=len(str)\n",
    "    lensubstrmax=0\n",
    "    longestsubstr=''\n",
    "# i起始索引\n",
    "    for i in range(lenstr):\n",
    "# j窗口宽度，lenstr-(i+1)+1：除去i个字符的长度\n",
    "        for j in range(2,(lenstr-(i+1)+1)+1):\n",
    "            substr=str[i:i+j]\n",
    "            substr1=substr[0]\n",
    "            substr2=substr[-1]\n",
    "            lensubstr=len(substr)\n",
    "            if substr1==substr2:\n",
    "# <= 尾最长回文子串，< 首最长回文子串\n",
    "                if lensubstrmax<=lensubstr:  \n",
    "                    if lensubstrmax==lensubstr:\n",
    "                        pass\n",
    "                        # print(longestsubstr)\n",
    "                    lensubstrmax=lensubstr\n",
    "                    longestsubstr=substr\n",
    "                continue\n",
    "            else:\n",
    "                continue\n",
    "    return longestsubstr"
   ]
  },
  {
   "cell_type": "code",
   "execution_count": 14,
   "metadata": {},
   "outputs": [
    {
     "name": "stdout",
     "output_type": "stream",
     "text": [
      "dhfd\n"
     ]
    }
   ],
   "source": [
    "maxsubstr=longestPalindrome('abdhfd')\n",
    "print(maxsubstr)"
   ]
  },
  {
   "cell_type": "code",
   "execution_count": 13,
   "metadata": {},
   "outputs": [
    {
     "name": "stdout",
     "output_type": "stream",
     "text": [
      "aba\n"
     ]
    }
   ],
   "source": [
    "maxsubstr=longestPalindrome('babad')\n",
    "print(maxsubstr)"
   ]
  },
  {
   "cell_type": "code",
   "execution_count": 5,
   "metadata": {},
   "outputs": [
    {
     "name": "stdout",
     "output_type": "stream",
     "text": [
      "aa\n",
      "bb\n",
      "ss\n"
     ]
    }
   ],
   "source": [
    "maxsubstr=longestPalindrome('aabbss')\n",
    "print(maxsubstr)"
   ]
  },
  {
   "cell_type": "code",
   "execution_count": 6,
   "metadata": {},
   "outputs": [
    {
     "name": "stdout",
     "output_type": "stream",
     "text": [
      "bib\n",
      "fof\n",
      "gcg\n"
     ]
    }
   ],
   "source": [
    "maxsubstr=longestPalindrome('aabibssfofgcg')\n",
    "print(maxsubstr)"
   ]
  },
  {
   "cell_type": "code",
   "execution_count": 25,
   "metadata": {},
   "outputs": [],
   "source": [
    "# 最长回文子串，返回首个最长回文子串\n",
    "class Solution:\n",
    "    def LongestPalindrome(self,s:str) -> str:\n",
    "        lenstr=len(s)\n",
    "        lensubstrmax=0\n",
    "        longestsubstr=''\n",
    "        if lenstr==1:\n",
    "            return s\n",
    "    # i起始索引\n",
    "        for i in range(lenstr):\n",
    "    # j窗口宽度，lenstr-(i+1)+1：除去i个字符的长度\n",
    "            for j in range(1,(lenstr-(i+1)+1)+1):\n",
    "                substr=s[i:i+j]\n",
    "                substr1=substr[0]\n",
    "                substr2=substr[-1]\n",
    "                lensubstr=len(substr)\n",
    "                if substr1==substr2:\n",
    "    # <= 尾最长回文子串，< 首最长回文子串\n",
    "                    if lensubstrmax<lensubstr:  \n",
    "                        # if lensubstrmax==lensubstr:\n",
    "                        #   print(longestsubstr)\n",
    "                        lensubstrmax=lensubstr\n",
    "                        longestsubstr=substr\n",
    "                    continue\n",
    "                else:\n",
    "                    continue\n",
    "        return longestsubstr"
   ]
  },
  {
   "cell_type": "code",
   "execution_count": 20,
   "metadata": {},
   "outputs": [
    {
     "data": {
      "text/plain": [
       "'bib'"
      ]
     },
     "execution_count": 20,
     "metadata": {},
     "output_type": "execute_result"
    }
   ],
   "source": [
    "sol=Solution()\n",
    "sol.LongestPalindrome('aabibssfofgcg')"
   ]
  },
  {
   "cell_type": "code",
   "execution_count": 22,
   "metadata": {},
   "outputs": [
    {
     "data": {
      "text/plain": [
       "'a'"
      ]
     },
     "execution_count": 22,
     "metadata": {},
     "output_type": "execute_result"
    }
   ],
   "source": [
    "sol=Solution()\n",
    "sol.LongestPalindrome('a')"
   ]
  },
  {
   "cell_type": "code",
   "execution_count": 26,
   "metadata": {},
   "outputs": [
    {
     "data": {
      "text/plain": [
       "'a'"
      ]
     },
     "execution_count": 26,
     "metadata": {},
     "output_type": "execute_result"
    }
   ],
   "source": [
    "sol=Solution()\n",
    "sol.LongestPalindrome('ac')"
   ]
  },
  {
   "cell_type": "code",
   "execution_count": 27,
   "metadata": {},
   "outputs": [
    {
     "data": {
      "text/plain": [
       "'aacabdkacaa'"
      ]
     },
     "execution_count": 27,
     "metadata": {},
     "output_type": "execute_result"
    }
   ],
   "source": [
    "sol=Solution()\n",
    "sol.LongestPalindrome('aacabdkacaa')\n",
    "# 预期'aca'"
   ]
  },
  {
   "cell_type": "code",
   "execution_count": 28,
   "metadata": {},
   "outputs": [],
   "source": [
    "# 力扣标准解\n",
    "class Solution:\n",
    "    def longestPalindrome(self, s: str) -> str:\n",
    "        n = len(s)\n",
    "        if n < 2:\n",
    "            return s\n",
    "        \n",
    "        max_len = 1\n",
    "        begin = 0\n",
    "        # dp[i][j] 表示 s[i..j] 是否是回文串\n",
    "        dp = [[False] * n for _ in range(n)]\n",
    "        for i in range(n):\n",
    "            dp[i][i] = True\n",
    "        \n",
    "        # 递推开始\n",
    "        # 先枚举子串长度\n",
    "        for L in range(2, n + 1):\n",
    "            # 枚举左边界，左边界的上限设置可以宽松一些\n",
    "            for i in range(n):\n",
    "                # 由 L 和 i 可以确定右边界，即 j - i + 1 = L 得\n",
    "                j = L + i - 1\n",
    "                # 如果右边界越界，就可以退出当前循环\n",
    "                if j >= n:\n",
    "                    break\n",
    "                    \n",
    "                if s[i] != s[j]:\n",
    "                    dp[i][j] = False \n",
    "                else:\n",
    "                    if j - i < 3:\n",
    "                        dp[i][j] = True\n",
    "                    else:\n",
    "                        dp[i][j] = dp[i + 1][j - 1]\n",
    "                \n",
    "                # 只要 dp[i][L] == true 成立，就表示子串 s[i..L] 是回文，此时记录回文长度和起始位置\n",
    "                if dp[i][j] and j - i + 1 > max_len:\n",
    "                    max_len = j - i + 1\n",
    "                    begin = i\n",
    "        return s[begin:begin + max_len]"
   ]
  },
  {
   "cell_type": "code",
   "execution_count": 29,
   "metadata": {},
   "outputs": [
    {
     "data": {
      "text/plain": [
       "'aca'"
      ]
     },
     "execution_count": 29,
     "metadata": {},
     "output_type": "execute_result"
    }
   ],
   "source": [
    "sol=Solution()\n",
    "sol.longestPalindrome('aacabdkacaa')\n",
    "# 预期'aca'"
   ]
  },
  {
   "cell_type": "code",
   "execution_count": null,
   "metadata": {},
   "outputs": [],
   "source": []
  }
 ],
 "metadata": {
  "kernelspec": {
   "display_name": "Python 3.9.12 ('base')",
   "language": "python",
   "name": "python3"
  },
  "language_info": {
   "codemirror_mode": {
    "name": "ipython",
    "version": 3
   },
   "file_extension": ".py",
   "mimetype": "text/x-python",
   "name": "python",
   "nbconvert_exporter": "python",
   "pygments_lexer": "ipython3",
   "version": "3.9.12"
  },
  "vscode": {
   "interpreter": {
    "hash": "a825f8e8905b8e64233e6384cfa1616d0baa442a3b458fa78e4916d5c671b0d4"
   }
  }
 },
 "nbformat": 4,
 "nbformat_minor": 2
}
