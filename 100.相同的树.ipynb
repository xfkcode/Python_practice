{
 "cells": [
  {
   "cell_type": "markdown",
   "metadata": {},
   "source": [
    "给你两棵二叉树的根节点 p 和 q ，编写一个函数来检验这两棵树是否相同。\n",
    "\n",
    "如果两个树在结构上相同，并且节点具有相同的值，则认为它们是相同的。\n",
    "\n",
    " \n",
    "示例 1：\n",
    "输入：p = [1,2,3], q = [1,2,3]\n",
    "输出：true\n",
    "\n",
    "示例 2：\n",
    "输入：p = [1,2], q = [1,null,2]\n",
    "输出：false\n",
    "\n",
    "示例 3：\n",
    "输入：p = [1,2,1], q = [1,1,2]\n",
    "输出：false\n",
    " \n",
    "\n",
    "提示：\n",
    "\n",
    "两棵树上的节点数目都在范围 [0, 100] 内\n",
    "-104 <= Node.val <= 104"
   ]
  },
  {
   "cell_type": "code",
   "execution_count": 1,
   "metadata": {},
   "outputs": [],
   "source": [
    "# 递归\n",
    "class TreeNode:\n",
    "    def __init__(self, val=0, left=None, right=None):\n",
    "        self.val = val\n",
    "        self.left = left\n",
    "        self.right = right\n",
    "        \n",
    "class Solution:\n",
    "    def isSameTree(self, p: TreeNode, q: TreeNode) -> bool:\n",
    "        if not p and not q:\n",
    "            return True\n",
    "        elif (p==None and q!=None) or (p!=None and q==None):\n",
    "            return False\n",
    "        else:\n",
    "            if p.val==q.val:\n",
    "                 if self.isSameTree(p.left,q.left):\n",
    "                    if self.isSameTree(p.right,q.right):\n",
    "                        return True\n",
    "            return False"
   ]
  },
  {
   "cell_type": "code",
   "execution_count": 2,
   "metadata": {},
   "outputs": [
    {
     "data": {
      "text/plain": [
       "True"
      ]
     },
     "execution_count": 2,
     "metadata": {},
     "output_type": "execute_result"
    }
   ],
   "source": [
    "# Tree1:[1,2,3]\n",
    "right11=TreeNode(3)\n",
    "left11=TreeNode(2)\n",
    "root1=TreeNode(1,left11,right11)\n",
    "# Tree2:[1,2,3]\n",
    "right21=TreeNode(3)\n",
    "left21=TreeNode(2)\n",
    "root2=TreeNode(1,left21,right21)\n",
    "\n",
    "sol=Solution()\n",
    "sol.isSameTree(root1,root2)"
   ]
  },
  {
   "cell_type": "code",
   "execution_count": 3,
   "metadata": {},
   "outputs": [
    {
     "data": {
      "text/plain": [
       "False"
      ]
     },
     "execution_count": 3,
     "metadata": {},
     "output_type": "execute_result"
    }
   ],
   "source": [
    "# Tree1:[1,2]\n",
    "left11=TreeNode(2)\n",
    "root1=TreeNode(1,left11)\n",
    "# Tree2:[1,null,3]\n",
    "right21=TreeNode(3)\n",
    "root2=TreeNode(1,None,right21)\n",
    "\n",
    "sol=Solution()\n",
    "sol.isSameTree(root1,root2)"
   ]
  },
  {
   "cell_type": "code",
   "execution_count": 4,
   "metadata": {},
   "outputs": [
    {
     "data": {
      "text/plain": [
       "False"
      ]
     },
     "execution_count": 4,
     "metadata": {},
     "output_type": "execute_result"
    }
   ],
   "source": [
    "# Tree1:[1,2,1]\n",
    "right11=TreeNode(1)\n",
    "left11=TreeNode(2)\n",
    "root1=TreeNode(1,left11,right11)\n",
    "# Tree2:[1,1,2]\n",
    "right21=TreeNode(2)\n",
    "left21=TreeNode(1)\n",
    "root2=TreeNode(1,left21,right21)\n",
    "\n",
    "sol=Solution()\n",
    "sol.isSameTree(root1,root2)"
   ]
  },
  {
   "cell_type": "code",
   "execution_count": 8,
   "metadata": {},
   "outputs": [],
   "source": [
    "# 力扣标准解，深度优先搜索\n",
    "class Solution:\n",
    "    def IsSameTree(self, p: TreeNode, q: TreeNode) -> bool:\n",
    "        if not p and not q:\n",
    "            return True\n",
    "        elif not p or not q:\n",
    "            return False\n",
    "        elif p.val != q.val:\n",
    "            return False\n",
    "        else:\n",
    "            return self.IsSameTree(p.left, q.left) and self.IsSameTree(p.right, q.right)"
   ]
  },
  {
   "cell_type": "code",
   "execution_count": 9,
   "metadata": {},
   "outputs": [
    {
     "data": {
      "text/plain": [
       "False"
      ]
     },
     "execution_count": 9,
     "metadata": {},
     "output_type": "execute_result"
    }
   ],
   "source": [
    "# Tree1:[1,2,1]\n",
    "right11=TreeNode(1)\n",
    "left11=TreeNode(2)\n",
    "root1=TreeNode(1,left11,right11)\n",
    "# Tree2:[1,1,2]\n",
    "right21=TreeNode(2)\n",
    "left21=TreeNode(1)\n",
    "root2=TreeNode(1,left21,right21)\n",
    "\n",
    "sol=Solution()\n",
    "sol.IsSameTree(root1,root2)"
   ]
  },
  {
   "cell_type": "code",
   "execution_count": null,
   "metadata": {},
   "outputs": [],
   "source": []
  }
 ],
 "metadata": {
  "kernelspec": {
   "display_name": "Python 3.9.12 ('base')",
   "language": "python",
   "name": "python3"
  },
  "language_info": {
   "codemirror_mode": {
    "name": "ipython",
    "version": 3
   },
   "file_extension": ".py",
   "mimetype": "text/x-python",
   "name": "python",
   "nbconvert_exporter": "python",
   "pygments_lexer": "ipython3",
   "version": "3.9.12"
  },
  "orig_nbformat": 4,
  "vscode": {
   "interpreter": {
    "hash": "a825f8e8905b8e64233e6384cfa1616d0baa442a3b458fa78e4916d5c671b0d4"
   }
  }
 },
 "nbformat": 4,
 "nbformat_minor": 2
}
