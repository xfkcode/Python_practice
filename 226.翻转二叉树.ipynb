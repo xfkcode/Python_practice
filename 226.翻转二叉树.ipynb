{
 "cells": [
  {
   "cell_type": "markdown",
   "metadata": {},
   "source": [
    "给你一棵二叉树的根节点 root ，翻转这棵二叉树，并返回其根节点。\n",
    "\n",
    " \n",
    "示例 1：\n",
    "输入：root = [4,2,7,1,3,6,9]\n",
    "输出：[4,7,2,9,6,3,1]\n",
    "\n",
    "示例 2：\n",
    "输入：root = [2,1,3]\n",
    "输出：[2,3,1]\n",
    "\n",
    "示例 3：\n",
    "输入：root = []\n",
    "输出：[]\n",
    " \n",
    "\n",
    "提示：\n",
    "\n",
    "树中节点数目范围在 [0, 100] 内\n",
    "-100 <= Node.val <= 100"
   ]
  },
  {
   "cell_type": "code",
   "execution_count": 2,
   "metadata": {},
   "outputs": [],
   "source": [
    "\n",
    "class TreeNode:\n",
    "    def __init__(self, val=0, left=None, right=None):\n",
    "        self.val = val\n",
    "        self.left = left\n",
    "        self.right = right\n",
    "class Solution:\n",
    "    def invertTree(self, root: TreeNode) -> TreeNode:\n",
    "        def invert(node):\n",
    "            if node==None:\n",
    "                return\n",
    "            temp=node.left\n",
    "            node.left=node.right\n",
    "            node.right=temp\n",
    "            if node.left!=None or node.right!=None:\n",
    "                invert(node.left)\n",
    "                invert(node.right)\n",
    "            return\n",
    "        if root==None:\n",
    "            return root\n",
    "        invert(root)\n",
    "        return root\n",
    "        "
   ]
  },
  {
   "cell_type": "code",
   "execution_count": 6,
   "metadata": {},
   "outputs": [
    {
     "name": "stdout",
     "output_type": "stream",
     "text": [
      "[2, 3, 1]\n"
     ]
    }
   ],
   "source": [
    "# [2,1,3]\n",
    "right=TreeNode(val=3)\n",
    "left=TreeNode(val=1)\n",
    "root=TreeNode(val=2,left=left,right=right)\n",
    "\n",
    "sol=Solution()\n",
    "sol.invertTree(root)\n",
    "def Treelist(root,ans):\n",
    "    if root==None:\n",
    "        return ans\n",
    "    ans.append(root.val)\n",
    "    if root.left!=None:\n",
    "        Treelist(root.left,ans)\n",
    "    if root.right!=None:\n",
    "        Treelist(root.right,ans)\n",
    "    return ans\n",
    "ans=[]\n",
    "print(Treelist(root,ans))\n",
    "    "
   ]
  },
  {
   "cell_type": "code",
   "execution_count": null,
   "metadata": {},
   "outputs": [],
   "source": []
  }
 ],
 "metadata": {
  "kernelspec": {
   "display_name": "Python 3.9.12 ('base')",
   "language": "python",
   "name": "python3"
  },
  "language_info": {
   "codemirror_mode": {
    "name": "ipython",
    "version": 3
   },
   "file_extension": ".py",
   "mimetype": "text/x-python",
   "name": "python",
   "nbconvert_exporter": "python",
   "pygments_lexer": "ipython3",
   "version": "3.9.12"
  },
  "orig_nbformat": 4,
  "vscode": {
   "interpreter": {
    "hash": "a825f8e8905b8e64233e6384cfa1616d0baa442a3b458fa78e4916d5c671b0d4"
   }
  }
 },
 "nbformat": 4,
 "nbformat_minor": 2
}
