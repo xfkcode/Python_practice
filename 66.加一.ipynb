{
 "cells": [
  {
   "cell_type": "markdown",
   "metadata": {},
   "source": [
    "给定一个由 整数 组成的 非空 数组所表示的非负整数，在该数的基础上加一。\n",
    "\n",
    "最高位数字存放在数组的首位， 数组中每个元素只存储单个数字。\n",
    "\n",
    "你可以假设除了整数 0 之外，这个整数不会以零开头。\n",
    "\n",
    " \n",
    "示例 1：\n",
    "输入：digits = [1,2,3]\n",
    "输出：[1,2,4]\n",
    "解释：输入数组表示数字 123。\n",
    "\n",
    "示例 2：\n",
    "输入：digits = [4,3,2,1]\n",
    "输出：[4,3,2,2]\n",
    "解释：输入数组表示数字 4321。\n",
    "\n",
    "示例 3：\n",
    "输入：digits = [0]\n",
    "输出：[1]\n",
    " \n",
    "\n",
    "提示：\n",
    "\n",
    "1 <= digits.length <= 100\n",
    "0 <= digits[i] <= 9"
   ]
  },
  {
   "cell_type": "code",
   "execution_count": 12,
   "metadata": {},
   "outputs": [],
   "source": [
    "class Solution:\n",
    "    def plusOne(self,digits:list[int]) -> list[int]:\n",
    "        i=len(digits)-1\n",
    "        jw=0\n",
    "        while i>=0:\n",
    "            if digits[i]+1+jw>9 and i==len(digits)-1:\n",
    "                jw=1\n",
    "                digits[i]=0\n",
    "                i-=1\n",
    "            elif digits[i]+jw>9:\n",
    "                digits[i]=0\n",
    "                i-=1\n",
    "            else:\n",
    "                digits[i]+=1\n",
    "                return digits\n",
    "        if jw==1:\n",
    "            digits.insert(0,jw)\n",
    "        return digits\n"
   ]
  },
  {
   "cell_type": "code",
   "execution_count": 15,
   "metadata": {},
   "outputs": [
    {
     "data": {
      "text/plain": [
       "[1, 0, 0, 0]"
      ]
     },
     "execution_count": 15,
     "metadata": {},
     "output_type": "execute_result"
    }
   ],
   "source": [
    "sol=Solution()\n",
    "sol.plusOne([9,9,9])"
   ]
  },
  {
   "cell_type": "code",
   "execution_count": 16,
   "metadata": {},
   "outputs": [
    {
     "data": {
      "text/plain": [
       "[1, 2, 4]"
      ]
     },
     "execution_count": 16,
     "metadata": {},
     "output_type": "execute_result"
    }
   ],
   "source": [
    "sol=Solution()\n",
    "sol.plusOne([1,2,3])"
   ]
  },
  {
   "cell_type": "code",
   "execution_count": 17,
   "metadata": {},
   "outputs": [
    {
     "data": {
      "text/plain": [
       "[4, 3, 2, 2]"
      ]
     },
     "execution_count": 17,
     "metadata": {},
     "output_type": "execute_result"
    }
   ],
   "source": [
    "sol=Solution()\n",
    "sol.plusOne([4,3,2,1])"
   ]
  },
  {
   "cell_type": "code",
   "execution_count": 18,
   "metadata": {},
   "outputs": [
    {
     "data": {
      "text/plain": [
       "[1, 0]"
      ]
     },
     "execution_count": 18,
     "metadata": {},
     "output_type": "execute_result"
    }
   ],
   "source": [
    "sol=Solution()\n",
    "sol.plusOne([9])"
   ]
  },
  {
   "cell_type": "code",
   "execution_count": 19,
   "metadata": {},
   "outputs": [
    {
     "data": {
      "text/plain": [
       "[2, 0, 0]"
      ]
     },
     "execution_count": 19,
     "metadata": {},
     "output_type": "execute_result"
    }
   ],
   "source": [
    "sol=Solution()\n",
    "sol.plusOne([1,9,9])"
   ]
  },
  {
   "cell_type": "code",
   "execution_count": null,
   "metadata": {},
   "outputs": [],
   "source": []
  }
 ],
 "metadata": {
  "kernelspec": {
   "display_name": "Python 3.9.12 ('base')",
   "language": "python",
   "name": "python3"
  },
  "language_info": {
   "codemirror_mode": {
    "name": "ipython",
    "version": 3
   },
   "file_extension": ".py",
   "mimetype": "text/x-python",
   "name": "python",
   "nbconvert_exporter": "python",
   "pygments_lexer": "ipython3",
   "version": "3.9.12"
  },
  "orig_nbformat": 4,
  "vscode": {
   "interpreter": {
    "hash": "a825f8e8905b8e64233e6384cfa1616d0baa442a3b458fa78e4916d5c671b0d4"
   }
  }
 },
 "nbformat": 4,
 "nbformat_minor": 2
}
