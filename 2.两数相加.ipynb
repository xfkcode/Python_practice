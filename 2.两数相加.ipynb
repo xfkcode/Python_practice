{
 "cells": [
  {
   "cell_type": "code",
   "execution_count": null,
   "metadata": {},
   "outputs": [],
   "source": [
    "给你两个 非空 的链表，表示两个非负的整数。它们每位数字都是按照 逆序 的方式存储的，并且每个节点只能存储 一位 数字。\n",
    "\n",
    "请你将两个数相加，并以相同形式返回一个表示和的链表。\n",
    "\n",
    "你可以假设除了数字 0 之外，这两个数都不会以 0 开头。\n",
    "\n",
    " \n",
    "\n",
    "示例 1：\n",
    "\n",
    "输入：l1 = [2,4,3], l2 = [5,6,4]\n",
    "输出：[7,0,8]\n",
    "解释：342 + 465 = 807.\n",
    "\n",
    "示例 2：\n",
    "\n",
    "输入：l1 = [0], l2 = [0]\n",
    "输出：[0]\n",
    "\n",
    "示例 3：\n",
    "\n",
    "输入：l1 = [9,9,9,9,9,9,9], l2 = [9,9,9,9]\n",
    "输出：[8,9,9,9,0,0,0,1]\n",
    " \n",
    "\n",
    "提示：\n",
    "\n",
    "每个链表中的节点数在范围 [1, 100] 内\n",
    "0 <= Node.val <= 9\n",
    "题目数据保证列表表示的数字不含前导零"
   ]
  },
  {
   "cell_type": "code",
   "execution_count": 33,
   "metadata": {},
   "outputs": [],
   "source": [
    "# 加法器  逆序存储\n",
    "def addTwoNumbers(l1,l2):\n",
    "    result=[]\n",
    "    jw=0\n",
    "    len1=len(l1)\n",
    "    len2=len(l2)\n",
    "    if len1==len2:\n",
    "        i=len1\n",
    "    elif len1<len2:\n",
    "        i=len2\n",
    "        for k in range(len2-len1):\n",
    "            l1.append(0)\n",
    "    else:\n",
    "        i=len1\n",
    "        for k in range(len1-len2):\n",
    "            l2.append(0)\n",
    "#     print(l1,l2,i)\n",
    "    j=1\n",
    "    while j<=i:\n",
    "        if l1[j-1]+l2[j-1]+jw>9:\n",
    "            result.append(l1[j-1]+l2[j-1]+jw-10) \n",
    "            jw=1\n",
    "        else:\n",
    "            result.append(l1[j-1]+l2[j-1]+jw)\n",
    "            jw=0\n",
    "        j+=1\n",
    "#         print(result)\n",
    "    return result\n",
    "    "
   ]
  },
  {
   "cell_type": "code",
   "execution_count": 34,
   "metadata": {},
   "outputs": [
    {
     "name": "stdout",
     "output_type": "stream",
     "text": [
      "[5, 0, 8, 6]\n"
     ]
    }
   ],
   "source": [
    "res=addTwoNumbers([4,5,6,6],[1,5,1])\n",
    "print(res)"
   ]
  },
  {
   "cell_type": "code",
   "execution_count": 35,
   "metadata": {},
   "outputs": [
    {
     "name": "stdout",
     "output_type": "stream",
     "text": [
      "[7, 1, 2]\n"
     ]
    }
   ],
   "source": [
    "res=addTwoNumbers([6,6],[1,5,1])\n",
    "print(res)"
   ]
  },
  {
   "cell_type": "code",
   "execution_count": 8,
   "metadata": {},
   "outputs": [
    {
     "ename": "NameError",
     "evalue": "name 'ListNode' is not defined",
     "output_type": "error",
     "traceback": [
      "\u001b[1;31m---------------------------------------------------------------------------\u001b[0m",
      "\u001b[1;31mNameError\u001b[0m                                 Traceback (most recent call last)",
      "Input \u001b[1;32mIn [8]\u001b[0m, in \u001b[0;36m<cell line: 2>\u001b[1;34m()\u001b[0m\n\u001b[0;32m      1\u001b[0m \u001b[38;5;66;03m# 链表\u001b[39;00m\n\u001b[1;32m----> 2\u001b[0m \u001b[38;5;28;01mclass\u001b[39;00m \u001b[38;5;21;01mSolution\u001b[39;00m:\n\u001b[0;32m      3\u001b[0m     \u001b[38;5;28;01mdef\u001b[39;00m \u001b[38;5;21maddTwoNumbers\u001b[39m(\u001b[38;5;28mself\u001b[39m, l1: ListNode, l2: ListNode) \u001b[38;5;241m-\u001b[39m\u001b[38;5;241m>\u001b[39m ListNode:\n\u001b[0;32m      4\u001b[0m         newPoint \u001b[38;5;241m=\u001b[39m ListNode(l1\u001b[38;5;241m.\u001b[39mval \u001b[38;5;241m+\u001b[39m l2\u001b[38;5;241m.\u001b[39mval)\n",
      "Input \u001b[1;32mIn [8]\u001b[0m, in \u001b[0;36mSolution\u001b[1;34m()\u001b[0m\n\u001b[0;32m      2\u001b[0m \u001b[38;5;28;01mclass\u001b[39;00m \u001b[38;5;21;01mSolution\u001b[39;00m:\n\u001b[1;32m----> 3\u001b[0m     \u001b[38;5;28;01mdef\u001b[39;00m \u001b[38;5;21maddTwoNumbers\u001b[39m(\u001b[38;5;28mself\u001b[39m, l1: \u001b[43mListNode\u001b[49m, l2: ListNode) \u001b[38;5;241m-\u001b[39m\u001b[38;5;241m>\u001b[39m ListNode:\n\u001b[0;32m      4\u001b[0m         newPoint \u001b[38;5;241m=\u001b[39m ListNode(l1\u001b[38;5;241m.\u001b[39mval \u001b[38;5;241m+\u001b[39m l2\u001b[38;5;241m.\u001b[39mval)\n\u001b[0;32m      5\u001b[0m         rt, tp \u001b[38;5;241m=\u001b[39m newPoint, newPoint\n",
      "\u001b[1;31mNameError\u001b[0m: name 'ListNode' is not defined"
     ]
    }
   ],
   "source": [
    "# 链表，力扣通过\n",
    "class Solution:\n",
    "    def addTwoNumbers(self, l1: ListNode, l2: ListNode) -> ListNode:\n",
    "        newPoint = ListNode(l1.val + l2.val)\n",
    "        rt, tp = newPoint, newPoint\n",
    "        while (l1 and (l1.next != None)) or (l2 and (l2.next != None)) or (tp.val > 9):\n",
    "            l1, l2 = l1.next if l1 else l1, l2.next if l2 else l2\n",
    "            tmpsum = (l1.val if l1 else 0) + (l2.val if l2 else 0)\n",
    "            tp.next = ListNode(tp.val//10 + tmpsum)\n",
    "            tp.val %= 10\n",
    "            tp = tp.next\n",
    "        return rt"
   ]
  },
  {
   "cell_type": "code",
   "execution_count": 7,
   "metadata": {},
   "outputs": [
    {
     "ename": "NameError",
     "evalue": "name 'ListNode' is not defined",
     "output_type": "error",
     "traceback": [
      "\u001b[1;31m---------------------------------------------------------------------------\u001b[0m",
      "\u001b[1;31mNameError\u001b[0m                                 Traceback (most recent call last)",
      "Input \u001b[1;32mIn [7]\u001b[0m, in \u001b[0;36m<cell line: 2>\u001b[1;34m()\u001b[0m\n\u001b[0;32m      1\u001b[0m sol\u001b[38;5;241m=\u001b[39mSolution()\n\u001b[1;32m----> 2\u001b[0m \u001b[43msol\u001b[49m\u001b[38;5;241;43m.\u001b[39;49m\u001b[43maddTwoNumbers\u001b[49m\u001b[43m(\u001b[49m\u001b[43m[\u001b[49m\u001b[38;5;241;43m4\u001b[39;49m\u001b[43m,\u001b[49m\u001b[38;5;241;43m5\u001b[39;49m\u001b[43m,\u001b[49m\u001b[38;5;241;43m6\u001b[39;49m\u001b[43m,\u001b[49m\u001b[38;5;241;43m6\u001b[39;49m\u001b[43m]\u001b[49m\u001b[43m,\u001b[49m\u001b[43m[\u001b[49m\u001b[38;5;241;43m1\u001b[39;49m\u001b[43m,\u001b[49m\u001b[38;5;241;43m5\u001b[39;49m\u001b[43m,\u001b[49m\u001b[38;5;241;43m1\u001b[39;49m\u001b[43m]\u001b[49m\u001b[43m)\u001b[49m\n",
      "Input \u001b[1;32mIn [6]\u001b[0m, in \u001b[0;36mSolution.addTwoNumbers\u001b[1;34m(self, l1, l2)\u001b[0m\n\u001b[0;32m      2\u001b[0m \u001b[38;5;28;01mdef\u001b[39;00m \u001b[38;5;21maddTwoNumbers\u001b[39m(\u001b[38;5;28mself\u001b[39m, l1 , l2):\n\u001b[1;32m----> 3\u001b[0m     newPoint \u001b[38;5;241m=\u001b[39m \u001b[43mListNode\u001b[49m(l1\u001b[38;5;241m.\u001b[39mval \u001b[38;5;241m+\u001b[39m l2\u001b[38;5;241m.\u001b[39mval)\n\u001b[0;32m      4\u001b[0m     rt, tp \u001b[38;5;241m=\u001b[39m newPoint, newPoint\n\u001b[0;32m      5\u001b[0m     \u001b[38;5;28;01mwhile\u001b[39;00m (l1 \u001b[38;5;129;01mand\u001b[39;00m (l1\u001b[38;5;241m.\u001b[39mnext \u001b[38;5;241m!=\u001b[39m \u001b[38;5;28;01mNone\u001b[39;00m)) \u001b[38;5;129;01mor\u001b[39;00m (l2 \u001b[38;5;129;01mand\u001b[39;00m (l2\u001b[38;5;241m.\u001b[39mnext \u001b[38;5;241m!=\u001b[39m \u001b[38;5;28;01mNone\u001b[39;00m)) \u001b[38;5;129;01mor\u001b[39;00m (tp\u001b[38;5;241m.\u001b[39mval \u001b[38;5;241m>\u001b[39m \u001b[38;5;241m9\u001b[39m):\n",
      "\u001b[1;31mNameError\u001b[0m: name 'ListNode' is not defined"
     ]
    }
   ],
   "source": [
    "sol=Solution()\n",
    "sol.addTwoNumbers([4,5,6,6],[1,5,1])"
   ]
  },
  {
   "cell_type": "code",
   "execution_count": null,
   "metadata": {},
   "outputs": [],
   "source": []
  }
 ],
 "metadata": {
  "kernelspec": {
   "display_name": "Python 3 (ipykernel)",
   "language": "python",
   "name": "python3"
  },
  "language_info": {
   "codemirror_mode": {
    "name": "ipython",
    "version": 3
   },
   "file_extension": ".py",
   "mimetype": "text/x-python",
   "name": "python",
   "nbconvert_exporter": "python",
   "pygments_lexer": "ipython3",
   "version": "3.9.12"
  }
 },
 "nbformat": 4,
 "nbformat_minor": 2
}
