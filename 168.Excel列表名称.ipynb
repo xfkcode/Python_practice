{
 "cells": [
  {
   "cell_type": "markdown",
   "metadata": {},
   "source": [
    "给你一个整数 columnNumber ，返回它在 Excel 表中相对应的列名称。\n",
    "\n",
    "例如：\n",
    "A -> 1\n",
    "B -> 2\n",
    "C -> 3\n",
    "...\n",
    "Z -> 26\n",
    "AA -> 27\n",
    "AB -> 28 \n",
    "...\n",
    " \n",
    "\n",
    "示例 1：\n",
    "输入：columnNumber = 1\n",
    "输出：\"A\"\n",
    "\n",
    "示例 2：\n",
    "输入：columnNumber = 28\n",
    "输出：\"AB\"\n",
    "\n",
    "示例 3\n",
    "输入：columnNumber = 701\n",
    "输出：\"ZY\"\n",
    "\n",
    "示例 4：\n",
    "输入：columnNumber = 2147483647\n",
    "输出：\"FXSHRXW\"\n",
    " \n",
    "\n",
    "提示：\n",
    "\n",
    "1 <= columnNumber <= 2^31 - 1"
   ]
  },
  {
   "cell_type": "code",
   "execution_count": 22,
   "metadata": {},
   "outputs": [],
   "source": [
    "class Solution:\n",
    "    def convertToTitle(self, columnNumber: int) -> str:\n",
    "        # letter_dirct={1:'A',2:'B',3:'C',4:'D',5:'E',6:'F',7:'G',8:'H',\n",
    "                    #   9:'I',10:'J',11:'K',12:'L',13:'M',14:'N',15:'O',16:'P',\n",
    "                    #   17:'Q',18:'R',19:'S',20:'T',21:'U',22:'V',23:'W',24:'X',25:'Y',26:'Z'}\n",
    "        ans=\"\"\n",
    "        while columnNumber!=0:\n",
    "            n=(columnNumber-1)%26+1\n",
    "            # ans+=letter_dirct[n]\n",
    "            ans+=chr(n-1+ord('A'))\n",
    "            columnNumber=(columnNumber-1)//26\n",
    "        return str(ans[::-1])"
   ]
  },
  {
   "cell_type": "code",
   "execution_count": 23,
   "metadata": {},
   "outputs": [
    {
     "data": {
      "text/plain": [
       "'A'"
      ]
     },
     "execution_count": 23,
     "metadata": {},
     "output_type": "execute_result"
    }
   ],
   "source": [
    "sol=Solution()\n",
    "sol.convertToTitle(1)"
   ]
  },
  {
   "cell_type": "code",
   "execution_count": 24,
   "metadata": {},
   "outputs": [
    {
     "data": {
      "text/plain": [
       "'AB'"
      ]
     },
     "execution_count": 24,
     "metadata": {},
     "output_type": "execute_result"
    }
   ],
   "source": [
    "sol=Solution()\n",
    "sol.convertToTitle(28)"
   ]
  },
  {
   "cell_type": "code",
   "execution_count": 25,
   "metadata": {},
   "outputs": [
    {
     "data": {
      "text/plain": [
       "'FXSHRXW'"
      ]
     },
     "execution_count": 25,
     "metadata": {},
     "output_type": "execute_result"
    }
   ],
   "source": [
    "sol=Solution()\n",
    "sol.convertToTitle(2147483647)"
   ]
  },
  {
   "cell_type": "code",
   "execution_count": null,
   "metadata": {},
   "outputs": [],
   "source": []
  }
 ],
 "metadata": {
  "kernelspec": {
   "display_name": "Python 3.9.12 ('base')",
   "language": "python",
   "name": "python3"
  },
  "language_info": {
   "codemirror_mode": {
    "name": "ipython",
    "version": 3
   },
   "file_extension": ".py",
   "mimetype": "text/x-python",
   "name": "python",
   "nbconvert_exporter": "python",
   "pygments_lexer": "ipython3",
   "version": "3.9.12"
  },
  "orig_nbformat": 4,
  "vscode": {
   "interpreter": {
    "hash": "a825f8e8905b8e64233e6384cfa1616d0baa442a3b458fa78e4916d5c671b0d4"
   }
  }
 },
 "nbformat": 4,
 "nbformat_minor": 2
}
