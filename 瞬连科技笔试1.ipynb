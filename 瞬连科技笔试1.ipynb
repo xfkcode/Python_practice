{
 "cells": [
  {
   "cell_type": "markdown",
   "metadata": {},
   "source": [
    "给定一个整数数组，你需要找出一个连续子数组，将这个子数组升序排  \n",
    "列后整个数组都将是升序数组。请你找出满足题设的最短的子数组。  \n",
    "数据范围：数组长度满足 1≤n≤10^4 数组中的元素满足 |val|≤10^5   \n",
    "\n",
    "示例 1   \n",
    "输入：[1,2,3,5,4]   \n",
    "返回值：2   \n",
    "说明：对 5,4 排序即可得到升序数组  "
   ]
  },
  {
   "cell_type": "code",
   "execution_count": 1,
   "metadata": {},
   "outputs": [],
   "source": [
    "class Solutin:\n",
    "    def func(self,nums):\n",
    "        left=0\n",
    "        right=len(nums)-1\n",
    "        while left<=right:\n",
    "            if nums[left]>nums[right]:\n",
    "                break\n",
    "            else:\n",
    "                if nums[left+1]<nums[left] and nums[right-1]>nums[right]:\n",
    "                    break\n",
    "                else: \n",
    "                    if nums[left+1]>=nums[left]:\n",
    "                        left+=1\n",
    "                    if nums[right-1]<=nums[right]:\n",
    "                        right-=1\n",
    "        if left>right:\n",
    "            return 0\n",
    "        if left==0 and right==len(nums)-1:\n",
    "            return right-left+1\n",
    "        else:\n",
    "            Max=max(nums[left:right+1])\n",
    "            Min=min(nums[left:right+1])\n",
    "            if left>0 and right<len(nums)-1:\n",
    "                if nums[left-1]<=Min and nums[right+1]>=Max:\n",
    "                    return right-left+1\n",
    "                else:\n",
    "                    while nums[left-1]>Min:\n",
    "                            left-=1\n",
    "                    while nums[right+1]<Max:\n",
    "                            right+=1\n",
    "                return right-left+1\n",
    "            elif left>0:\n",
    "                while nums[left-1]>Min:\n",
    "                        left-=1\n",
    "                return right-left+1\n",
    "            elif right<len(nums)-1:\n",
    "                while nums[right+1]<Max:\n",
    "                        right+=1\n",
    "                return right-left+1"
   ]
  },
  {
   "cell_type": "code",
   "execution_count": 2,
   "metadata": {},
   "outputs": [
    {
     "data": {
      "text/plain": [
       "0"
      ]
     },
     "execution_count": 2,
     "metadata": {},
     "output_type": "execute_result"
    }
   ],
   "source": [
    "sol=Solutin()\n",
    "sol.func([1,2,3,4,5])"
   ]
  },
  {
   "cell_type": "code",
   "execution_count": 3,
   "metadata": {},
   "outputs": [
    {
     "data": {
      "text/plain": [
       "2"
      ]
     },
     "execution_count": 3,
     "metadata": {},
     "output_type": "execute_result"
    }
   ],
   "source": [
    "sol=Solutin()\n",
    "sol.func([1,2,3,5,4])"
   ]
  },
  {
   "cell_type": "code",
   "execution_count": 4,
   "metadata": {},
   "outputs": [
    {
     "data": {
      "text/plain": [
       "7"
      ]
     },
     "execution_count": 4,
     "metadata": {},
     "output_type": "execute_result"
    }
   ],
   "source": [
    "sol=Solutin()\n",
    "sol.func([2,1,3,4,5,10,8])"
   ]
  },
  {
   "cell_type": "code",
   "execution_count": 5,
   "metadata": {},
   "outputs": [
    {
     "data": {
      "text/plain": [
       "7"
      ]
     },
     "execution_count": 5,
     "metadata": {},
     "output_type": "execute_result"
    }
   ],
   "source": [
    "sol=Solutin()\n",
    "sol.func([2,1,3,4,8,6,7,9])"
   ]
  }
 ],
 "metadata": {
  "kernelspec": {
   "display_name": "Python 3.9.12 ('base')",
   "language": "python",
   "name": "python3"
  },
  "language_info": {
   "codemirror_mode": {
    "name": "ipython",
    "version": 3
   },
   "file_extension": ".py",
   "mimetype": "text/x-python",
   "name": "python",
   "nbconvert_exporter": "python",
   "pygments_lexer": "ipython3",
   "version": "3.9.12"
  },
  "orig_nbformat": 4,
  "vscode": {
   "interpreter": {
    "hash": "a825f8e8905b8e64233e6384cfa1616d0baa442a3b458fa78e4916d5c671b0d4"
   }
  }
 },
 "nbformat": 4,
 "nbformat_minor": 2
}
