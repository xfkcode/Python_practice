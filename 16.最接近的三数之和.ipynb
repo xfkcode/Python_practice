{
 "cells": [
  {
   "cell_type": "markdown",
   "id": "5d9b8d7c",
   "metadata": {},
   "source": [
    "给你一个长度为 n 的整数数组 nums 和 一个目标值 target。请你从 nums 中选出三个整数，使它们的和与 target 最接近。\n",
    "\n",
    "返回这三个数的和。\n",
    "\n",
    "假定每组输入只存在恰好一个解。\n",
    "\n",
    " \n",
    "示例 1：\n",
    "输入：nums = [-1,2,1,-4], target = 1\n",
    "输出：2\n",
    "解释：与 target 最接近的和是 2 (-1 + 2 + 1 = 2) 。\n",
    "\n",
    "示例 2：\n",
    "输入：nums = [0,0,0], target = 1\n",
    "输出：0\n",
    " \n",
    "\n",
    "提示：\n",
    "\n",
    "3 <= nums.length <= 1000\n",
    "-1000 <= nums[i] <= 1000\n",
    "-104 <= target <= 104"
   ]
  },
  {
   "cell_type": "code",
   "execution_count": 6,
   "id": "0d51f5d6",
   "metadata": {},
   "outputs": [],
   "source": [
    "# 最接近的三数之和,三数之和思路（超时）\n",
    "class Solution:\n",
    "    def threeSumClosest(self,nums: list[int],target: int) -> int:\n",
    "        length=len(nums)\n",
    "        nums.sort()\n",
    "        gap=0\n",
    "        while gap>=0:\n",
    "            for i in range(length):\n",
    "                if i > 0 and nums[i] == nums[i - 1]:\n",
    "                    continue\n",
    "                k = length - 1\n",
    "                twosum1= -nums[i]+target+gap\n",
    "                twosum2= -nums[i]+target-gap\n",
    "                for j in range(i + 1, length):\n",
    "                    if j > i + 1 and nums[j] == nums[j - 1]:\n",
    "                        continue\n",
    "                    while j < k and nums[j] + nums[k] > twosum1 and nums[j] + nums[k] > twosum2:\n",
    "                        k -= 1\n",
    "                    if j == k:\n",
    "                        break\n",
    "                    if nums[j] + nums[k] == twosum1 or nums[j] + nums[k] == twosum2:\n",
    "                        return nums[i]+nums[j]+nums[k]\n",
    "            gap+=1\n",
    "        "
   ]
  },
  {
   "cell_type": "code",
   "execution_count": 7,
   "id": "cb45164a",
   "metadata": {},
   "outputs": [
    {
     "data": {
      "text/plain": [
       "2"
      ]
     },
     "execution_count": 7,
     "metadata": {},
     "output_type": "execute_result"
    }
   ],
   "source": [
    "sol=Solution()\n",
    "sol.threeSumClosest([-1,2,1,-4],1)"
   ]
  },
  {
   "cell_type": "code",
   "execution_count": 8,
   "id": "84debc3d",
   "metadata": {},
   "outputs": [
    {
     "data": {
      "text/plain": [
       "0"
      ]
     },
     "execution_count": 8,
     "metadata": {},
     "output_type": "execute_result"
    }
   ],
   "source": [
    "sol=Solution()\n",
    "sol.threeSumClosest([0,0,0],1)"
   ]
  },
  {
   "cell_type": "code",
   "execution_count": 10,
   "id": "bab21da5",
   "metadata": {},
   "outputs": [],
   "source": [
    "# 最接近的三数之和，力扣标准解\n",
    "class Solution:\n",
    "    def ThreeSumClosest(self, nums: list[int], target: int) -> int:\n",
    "        nums.sort()\n",
    "        n = len(nums)\n",
    "        best = 10**7\n",
    "        \n",
    "        # 根据差值的绝对值来更新答案\n",
    "        def update(cur):\n",
    "            nonlocal best\n",
    "            if abs(cur - target) < abs(best - target):\n",
    "                best = cur\n",
    "        \n",
    "        # 枚举 a\n",
    "        for i in range(n):\n",
    "            # 保证和上一次枚举的元素不相等\n",
    "            if i > 0 and nums[i] == nums[i - 1]:\n",
    "                continue\n",
    "            # 使用双指针枚举 b 和 c\n",
    "            j, k = i + 1, n - 1\n",
    "            while j < k:\n",
    "                s = nums[i] + nums[j] + nums[k]\n",
    "                # 如果和为 target 直接返回答案\n",
    "                if s == target:\n",
    "                    return target\n",
    "                update(s)\n",
    "                if s > target:\n",
    "                    # 如果和大于 target，移动 c 对应的指针\n",
    "                    k0 = k - 1\n",
    "                    # 移动到下一个不相等的元素\n",
    "                    while j < k0 and nums[k0] == nums[k]:\n",
    "                        k0 -= 1\n",
    "                    k = k0\n",
    "                else:\n",
    "                    # 如果和小于 target，移动 b 对应的指针\n",
    "                    j0 = j + 1\n",
    "                    # 移动到下一个不相等的元素\n",
    "                    while j0 < k and nums[j0] == nums[j]:\n",
    "                        j0 += 1\n",
    "                    j = j0\n",
    "\n",
    "        return best"
   ]
  },
  {
   "cell_type": "code",
   "execution_count": 11,
   "id": "b79f532f",
   "metadata": {},
   "outputs": [
    {
     "data": {
      "text/plain": [
       "2"
      ]
     },
     "execution_count": 11,
     "metadata": {},
     "output_type": "execute_result"
    }
   ],
   "source": [
    "sol=Solution()\n",
    "sol.ThreeSumClosest([-1,2,1,-4],1)"
   ]
  },
  {
   "cell_type": "code",
   "execution_count": 14,
   "id": "538afebf",
   "metadata": {},
   "outputs": [
    {
     "data": {
      "text/plain": [
       "0"
      ]
     },
     "execution_count": 14,
     "metadata": {},
     "output_type": "execute_result"
    }
   ],
   "source": [
    "sol=Solution()\n",
    "sol.ThreeSumClosest([0,0,0],1)"
   ]
  },
  {
   "cell_type": "code",
   "execution_count": null,
   "id": "813b1820",
   "metadata": {},
   "outputs": [],
   "source": []
  }
 ],
 "metadata": {
  "kernelspec": {
   "display_name": "Python 3.9.12 ('base')",
   "language": "python",
   "name": "python3"
  },
  "language_info": {
   "codemirror_mode": {
    "name": "ipython",
    "version": 3
   },
   "file_extension": ".py",
   "mimetype": "text/x-python",
   "name": "python",
   "nbconvert_exporter": "python",
   "pygments_lexer": "ipython3",
   "version": "3.9.12"
  },
  "vscode": {
   "interpreter": {
    "hash": "a825f8e8905b8e64233e6384cfa1616d0baa442a3b458fa78e4916d5c671b0d4"
   }
  }
 },
 "nbformat": 4,
 "nbformat_minor": 5
}
