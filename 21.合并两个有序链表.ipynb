{
 "cells": [
  {
   "cell_type": "markdown",
   "metadata": {},
   "source": [
    "将两个升序链表合并为一个新的 升序 链表并返回。新链表是通过拼接给定的两个链表的所有节点组成的。 \n",
    "\n",
    "\n",
    "示例 1：\n",
    "输入：l1 = [1,2,4], l2 = [1,3,4]\n",
    "输出：[1,1,2,3,4,4]\n",
    "\n",
    "示例 2：\n",
    "输入：l1 = [], l2 = []\n",
    "输出：[]\n",
    "\n",
    "示例 3：\n",
    "输入：l1 = [], l2 = [0]\n",
    "输出：[0]\n",
    " \n",
    "\n",
    "提示：\n",
    "\n",
    "两个链表的节点数目范围是 [0, 50]\n",
    "-100 <= Node.val <= 100\n",
    "l1 和 l2 均按 非递减顺序 排列"
   ]
  },
  {
   "cell_type": "code",
   "execution_count": 4,
   "metadata": {},
   "outputs": [],
   "source": [
    "# list模拟链表\n",
    "class Solution:\n",
    "    def mergeTwolists(self,list1,list2):\n",
    "        list3=[]\n",
    "        tempvalue=list1[0]\n",
    "        temp=0\n",
    "        while temp<len(list1) or temp<len(list2):\n",
    "            if temp<len(list1):\n",
    "                if list1[temp]>=tempvalue:\n",
    "                    list3.append(list1[temp])\n",
    "                    tempvalue=list1[temp]\n",
    "                else:\n",
    "                    list3[temp]=list1[temp]\n",
    "                    list3.append(tempvalue)\n",
    "            if temp<len(list2):\n",
    "                if list2[temp]>=tempvalue:\n",
    "                    list3.append(list2[temp])\n",
    "                    tempvalue=list2[temp]\n",
    "                else:\n",
    "                    list3[temp]=list2[temp]\n",
    "                    list3.append(tempvalue)\n",
    "            temp+=1\n",
    "        return list3"
   ]
  },
  {
   "cell_type": "code",
   "execution_count": 5,
   "metadata": {},
   "outputs": [
    {
     "data": {
      "text/plain": [
       "[1, 1, 5, 6, 6, 8]"
      ]
     },
     "execution_count": 5,
     "metadata": {},
     "output_type": "execute_result"
    }
   ],
   "source": [
    "sol=Solution()\n",
    "sol.mergeTwolists([1,2,5],[1,6,8])"
   ]
  },
  {
   "cell_type": "code",
   "execution_count": 6,
   "metadata": {},
   "outputs": [
    {
     "data": {
      "text/plain": [
       "[1, 1, 5, 7, 6, 8, 8]"
      ]
     },
     "execution_count": 6,
     "metadata": {},
     "output_type": "execute_result"
    }
   ],
   "source": [
    "sol=Solution()\n",
    "sol.mergeTwolists([1,2,5,7],[1,6,8])"
   ]
  },
  {
   "cell_type": "code",
   "execution_count": 7,
   "metadata": {},
   "outputs": [],
   "source": [
    "# 力扣标准解，递归法\n",
    "class ListNode:\n",
    "    def __init__(self,val=0,next=None):\n",
    "        self.val=val\n",
    "        self.next=next\n",
    "class Solution:\n",
    "    def mergeTwoLists(self, l1: ListNode, l2: ListNode) -> ListNode:\n",
    "        if l1 is None:\n",
    "            return l2\n",
    "        elif l2 is None:\n",
    "            return l1\n",
    "        elif l1.val < l2.val:\n",
    "            l1.next = self.mergeTwoLists(l1.next, l2)\n",
    "            return l1\n",
    "        else:\n",
    "            l2.next = self.mergeTwoLists(l1, l2.next)\n",
    "            return l2"
   ]
  },
  {
   "cell_type": "code",
   "execution_count": 11,
   "metadata": {},
   "outputs": [
    {
     "ename": "AttributeError",
     "evalue": "'ListNode' object has no attribute 'l2'",
     "output_type": "error",
     "traceback": [
      "\u001b[1;31m---------------------------------------------------------------------------\u001b[0m",
      "\u001b[1;31mAttributeError\u001b[0m                            Traceback (most recent call last)",
      "\u001b[1;32mg:\\python program\\python_practice\\21.合并两个有序链表.ipynb Cell 6\u001b[0m in \u001b[0;36m<cell line: 4>\u001b[1;34m()\u001b[0m\n\u001b[0;32m      <a href='vscode-notebook-cell:/g%3A/python%20program/python_practice/21.%E5%90%88%E5%B9%B6%E4%B8%A4%E4%B8%AA%E6%9C%89%E5%BA%8F%E9%93%BE%E8%A1%A8.ipynb#W5sZmlsZQ%3D%3D?line=1'>2</a>\u001b[0m l1\u001b[39m=\u001b[39mListNode()\n\u001b[0;32m      <a href='vscode-notebook-cell:/g%3A/python%20program/python_practice/21.%E5%90%88%E5%B9%B6%E4%B8%A4%E4%B8%AA%E6%9C%89%E5%BA%8F%E9%93%BE%E8%A1%A8.ipynb#W5sZmlsZQ%3D%3D?line=2'>3</a>\u001b[0m l2\u001b[39m=\u001b[39mListNode()\n\u001b[1;32m----> <a href='vscode-notebook-cell:/g%3A/python%20program/python_practice/21.%E5%90%88%E5%B9%B6%E4%B8%A4%E4%B8%AA%E6%9C%89%E5%BA%8F%E9%93%BE%E8%A1%A8.ipynb#W5sZmlsZQ%3D%3D?line=3'>4</a>\u001b[0m sol\u001b[39m.\u001b[39mmergeTwoLists(l1\u001b[39m.\u001b[39;49ml2)\n",
      "\u001b[1;31mAttributeError\u001b[0m: 'ListNode' object has no attribute 'l2'"
     ]
    }
   ],
   "source": [
    "# 链表构造不理解\n",
    "sol=Solution()\n",
    "l1=ListNode()\n",
    "l2=ListNode()\n",
    "sol.mergeTwoLists(l1.l2)"
   ]
  },
  {
   "cell_type": "code",
   "execution_count": null,
   "metadata": {},
   "outputs": [],
   "source": []
  }
 ],
 "metadata": {
  "kernelspec": {
   "display_name": "Python 3 (ipykernel)",
   "language": "python",
   "name": "python3"
  },
  "language_info": {
   "codemirror_mode": {
    "name": "ipython",
    "version": 3
   },
   "file_extension": ".py",
   "mimetype": "text/x-python",
   "name": "python",
   "nbconvert_exporter": "python",
   "pygments_lexer": "ipython3",
   "version": "3.9.12"
  },
  "vscode": {
   "interpreter": {
    "hash": "a825f8e8905b8e64233e6384cfa1616d0baa442a3b458fa78e4916d5c671b0d4"
   }
  }
 },
 "nbformat": 4,
 "nbformat_minor": 2
}
