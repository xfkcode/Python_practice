{
 "cells": [
  {
   "cell_type": "markdown",
   "metadata": {},
   "source": [
    "给定一个二叉树的根节点 root ，返回 它的 中序 遍历 。\n",
    "\n",
    " \n",
    "示例 1：\n",
    "输入：root = [1,null,2,3]\n",
    "输出：[1,3,2]\n",
    "\n",
    "示例 2：\n",
    "输入：root = []\n",
    "输出：[]\n",
    "\n",
    "示例 3：\n",
    "输入：root = [1]\n",
    "输出：[1]\n",
    " \n",
    "\n",
    "提示：\n",
    "\n",
    "树中节点数目在范围 [0, 100] 内\n",
    "-100 <= Node.val <= 100\n",
    " \n",
    "\n",
    "进阶: 递归算法很简单，你可以通过迭代算法完成吗？"
   ]
  },
  {
   "cell_type": "code",
   "execution_count": 19,
   "metadata": {},
   "outputs": [],
   "source": [
    "class TreeNode:\n",
    "    def __init__(self, val=0, left=None, right=None):\n",
    "        self.val = val\n",
    "        self.left = left\n",
    "        self.right = right\n",
    "#递归  \n",
    "class Solution:\n",
    "    def inorderTraversal(self,root: TreeNode) -> list[int]:\n",
    "        if not root:\n",
    "            return \n",
    "        ans=[]\n",
    "        ans.append(self.inorderTraversal(root.left))\n",
    "        ans.append(root.val)\n",
    "        ans.append(self.inorderTraversal(root.right))\n",
    "        return ans"
   ]
  },
  {
   "cell_type": "code",
   "execution_count": 20,
   "metadata": {},
   "outputs": [
    {
     "data": {
      "text/plain": [
       "[None, 1, [[None, 3, None], 2, None]]"
      ]
     },
     "execution_count": 20,
     "metadata": {},
     "output_type": "execute_result"
    }
   ],
   "source": [
    "# 创建二叉树[1,null,2,3]\n",
    "left2=TreeNode(3)\n",
    "right1=TreeNode(2,left2)\n",
    "root=TreeNode(1,None,right1)\n",
    "\n",
    "sol=Solution()\n",
    "sol.inorderTraversal(root)"
   ]
  },
  {
   "cell_type": "code",
   "execution_count": 7,
   "metadata": {},
   "outputs": [],
   "source": [
    "# 迭代，压栈出栈\n",
    "class Solution:\n",
    "    def InorderTraversal(self, root: TreeNode) -> list[int]:\n",
    "        # 压栈所有左节点\n",
    "        def add_all_left(node):\n",
    "            while node:\n",
    "                stack.append(node)\n",
    "                node = node.left\n",
    "\n",
    "        stack, res = [], []\n",
    "        add_all_left(root)\n",
    "        while stack:\n",
    "            cur = stack.pop()\n",
    "            res.append(cur.val)\n",
    "            add_all_left(cur.right)\n",
    "        return res"
   ]
  },
  {
   "cell_type": "code",
   "execution_count": 8,
   "metadata": {},
   "outputs": [
    {
     "data": {
      "text/plain": [
       "[1, 3, 2]"
      ]
     },
     "execution_count": 8,
     "metadata": {},
     "output_type": "execute_result"
    }
   ],
   "source": [
    "# 创建二叉树[1,null,2,3]\n",
    "left2=TreeNode(3)\n",
    "right1=TreeNode(2,left2)\n",
    "root=TreeNode(1,None,right1)\n",
    "\n",
    "sol=Solution()\n",
    "sol.InorderTraversal(root)"
   ]
  },
  {
   "cell_type": "markdown",
   "metadata": {},
   "source": [
    "Morris 中序遍历\n",
    "\n",
    "思路与算法\n",
    "\n",
    "Morris 遍历算法是另一种遍历二叉树的方法，它能将非递归的中序遍历空间复杂度降为 O(1)。\n",
    "\n",
    "Morris 遍历算法整体步骤如下（假设当前遍历到的节点为x）：\n",
    "\n",
    "如果 x 无左孩子，先将 x 的值加入答案数组，再访问 x 的右孩子，即 x=x.right。\n",
    "如果 x 有左孩子，则找到 x 左子树上最右的节点（即左子树中序遍历的最后一个节点，x 在中序遍历中的前驱节点），我们记为 \n",
    "predecessor。根据 predecessor 的右孩子是否为空，进行如下操作。\n",
    "    如果 predecessor 的右孩子为空，则将其右孩子指向 x，然后访问 x 的左孩子，即 x=x.left。\n",
    "    如果 predecessor 的右孩子不为空，则此时其右孩子指向 x，说明我们已经遍历完 x 的左子树，我们将 predecessor 的右孩子置空，将 \n",
    "    x 的值加入答案数组，然后访问 x 的右孩子，即 x=x.right。\n",
    "重复上述操作，直至访问完整棵树。"
   ]
  },
  {
   "cell_type": "code",
   "execution_count": 9,
   "metadata": {},
   "outputs": [],
   "source": [
    "# Morris中序遍历\n",
    "class Solution:\n",
    "    def inorder_traversal(self, root: TreeNode) -> list[int]:\n",
    "        res = []\n",
    "        while root:\n",
    "            if root.left:\n",
    "                # find out predecessor\n",
    "                predecessor = root.left\n",
    "                while predecessor.right:\n",
    "                    predecessor = predecessor.right\n",
    "                # link predecessor to root\n",
    "                predecessor.right = root\n",
    "                # set left child of root to None\n",
    "                temp = root\n",
    "                root = root.left\n",
    "                temp.left = None\n",
    "            else:\n",
    "                res.append(root.val)\n",
    "                root = root.right\n",
    "        return res"
   ]
  },
  {
   "cell_type": "code",
   "execution_count": 10,
   "metadata": {},
   "outputs": [
    {
     "data": {
      "text/plain": [
       "[1, 3, 2]"
      ]
     },
     "execution_count": 10,
     "metadata": {},
     "output_type": "execute_result"
    }
   ],
   "source": [
    "# 创建二叉树[1,null,2,3]\n",
    "left2=TreeNode(3)\n",
    "right1=TreeNode(2,left2)\n",
    "root=TreeNode(1,None,right1)\n",
    "\n",
    "sol=Solution()\n",
    "sol.inorder_traversal(root)"
   ]
  },
  {
   "cell_type": "code",
   "execution_count": null,
   "metadata": {},
   "outputs": [],
   "source": []
  }
 ],
 "metadata": {
  "kernelspec": {
   "display_name": "Python 3.9.12 ('base')",
   "language": "python",
   "name": "python3"
  },
  "language_info": {
   "codemirror_mode": {
    "name": "ipython",
    "version": 3
   },
   "file_extension": ".py",
   "mimetype": "text/x-python",
   "name": "python",
   "nbconvert_exporter": "python",
   "pygments_lexer": "ipython3",
   "version": "3.9.12"
  },
  "orig_nbformat": 4,
  "vscode": {
   "interpreter": {
    "hash": "a825f8e8905b8e64233e6384cfa1616d0baa442a3b458fa78e4916d5c671b0d4"
   }
  }
 },
 "nbformat": 4,
 "nbformat_minor": 2
}
