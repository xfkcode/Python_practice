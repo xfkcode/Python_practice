{
 "cells": [
  {
   "cell_type": "markdown",
   "metadata": {},
   "source": [
    "给你两个单链表的头节点 headA 和 headB ，请你找出并返回两个单链表相交的起始节点。如果两个链表不存在相交节点，返回 null 。\n",
    "\n",
    "图示两个链表在节点 c1 开始相交：\n",
    "\n",
    "\n",
    "\n",
    "题目数据 保证 整个链式结构中不存在环。\n",
    "\n",
    "注意，函数返回结果后，链表必须 保持其原始结构 。\n",
    "\n",
    "自定义评测：\n",
    "\n",
    "评测系统 的输入如下（你设计的程序 不适用 此输入）：\n",
    "\n",
    "intersectVal - 相交的起始节点的值。如果不存在相交节点，这一值为 0\n",
    "listA - 第一个链表\n",
    "listB - 第二个链表\n",
    "skipA - 在 listA 中（从头节点开始）跳到交叉节点的节点数\n",
    "skipB - 在 listB 中（从头节点开始）跳到交叉节点的节点数\n",
    "评测系统将根据这些输入创建链式数据结构，并将两个头节点 headA 和 headB 传递给你的程序。如果程序能够正确返回相交节点，那么你的解决方案将被 视作正确答案 。\n",
    "\n",
    "\n",
    "示例 1：\n",
    "输入：intersectVal = 8, listA = [4,1,8,4,5], listB = [5,6,1,8,4,5], skipA = 2, skipB = 3\n",
    "输出：Intersected at '8'\n",
    "解释：相交节点的值为 8 （注意，如果两个链表相交则不能为 0）。\n",
    "从各自的表头开始算起，链表 A 为 [4,1,8,4,5]，链表 B 为 [5,6,1,8,4,5]。\n",
    "在 A 中，相交节点前有 2 个节点；在 B 中，相交节点前有 3 个节点。\n",
    "— 请注意相交节点的值不为 1，因为在链表 A 和链表 B 之中值为 1 的节点 (A 中第二个节点和 B 中第三个节点) 是不同的节点。换句话说，它们在内存中指向两个不同的位置，而链表 A 和链表 B 中值为 8 的节点 (A 中第三个节点，B 中第四个节点) 在内存中指向相同的位置。\n",
    " \n",
    "\n",
    "示例 2：\n",
    "输入：intersectVal = 2, listA = [1,9,1,2,4], listB = [3,2,4], skipA = 3, skipB = 1\n",
    "输出：Intersected at '2'\n",
    "解释：相交节点的值为 2 （注意，如果两个链表相交则不能为 0）。\n",
    "从各自的表头开始算起，链表 A 为 [1,9,1,2,4]，链表 B 为 [3,2,4]。\n",
    "在 A 中，相交节点前有 3 个节点；在 B 中，相交节点前有 1 个节点。\n",
    "\n",
    "\n",
    "示例 3：\n",
    "输入：intersectVal = 0, listA = [2,6,4], listB = [1,5], skipA = 3, skipB = 2\n",
    "输出：null\n",
    "解释：从各自的表头开始算起，链表 A 为 [2,6,4]，链表 B 为 [1,5]。\n",
    "由于这两个链表不相交，所以 intersectVal 必须为 0，而 skipA 和 skipB 可以是任意值。\n",
    "这两个链表不相交，因此返回 null 。\n",
    " \n",
    "\n",
    "提示：\n",
    "listA 中节点数目为 m\n",
    "listB 中节点数目为 n\n",
    "1 <= m, n <= 3 * 10^4\n",
    "1 <= Node.val <= 10^5\n",
    "0 <= skipA <= m\n",
    "0 <= skipB <= n\n",
    "如果 listA 和 listB 没有交点，intersectVal 为 0\n",
    "如果 listA 和 listB 有交点，intersectVal == listA[skipA] == listB[skipB]\n"
   ]
  },
  {
   "cell_type": "code",
   "execution_count": 4,
   "metadata": {},
   "outputs": [],
   "source": [
    "class ListNode:\n",
    "    def __init__(self, x, next=None):\n",
    "        self.val = x\n",
    "        self.next = next\n",
    "\n",
    "class Solution:\n",
    "    def getIntersectionNode(self, headA: ListNode, headB: ListNode) -> ListNode:\n",
    "        pa=headA\n",
    "        pb=headB\n",
    "        while pa!=pb:\n",
    "            if pa!=None and pb!=None:\n",
    "                pa=pa.next\n",
    "                pb=pb.next\n",
    "            elif pa==None:\n",
    "                pa=headB\n",
    "                pb=pb.next\n",
    "            else: \n",
    "                pb=headA\n",
    "                pa=pa.next\n",
    "        if pa==None:\n",
    "            return None\n",
    "        else:\n",
    "            return pa.val\n"
   ]
  },
  {
   "cell_type": "code",
   "execution_count": 5,
   "metadata": {},
   "outputs": [
    {
     "data": {
      "text/plain": [
       "8"
      ]
     },
     "execution_count": 5,
     "metadata": {},
     "output_type": "execute_result"
    }
   ],
   "source": [
    "# intersectVal = 8, listA = [4,1,8,4,5], listB = [5,6,1,8,4,5], skipA = 2, skipB = 3\n",
    "node3=ListNode(5)\n",
    "node2=ListNode(4,node3)\n",
    "node1=ListNode(8,node2)\n",
    "nodeB3=ListNode(1,node1)\n",
    "nodeB2=ListNode(6,nodeB3)\n",
    "nodeB1=ListNode(5,nodeB2)\n",
    "nodeA2=ListNode(1,node1)\n",
    "nodeA1=ListNode(4,nodeA2)\n",
    "\n",
    "sol=Solution()\n",
    "sol.getIntersectionNode(nodeA1,nodeB1)"
   ]
  },
  {
   "cell_type": "code",
   "execution_count": null,
   "metadata": {},
   "outputs": [],
   "source": []
  }
 ],
 "metadata": {
  "kernelspec": {
   "display_name": "Python 3.9.12 ('base')",
   "language": "python",
   "name": "python3"
  },
  "language_info": {
   "codemirror_mode": {
    "name": "ipython",
    "version": 3
   },
   "file_extension": ".py",
   "mimetype": "text/x-python",
   "name": "python",
   "nbconvert_exporter": "python",
   "pygments_lexer": "ipython3",
   "version": "3.9.12"
  },
  "orig_nbformat": 4,
  "vscode": {
   "interpreter": {
    "hash": "a825f8e8905b8e64233e6384cfa1616d0baa442a3b458fa78e4916d5c671b0d4"
   }
  }
 },
 "nbformat": 4,
 "nbformat_minor": 2
}
