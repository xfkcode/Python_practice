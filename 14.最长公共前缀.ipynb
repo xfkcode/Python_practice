{
 "cells": [
  {
   "cell_type": "markdown",
   "id": "340c1974",
   "metadata": {},
   "source": [
    "编写一个函数来查找字符串数组中的最长公共前缀。\n",
    "\n",
    "如果不存在公共前缀，返回空字符串 \"\"。\n",
    "\n",
    " \n",
    "示例 1：\n",
    "输入：strs = [\"flower\",\"flow\",\"flight\"]\n",
    "输出：\"fl\"\n",
    "\n",
    "示例 2：\n",
    "输入：strs = [\"dog\",\"racecar\",\"car\"]\n",
    "输出：\"\"\n",
    "解释：输入不存在公共前缀。\n",
    " \n",
    "\n",
    "提示：\n",
    "\n",
    "1 <= strs.length <= 200\n",
    "0 <= strs[i].length <= 200\n",
    "strs[i] 仅由小写英文字母组成"
   ]
  },
  {
   "cell_type": "code",
   "execution_count": 13,
   "id": "8ff2a498",
   "metadata": {},
   "outputs": [],
   "source": [
    "# 最长公共前缀\n",
    "class Solution:\n",
    "    def longestCommonPrefix(self,strs: list[str]) -> str:\n",
    "        base_str=strs[0]\n",
    "        length=len(base_str)\n",
    "        prefix=''\n",
    "        no_common=0\n",
    "        for i in range(length):\n",
    "            pre=base_str[:i+1]\n",
    "            for j in strs:\n",
    "                if pre!=j[:i+1]:\n",
    "                    no_common=1\n",
    "                    break\n",
    "            if no_common!=1:\n",
    "                prefix=pre\n",
    "            else:\n",
    "                break\n",
    "        return prefix\n",
    " "
   ]
  },
  {
   "cell_type": "code",
   "execution_count": 14,
   "id": "c23e21aa",
   "metadata": {},
   "outputs": [
    {
     "data": {
      "text/plain": [
       "'fl'"
      ]
     },
     "execution_count": 14,
     "metadata": {},
     "output_type": "execute_result"
    }
   ],
   "source": [
    "sol=Solution()\n",
    "sol.longestCommonPrefix(['flower','flow','flight'])"
   ]
  },
  {
   "cell_type": "code",
   "execution_count": 15,
   "id": "d6830df0",
   "metadata": {},
   "outputs": [
    {
     "data": {
      "text/plain": [
       "''"
      ]
     },
     "execution_count": 15,
     "metadata": {},
     "output_type": "execute_result"
    }
   ],
   "source": [
    "sol=Solution()\n",
    "sol.longestCommonPrefix(['dog','racecar','car'])"
   ]
  },
  {
   "cell_type": "code",
   "execution_count": null,
   "id": "bfef3b5f",
   "metadata": {},
   "outputs": [],
   "source": []
  }
 ],
 "metadata": {
  "kernelspec": {
   "display_name": "Python 3.9.12 ('base')",
   "language": "python",
   "name": "python3"
  },
  "language_info": {
   "codemirror_mode": {
    "name": "ipython",
    "version": 3
   },
   "file_extension": ".py",
   "mimetype": "text/x-python",
   "name": "python",
   "nbconvert_exporter": "python",
   "pygments_lexer": "ipython3",
   "version": "3.9.12"
  },
  "vscode": {
   "interpreter": {
    "hash": "a825f8e8905b8e64233e6384cfa1616d0baa442a3b458fa78e4916d5c671b0d4"
   }
  }
 },
 "nbformat": 4,
 "nbformat_minor": 5
}
