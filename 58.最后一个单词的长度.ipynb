{
 "cells": [
  {
   "cell_type": "markdown",
   "metadata": {},
   "source": [
    "给你一个字符串 s，由若干单词组成，单词前后用一些空格字符隔开。返回字符串中 最后一个 单词的长度。\n",
    "\n",
    "单词 是指仅由字母组成、不包含任何空格字符的最大子字符串。\n",
    "\n",
    " \n",
    "示例 1：\n",
    "\n",
    "输入：s = \"Hello World\"\n",
    "输出：5\n",
    "解释：最后一个单词是“World”，长度为5。\n",
    "\n",
    "示例 2：\n",
    "\n",
    "输入：s = \"   fly me   to   the moon  \"\n",
    "输出：4\n",
    "解释：最后一个单词是“moon”，长度为4。\n",
    "\n",
    "示例 3：\n",
    "\n",
    "输入：s = \"luffy is still joyboy\"\n",
    "输出：6\n",
    "解释：最后一个单词是长度为6的“joyboy”。\n",
    " \n",
    "\n",
    "提示：\n",
    "\n",
    "1 <= s.length <= 10^4\n",
    "s 仅有英文字母和空格 ' ' 组成\n",
    "s 中至少存在一个单词"
   ]
  },
  {
   "cell_type": "code",
   "execution_count": 1,
   "metadata": {},
   "outputs": [],
   "source": [
    "class Solution:\n",
    "    def lengthOfLastWord(self,s: str) -> int:\n",
    "        p=len(s)-1\n",
    "        count=0\n",
    "        while p>=0:\n",
    "            if s[p]!=' ':\n",
    "                count+=1\n",
    "                if p-1>=0 and s[p-1]==' ':\n",
    "                    return count\n",
    "            p-=1\n",
    "        return count\n"
   ]
  },
  {
   "cell_type": "code",
   "execution_count": 3,
   "metadata": {},
   "outputs": [
    {
     "data": {
      "text/plain": [
       "4"
      ]
     },
     "execution_count": 3,
     "metadata": {},
     "output_type": "execute_result"
    }
   ],
   "source": [
    "sol=Solution()\n",
    "sol.lengthOfLastWord(\"   fly me   to   the moon  \")"
   ]
  },
  {
   "cell_type": "code",
   "execution_count": 4,
   "metadata": {},
   "outputs": [
    {
     "data": {
      "text/plain": [
       "5"
      ]
     },
     "execution_count": 4,
     "metadata": {},
     "output_type": "execute_result"
    }
   ],
   "source": [
    "sol=Solution()\n",
    "sol.lengthOfLastWord('hello world')"
   ]
  },
  {
   "cell_type": "code",
   "execution_count": 5,
   "metadata": {},
   "outputs": [
    {
     "data": {
      "text/plain": [
       "6"
      ]
     },
     "execution_count": 5,
     "metadata": {},
     "output_type": "execute_result"
    }
   ],
   "source": [
    "sol=Solution()\n",
    "sol.lengthOfLastWord(\"luffy is still joyboy\")"
   ]
  },
  {
   "cell_type": "code",
   "execution_count": null,
   "metadata": {},
   "outputs": [],
   "source": []
  }
 ],
 "metadata": {
  "kernelspec": {
   "display_name": "Python 3.9.12 ('base')",
   "language": "python",
   "name": "python3"
  },
  "language_info": {
   "codemirror_mode": {
    "name": "ipython",
    "version": 3
   },
   "file_extension": ".py",
   "mimetype": "text/x-python",
   "name": "python",
   "nbconvert_exporter": "python",
   "pygments_lexer": "ipython3",
   "version": "3.9.12"
  },
  "orig_nbformat": 4,
  "vscode": {
   "interpreter": {
    "hash": "a825f8e8905b8e64233e6384cfa1616d0baa442a3b458fa78e4916d5c671b0d4"
   }
  }
 },
 "nbformat": 4,
 "nbformat_minor": 2
}
