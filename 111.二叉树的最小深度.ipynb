{
 "cells": [
  {
   "cell_type": "markdown",
   "metadata": {},
   "source": [
    "给定一个二叉树，找出其最小深度。\n",
    "\n",
    "最小深度是从根节点到最近叶子节点的最短路径上的节点数量。\n",
    "\n",
    "说明：叶子节点是指没有子节点的节点。\n",
    "\n",
    " \n",
    "示例 1：\n",
    "输入：root = [3,9,20,null,null,15,7]\n",
    "输出：2\n",
    "\n",
    "示例 2：\n",
    "输入：root = [2,null,3,null,4,null,5,null,6]\n",
    "输出：5\n",
    " \n",
    "\n",
    "提示：\n",
    "\n",
    "树中节点数的范围在 [0, 105] 内\n",
    "-1000 <= Node.val <= 1000"
   ]
  },
  {
   "cell_type": "code",
   "execution_count": 27,
   "metadata": {},
   "outputs": [],
   "source": [
    "class TreeNode:\n",
    "    def __init__(self, val=0, left=None, right=None):\n",
    "        self.val = val\n",
    "        self.left = left\n",
    "        self.right = right\n",
    "class Solution:\n",
    "    def minDepth(self, root: TreeNode) -> int:\n",
    "        if not root:\n",
    "            return 0\n",
    "        if not root.left and not root.right:\n",
    "            return 1\n",
    "        min_depth = 10**9\n",
    "        if root.left:\n",
    "            min_depth = min(self.minDepth(root.left), min_depth)\n",
    "        if root.right:\n",
    "            min_depth = min(self.minDepth(root.right), min_depth)\n",
    "        return min_depth + 1"
   ]
  },
  {
   "cell_type": "code",
   "execution_count": 28,
   "metadata": {},
   "outputs": [
    {
     "data": {
      "text/plain": [
       "5"
      ]
     },
     "execution_count": 28,
     "metadata": {},
     "output_type": "execute_result"
    }
   ],
   "source": [
    "# Tree [2,null,3,null,4,null,5,null,6]\n",
    "right34=TreeNode(6)\n",
    "right23=TreeNode(5,None,right34)\n",
    "right12=TreeNode(4,None,right23)\n",
    "right1=TreeNode(3,None,right12)\n",
    "root=TreeNode(2,None,right1)\n",
    "\n",
    "sol=Solution()\n",
    "sol.minDepth(root)"
   ]
  },
  {
   "cell_type": "code",
   "execution_count": 29,
   "metadata": {},
   "outputs": [
    {
     "data": {
      "text/plain": [
       "2"
      ]
     },
     "execution_count": 29,
     "metadata": {},
     "output_type": "execute_result"
    }
   ],
   "source": [
    "# Tree [3,9,20,null,null,15,7]\n",
    "right12=TreeNode(7)\n",
    "left12=TreeNode(15)\n",
    "right1=TreeNode(20,left12,right12)\n",
    "left1=TreeNode(9)\n",
    "root=TreeNode(3,left1,right1)\n",
    "\n",
    "sol=Solution()\n",
    "sol.minDepth(root)"
   ]
  },
  {
   "cell_type": "code",
   "execution_count": null,
   "metadata": {},
   "outputs": [],
   "source": []
  }
 ],
 "metadata": {
  "kernelspec": {
   "display_name": "Python 3.9.12 ('base')",
   "language": "python",
   "name": "python3"
  },
  "language_info": {
   "codemirror_mode": {
    "name": "ipython",
    "version": 3
   },
   "file_extension": ".py",
   "mimetype": "text/x-python",
   "name": "python",
   "nbconvert_exporter": "python",
   "pygments_lexer": "ipython3",
   "version": "3.9.12"
  },
  "orig_nbformat": 4,
  "vscode": {
   "interpreter": {
    "hash": "a825f8e8905b8e64233e6384cfa1616d0baa442a3b458fa78e4916d5c671b0d4"
   }
  }
 },
 "nbformat": 4,
 "nbformat_minor": 2
}
