{
 "cells": [
  {
   "cell_type": "markdown",
   "metadata": {},
   "source": [
    "给定一个  无重复元素 的 有序 整数数组 nums 。\n",
    "\n",
    "返回 恰好覆盖数组中所有数字 的 最小有序 区间范围列表 。也就是说，nums 的每个元素都恰好被某个区间范围所覆盖，  \n",
    "并且不存在属于某个范围但不属于 nums 的数字 x 。\n",
    "\n",
    "列表中的每个区间范围 [a,b] 应该按如下格式输出：\n",
    "\n",
    "\"a->b\" ，如果 a != b\n",
    "\"a\" ，如果 a == b\n",
    " \n",
    "\n",
    "示例 1：  \n",
    "输入：nums = [0,1,2,4,5,7]  \n",
    "输出：[\"0->2\",\"4->5\",\"7\"]  \n",
    "解释：区间范围是：  \n",
    "[0,2] --> \"0->2\"  \n",
    "[4,5] --> \"4->5\"  \n",
    "[7,7] --> \"7\"\n",
    "\n",
    "示例 2：  \n",
    "输入：nums = [0,2,3,4,6,8,9]  \n",
    "输出：[\"0\",\"2->4\",\"6\",\"8->9\"]  \n",
    "解释：区间范围是：  \n",
    "[0,0] --> \"0\"  \n",
    "[2,4] --> \"2->4\"  \n",
    "[6,6] --> \"6\"  \n",
    "[8,9] --> \"8->9\"  \n",
    " \n",
    "\n",
    "提示：\n",
    "\n",
    "0 <= nums.length <= 20  \n",
    "-2^31 <= nums[i] <= 2^31 - 1  \n",
    "nums 中的所有值都 互不相同  \n",
    "nums 按升序排列"
   ]
  },
  {
   "cell_type": "code",
   "execution_count": 18,
   "metadata": {},
   "outputs": [],
   "source": [
    "class Solution:\n",
    "    def summaryRanges(self, nums: list[int]) -> list[str]:\n",
    "        ans=[]\n",
    "        i=0\n",
    "        while i<len(nums):\n",
    "            first=nums[i]\n",
    "            while i+1<len(nums) and nums[i]+1==nums[i+1]:\n",
    "                i+=1\n",
    "            last=nums[i]\n",
    "            if first==last:\n",
    "                temp=str(first)\n",
    "            else:\n",
    "                temp=str(first)+\"->\"+str(last)\n",
    "            ans.append(temp)\n",
    "            i+=1\n",
    "        return ans"
   ]
  },
  {
   "cell_type": "code",
   "execution_count": 19,
   "metadata": {},
   "outputs": [
    {
     "data": {
      "text/plain": [
       "['0->2', '4->5', '7']"
      ]
     },
     "execution_count": 19,
     "metadata": {},
     "output_type": "execute_result"
    }
   ],
   "source": [
    "sol=Solution()\n",
    "sol.summaryRanges([0,1,2,4,5,7])"
   ]
  },
  {
   "cell_type": "code",
   "execution_count": 20,
   "metadata": {},
   "outputs": [
    {
     "data": {
      "text/plain": [
       "['0', '2->4', '6', '8->9']"
      ]
     },
     "execution_count": 20,
     "metadata": {},
     "output_type": "execute_result"
    }
   ],
   "source": [
    "sol=Solution()\n",
    "sol.summaryRanges([0,2,3,4,6,8,9])"
   ]
  },
  {
   "cell_type": "code",
   "execution_count": null,
   "metadata": {},
   "outputs": [],
   "source": []
  }
 ],
 "metadata": {
  "kernelspec": {
   "display_name": "Python 3.9.12 ('base')",
   "language": "python",
   "name": "python3"
  },
  "language_info": {
   "codemirror_mode": {
    "name": "ipython",
    "version": 3
   },
   "file_extension": ".py",
   "mimetype": "text/x-python",
   "name": "python",
   "nbconvert_exporter": "python",
   "pygments_lexer": "ipython3",
   "version": "3.9.12"
  },
  "orig_nbformat": 4,
  "vscode": {
   "interpreter": {
    "hash": "a825f8e8905b8e64233e6384cfa1616d0baa442a3b458fa78e4916d5c671b0d4"
   }
  }
 },
 "nbformat": 4,
 "nbformat_minor": 2
}
