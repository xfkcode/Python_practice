{
 "cells": [
  {
   "cell_type": "markdown",
   "metadata": {},
   "source": [
    "实现 strStr() 函数。\n",
    "\n",
    "给你两个字符串 haystack 和 needle ，请你在 haystack 字符串中找出 needle 字符串出现的第一个位置（下标从 0 开始）。如果不存在，则返回  -1 。\n",
    "\n",
    "说明：\n",
    "\n",
    "当 needle 是空字符串时，我们应当返回什么值呢？这是一个在面试中很好的问题。\n",
    "\n",
    "对于本题而言，当 needle 是空字符串时我们应当返回 0 。这与 C 语言的 strstr() 以及 Java 的 indexOf() 定义相符。\n",
    "\n",
    " \n",
    "示例 1：\n",
    "\n",
    "输入：haystack = \"hello\", needle = \"ll\"\n",
    "输出：2\n",
    "\n",
    "示例 2：\n",
    "\n",
    "输入：haystack = \"aaaaa\", needle = \"bba\"\n",
    "输出：-1\n",
    " \n",
    "\n",
    "提示：\n",
    "\n",
    "1 <= haystack.length, needle.length <= 10^4\n",
    "haystack 和 needle 仅由小写英文字符组成"
   ]
  },
  {
   "cell_type": "code",
   "execution_count": 14,
   "metadata": {},
   "outputs": [],
   "source": [
    "# 先从haystack寻找needle首元素匹配下标,再逐一比对\n",
    "class Solution:\n",
    "    def strStr(self,haystack: str,needle: str) -> int:\n",
    "        # haystack长度不能小于needle，否则直接返回-1\n",
    "        if len(haystack)<len(needle):\n",
    "            return -1\n",
    "        # needle为空的情况\n",
    "        if needle is None:\n",
    "            return 0\n",
    "        for i in range(len(haystack)):\n",
    "            # 在遍历haystack的过程中，剩余字符串长度小于needle长度，直接返回-1\n",
    "            if len(haystack)-i<len(needle):\n",
    "                return -1\n",
    "            flag=1\n",
    "            # 找到首元素匹配\n",
    "            if haystack[i]==needle[0]:\n",
    "                # 逐一比较\n",
    "                temp=i\n",
    "                for j in needle:\n",
    "                    if j!=haystack[temp]:\n",
    "                        flag=0\n",
    "                        break\n",
    "                    temp+=1\n",
    "            else:\n",
    "                continue\n",
    "            if flag==0:\n",
    "                continue\n",
    "            else:\n",
    "                return i\n",
    "        return -1        \n"
   ]
  },
  {
   "cell_type": "code",
   "execution_count": 12,
   "metadata": {},
   "outputs": [
    {
     "data": {
      "text/plain": [
       "-1"
      ]
     },
     "execution_count": 12,
     "metadata": {},
     "output_type": "execute_result"
    }
   ],
   "source": [
    "sol=Solution()\n",
    "sol.strStr('aaaaaa','bba')"
   ]
  },
  {
   "cell_type": "code",
   "execution_count": 13,
   "metadata": {},
   "outputs": [
    {
     "data": {
      "text/plain": [
       "2"
      ]
     },
     "execution_count": 13,
     "metadata": {},
     "output_type": "execute_result"
    }
   ],
   "source": [
    "sol=Solution()\n",
    "sol.strStr('hello','ll')"
   ]
  },
  {
   "cell_type": "code",
   "execution_count": 15,
   "metadata": {},
   "outputs": [
    {
     "data": {
      "text/plain": [
       "-1"
      ]
     },
     "execution_count": 15,
     "metadata": {},
     "output_type": "execute_result"
    }
   ],
   "source": [
    "sol=Solution()\n",
    "sol.strStr('hello','a')"
   ]
  },
  {
   "cell_type": "code",
   "execution_count": null,
   "metadata": {},
   "outputs": [],
   "source": []
  }
 ],
 "metadata": {
  "kernelspec": {
   "display_name": "Python 3.9.12 ('base')",
   "language": "python",
   "name": "python3"
  },
  "language_info": {
   "codemirror_mode": {
    "name": "ipython",
    "version": 3
   },
   "file_extension": ".py",
   "mimetype": "text/x-python",
   "name": "python",
   "nbconvert_exporter": "python",
   "pygments_lexer": "ipython3",
   "version": "3.9.12"
  },
  "orig_nbformat": 4,
  "vscode": {
   "interpreter": {
    "hash": "a825f8e8905b8e64233e6384cfa1616d0baa442a3b458fa78e4916d5c671b0d4"
   }
  }
 },
 "nbformat": 4,
 "nbformat_minor": 2
}
