{
 "cells": [
  {
   "cell_type": "markdown",
   "metadata": {},
   "source": [
    "给定一个整数，写一个函数来判断它是否是 3 的幂次方。如果是，返回 true ；否则，返回 false 。\n",
    "\n",
    "整数 n 是 3 的幂次方需满足：存在整数 x 使得 n == 3x\n",
    "\n",
    " \n",
    "\n",
    "示例 1：  \n",
    "输入：n = 27  \n",
    "输出：true  \n",
    "示例 2：  \n",
    "输入：n = 0  \n",
    "输出：false  \n",
    "示例 3：  \n",
    "输入：n = 9  \n",
    "输出：true  \n",
    "示例 4：  \n",
    "输入：n = 45  \n",
    "输出：false  \n",
    " \n",
    "\n",
    "提示：\n",
    "\n",
    "-2^31 <= n <= 2^31 - 1\n",
    " \n",
    "\n",
    "进阶：你能不使用循环或者递归来完成本题吗？"
   ]
  },
  {
   "cell_type": "code",
   "execution_count": 1,
   "metadata": {},
   "outputs": [],
   "source": [
    "class Solution:\n",
    "    def isPowerOfThree(self, n: int) -> bool:\n",
    "        while n and n % 3 == 0:\n",
    "            n //= 3\n",
    "        return n == 1"
   ]
  },
  {
   "cell_type": "code",
   "execution_count": 2,
   "metadata": {},
   "outputs": [
    {
     "data": {
      "text/plain": [
       "True"
      ]
     },
     "execution_count": 2,
     "metadata": {},
     "output_type": "execute_result"
    }
   ],
   "source": [
    "sol=Solution()\n",
    "sol.isPowerOfThree(27)"
   ]
  },
  {
   "cell_type": "code",
   "execution_count": 4,
   "metadata": {},
   "outputs": [],
   "source": [
    "class Solution:\n",
    "    def IsPowerOfThree(self, n: int) -> bool:\n",
    "        return n > 0 and 1162261467 % n == 0"
   ]
  },
  {
   "cell_type": "code",
   "execution_count": 5,
   "metadata": {},
   "outputs": [
    {
     "data": {
      "text/plain": [
       "True"
      ]
     },
     "execution_count": 5,
     "metadata": {},
     "output_type": "execute_result"
    }
   ],
   "source": [
    "sol=Solution()\n",
    "sol.IsPowerOfThree(27)"
   ]
  },
  {
   "cell_type": "code",
   "execution_count": null,
   "metadata": {},
   "outputs": [],
   "source": []
  }
 ],
 "metadata": {
  "kernelspec": {
   "display_name": "Python 3.9.12 ('base')",
   "language": "python",
   "name": "python3"
  },
  "language_info": {
   "codemirror_mode": {
    "name": "ipython",
    "version": 3
   },
   "file_extension": ".py",
   "mimetype": "text/x-python",
   "name": "python",
   "nbconvert_exporter": "python",
   "pygments_lexer": "ipython3",
   "version": "3.9.12"
  },
  "orig_nbformat": 4,
  "vscode": {
   "interpreter": {
    "hash": "a825f8e8905b8e64233e6384cfa1616d0baa442a3b458fa78e4916d5c671b0d4"
   }
  }
 },
 "nbformat": 4,
 "nbformat_minor": 2
}
