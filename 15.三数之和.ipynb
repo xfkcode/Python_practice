{
 "cells": [
  {
   "cell_type": "markdown",
   "id": "74dcb47c",
   "metadata": {},
   "source": [
    "给你一个整数数组 nums ，判断是否存在三元组 [nums[i], nums[j], nums[k]] 满足 i != j、i != k 且 j != k ，同时还满足 nums[i] + nums[j] + nums[k] == 0 。请\n",
    "\n",
    "你返回所有和为 0 且不重复的三元组。\n",
    "\n",
    "注意：答案中不可以包含重复的三元组。\n",
    "\n",
    " \n",
    "示例 1：\n",
    "输入：nums = [-1,0,1,2,-1,-4]\n",
    "输出：[[-1,-1,2],[-1,0,1]]\n",
    "解释：\n",
    "nums[0] + nums[1] + nums[2] = (-1) + 0 + 1 = 0 。\n",
    "nums[1] + nums[2] + nums[4] = 0 + 1 + (-1) = 0 。\n",
    "nums[0] + nums[3] + nums[4] = (-1) + 2 + (-1) = 0 。\n",
    "不同的三元组是 [-1,0,1] 和 [-1,-1,2] 。\n",
    "注意，输出的顺序和三元组的顺序并不重要。\n",
    "\n",
    "示例 2：\n",
    "输入：nums = [0,1,1]\n",
    "输出：[]\n",
    "解释：唯一可能的三元组和不为 0 。\n",
    "\n",
    "示例 3：\n",
    "输入：nums = [0,0,0]\n",
    "输出：[[0,0,0]]\n",
    "解释：唯一可能的三元组和为 0 。\n",
    " \n",
    "\n",
    "提示：\n",
    "\n",
    "3 <= nums.length <= 3000\n",
    "-105 <= nums[i] <= 105"
   ]
  },
  {
   "cell_type": "code",
   "execution_count": 94,
   "id": "b358dc27",
   "metadata": {},
   "outputs": [],
   "source": [
    "# 三数之和，版本一（超时）\n",
    "class Solution:\n",
    "    def threeSum(self,nums: list[int]) -> list[list[int]]:\n",
    "        result_list=[]\n",
    "        length=len(nums)\n",
    "        for i in range(length):\n",
    "            a=nums[i]\n",
    "            for j in range(i+1,length):\n",
    "                b=nums[j]\n",
    "                c=-(a+b)\n",
    "                new_num=nums[j+1:length]\n",
    "                new_equ_old=0\n",
    "                addlist=[a,b,c]\n",
    "                addlist.sort()\n",
    "                for k in result_list:\n",
    "                    if addlist==k:\n",
    "                        new_equ_old=1\n",
    "                        break\n",
    "                    else:\n",
    "                        new_equ_old=0 \n",
    "                if new_equ_old==0 and c in new_num:\n",
    "                    result_list.insert(0,addlist)\n",
    "        return result_list\n",
    "                "
   ]
  },
  {
   "cell_type": "code",
   "execution_count": 95,
   "id": "4eaa6a0f",
   "metadata": {},
   "outputs": [
    {
     "data": {
      "text/plain": [
       "[[-1, -1, 2], [-1, 0, 1]]"
      ]
     },
     "execution_count": 95,
     "metadata": {},
     "output_type": "execute_result"
    }
   ],
   "source": [
    "sol=Solution()\n",
    "sol.threeSum([-1,0,1,2,-1,-4])"
   ]
  },
  {
   "cell_type": "code",
   "execution_count": 96,
   "id": "35a75d5d",
   "metadata": {},
   "outputs": [
    {
     "data": {
      "text/plain": [
       "[]"
      ]
     },
     "execution_count": 96,
     "metadata": {},
     "output_type": "execute_result"
    }
   ],
   "source": [
    "sol=Solution()\n",
    "sol.threeSum([])"
   ]
  },
  {
   "cell_type": "code",
   "execution_count": 97,
   "id": "657c5f91",
   "metadata": {},
   "outputs": [
    {
     "data": {
      "text/plain": [
       "[]"
      ]
     },
     "execution_count": 97,
     "metadata": {},
     "output_type": "execute_result"
    }
   ],
   "source": [
    "sol=Solution()\n",
    "sol.threeSum([0])"
   ]
  },
  {
   "cell_type": "code",
   "execution_count": 98,
   "id": "8f400322",
   "metadata": {},
   "outputs": [
    {
     "data": {
      "text/plain": [
       "[[0, 0, 0], [-5, 1, 4], [-2, -2, 4], [-2, 1, 1], [-4, 0, 4], [-4, 1, 3]]"
      ]
     },
     "execution_count": 98,
     "metadata": {},
     "output_type": "execute_result"
    }
   ],
   "source": [
    "sol=Solution()\n",
    "sol.threeSum([-4,-2,1,-5,-4,-4,4,-2,0,4,0,-2,3,1,-5,0])"
   ]
  },
  {
   "cell_type": "code",
   "execution_count": 105,
   "id": "b619332b",
   "metadata": {},
   "outputs": [],
   "source": [
    "# 三数之和，版本二（超时）\n",
    "class Solution:\n",
    "    def ThreeSum(self,nums: list[int]) -> list[list[int]]:\n",
    "        result_list=[]\n",
    "        length=len(nums)\n",
    "        for i in range(length):\n",
    "            a=nums[i]\n",
    "            for j in range(i+1,length):\n",
    "                b=nums[j]\n",
    "                c=-(a+b)\n",
    "                new_num=nums[j+1:length]\n",
    "                new_equ_old=0\n",
    "                addlist=[a,b,c]\n",
    "                addlist.sort()\n",
    "                if addlist in result_list:\n",
    "                    new_equ_old=1\n",
    "                if new_equ_old==0 and c in new_num:\n",
    "                    result_list.insert(0,addlist)\n",
    "        return result_list"
   ]
  },
  {
   "cell_type": "code",
   "execution_count": 106,
   "id": "74d6c891",
   "metadata": {},
   "outputs": [
    {
     "data": {
      "text/plain": [
       "[[-1, -1, 2], [-1, 0, 1]]"
      ]
     },
     "execution_count": 106,
     "metadata": {},
     "output_type": "execute_result"
    }
   ],
   "source": [
    "sol=Solution()\n",
    "sol.ThreeSum([-1,0,1,2,-1,-4])"
   ]
  },
  {
   "cell_type": "code",
   "execution_count": 107,
   "id": "7e79812b",
   "metadata": {},
   "outputs": [],
   "source": [
    "# 三数之和，版本三（超时）\n",
    "class Solution:\n",
    "    def Three_Sum(self,nums: list[int]) -> list[list[int]]:\n",
    "        result_list=[]\n",
    "        length=len(nums)\n",
    "        for i in range(length):\n",
    "            a=nums[i]\n",
    "            for j in range(i+1,length):\n",
    "                b=nums[j]\n",
    "                c=-(a+b)\n",
    "                new_num=nums[j+1:length]\n",
    "                addlist=[a,b,c]\n",
    "                addlist.sort()\n",
    "                if addlist not in result_list and c in new_num:\n",
    "                    result_list.insert(0,addlist)\n",
    "        return result_list"
   ]
  },
  {
   "cell_type": "code",
   "execution_count": 108,
   "id": "d76085fb",
   "metadata": {},
   "outputs": [
    {
     "data": {
      "text/plain": [
       "[[-1, -1, 2], [-1, 0, 1]]"
      ]
     },
     "execution_count": 108,
     "metadata": {},
     "output_type": "execute_result"
    }
   ],
   "source": [
    "sol=Solution()\n",
    "sol.Three_Sum([-1,0,1,2,-1,-4])"
   ]
  },
  {
   "cell_type": "code",
   "execution_count": 2,
   "id": "83af1171",
   "metadata": {},
   "outputs": [],
   "source": [
    "# 三数之和，力扣标准解\n",
    "class Solution:\n",
    "    def THREESUM(self, nums: list[int]) -> list[list[int]]:\n",
    "        n = len(nums)\n",
    "        nums.sort()\n",
    "        ans = list()\n",
    "        \n",
    "        # 枚举 a\n",
    "        for first in range(n):\n",
    "            # 需要和上一次枚举的数不相同\n",
    "            if first > 0 and nums[first] == nums[first - 1]:\n",
    "                continue\n",
    "            # c 对应的指针初始指向数组的最右端\n",
    "            third = n - 1\n",
    "            target = -nums[first]\n",
    "            # 枚举 b\n",
    "            for second in range(first + 1, n):\n",
    "                # 需要和上一次枚举的数不相同\n",
    "                if second > first + 1 and nums[second] == nums[second - 1]:\n",
    "                    continue\n",
    "                # 需要保证 b 的指针在 c 的指针的左侧\n",
    "                while second < third and nums[second] + nums[third] > target:\n",
    "                    third -= 1\n",
    "                # 如果指针重合，随着 b 后续的增加\n",
    "                # 就不会有满足 a+b+c=0 并且 b<c 的 c 了，可以退出循环\n",
    "                if second == third:\n",
    "                    break\n",
    "                if nums[second] + nums[third] == target:\n",
    "                    ans.append([nums[first], nums[second], nums[third]])\n",
    "        \n",
    "        return ans"
   ]
  },
  {
   "cell_type": "code",
   "execution_count": 3,
   "id": "7771c799",
   "metadata": {},
   "outputs": [
    {
     "data": {
      "text/plain": [
       "[[-1, -1, 2], [-1, 0, 1]]"
      ]
     },
     "execution_count": 3,
     "metadata": {},
     "output_type": "execute_result"
    }
   ],
   "source": [
    "sol=Solution()\n",
    "sol.THREESUM([-1,0,1,2,-1,-4])"
   ]
  },
  {
   "cell_type": "code",
   "execution_count": 4,
   "id": "1b01247f",
   "metadata": {},
   "outputs": [
    {
     "data": {
      "text/plain": [
       "[[-5, 1, 4], [-4, 0, 4], [-4, 1, 3], [-2, -2, 4], [-2, 1, 1], [0, 0, 0]]"
      ]
     },
     "execution_count": 4,
     "metadata": {},
     "output_type": "execute_result"
    }
   ],
   "source": [
    "sol=Solution()\n",
    "sol.THREESUM([-4,-2,1,-5,-4,-4,4,-2,0,4,0,-2,3,1,-5,0])"
   ]
  },
  {
   "cell_type": "code",
   "execution_count": null,
   "id": "c3f55b4b",
   "metadata": {},
   "outputs": [],
   "source": []
  }
 ],
 "metadata": {
  "kernelspec": {
   "display_name": "Python 3 (ipykernel)",
   "language": "python",
   "name": "python3"
  },
  "language_info": {
   "codemirror_mode": {
    "name": "ipython",
    "version": 3
   },
   "file_extension": ".py",
   "mimetype": "text/x-python",
   "name": "python",
   "nbconvert_exporter": "python",
   "pygments_lexer": "ipython3",
   "version": "3.9.12"
  }
 },
 "nbformat": 4,
 "nbformat_minor": 5
}
