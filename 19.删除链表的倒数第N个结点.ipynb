{
 "cells": [
  {
   "cell_type": "markdown",
   "metadata": {},
   "source": [
    "给你一个链表，删除链表的倒数第 n 个结点，并且返回链表的头结点。\n",
    "\n",
    " \n",
    "示例 1：\n",
    "输入：head = [1,2,3,4,5], n = 2  \n",
    "输出：[1,2,3,5]  \n",
    "\n",
    "示例 2：  \n",
    "输入：head = [1], n = 1  \n",
    "输出：[]  \n",
    "\n",
    "示例 3：  \n",
    "输入：head = [1,2], n = 1  \n",
    "输出：[1]  \n",
    " \n",
    "\n",
    "提示：\n",
    "\n",
    "链表中结点的数目为 sz  \n",
    "1 <= sz <= 30  \n",
    "0 <= Node.val <= 100  \n",
    "1 <= n <= sz  \n",
    " \n",
    "\n",
    "进阶：你能尝试使用一趟扫描实现吗？"
   ]
  },
  {
   "cell_type": "code",
   "execution_count": 33,
   "metadata": {},
   "outputs": [],
   "source": [
    "class ListNode:\n",
    "    def __init__(self, val=0, next=None):\n",
    "        self.val = val\n",
    "        self.next = next\n",
    "\n",
    "class Solution:\n",
    "    def removeNthFromEnd(self, head: ListNode, n: int) -> ListNode:\n",
    "        node=head\n",
    "        length=0\n",
    "        while node!=None:\n",
    "            length+=1\n",
    "            node=node.next\n",
    "        node=head\n",
    "        if length==1:\n",
    "            node=None\n",
    "            return\n",
    "        for i in range(length-n-1):\n",
    "            node=node.next \n",
    "        node.next=node.next.next\n",
    "        return            \n",
    "            "
   ]
  },
  {
   "cell_type": "code",
   "execution_count": 34,
   "metadata": {},
   "outputs": [
    {
     "name": "stdout",
     "output_type": "stream",
     "text": [
      "[1, 2, 3, 4, 5]\n",
      "[1, 2, 3, 5]\n",
      "[1, 3, 5]\n",
      "[1, 3]\n",
      "[1]\n",
      "[1]\n"
     ]
    }
   ],
   "source": [
    "node4=ListNode(5)\n",
    "node3=ListNode(4,node4)\n",
    "node2=ListNode(3,node3)\n",
    "node1=ListNode(2,node2)\n",
    "head=ListNode(1,node1)\n",
    "\n",
    "def printlistnode(head):\n",
    "    ans=[]\n",
    "    while head!=None:\n",
    "        ans.append(head.val)\n",
    "        head=head.next\n",
    "    print(ans)\n",
    "    return\n",
    "\n",
    "printlistnode(head)\n",
    "sol=Solution()\n",
    "sol.removeNthFromEnd(head,2)\n",
    "printlistnode(head)\n",
    "sol.removeNthFromEnd(head,3)\n",
    "printlistnode(head)\n",
    "sol.removeNthFromEnd(head,1)\n",
    "printlistnode(head)\n",
    "sol.removeNthFromEnd(head,1)\n",
    "printlistnode(head)\n",
    "sol.removeNthFromEnd(head,1)\n",
    "printlistnode(head)\n"
   ]
  },
  {
   "cell_type": "code",
   "execution_count": 37,
   "metadata": {},
   "outputs": [],
   "source": [
    "class solution:\n",
    "    def removeNthFromEnd(self, head: ListNode, n: int) -> ListNode:\n",
    "        def getLength(head: ListNode) -> int:\n",
    "            length = 0\n",
    "            while head:\n",
    "                length += 1\n",
    "                head = head.next\n",
    "            return length\n",
    "        \n",
    "        dummy = ListNode(0, head)\n",
    "        length = getLength(head)\n",
    "        cur = dummy\n",
    "        for i in range(1, length - n + 1):\n",
    "            cur = cur.next\n",
    "        cur.next = cur.next.next\n",
    "        return dummy.next"
   ]
  },
  {
   "cell_type": "code",
   "execution_count": 38,
   "metadata": {},
   "outputs": [
    {
     "name": "stdout",
     "output_type": "stream",
     "text": [
      "[1]\n"
     ]
    }
   ],
   "source": [
    "head=ListNode(1,node1)\n",
    "sol1=solution()\n",
    "sol1.removeNthFromEnd(head,1)\n",
    "printlistnode(head)"
   ]
  },
  {
   "cell_type": "code",
   "execution_count": null,
   "metadata": {},
   "outputs": [],
   "source": []
  }
 ],
 "metadata": {
  "kernelspec": {
   "display_name": "Python 3.9.12 ('base')",
   "language": "python",
   "name": "python3"
  },
  "language_info": {
   "codemirror_mode": {
    "name": "ipython",
    "version": 3
   },
   "file_extension": ".py",
   "mimetype": "text/x-python",
   "name": "python",
   "nbconvert_exporter": "python",
   "pygments_lexer": "ipython3",
   "version": "3.9.12"
  },
  "orig_nbformat": 4,
  "vscode": {
   "interpreter": {
    "hash": "a825f8e8905b8e64233e6384cfa1616d0baa442a3b458fa78e4916d5c671b0d4"
   }
  }
 },
 "nbformat": 4,
 "nbformat_minor": 2
}
