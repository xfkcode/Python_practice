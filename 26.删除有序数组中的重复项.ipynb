{
 "cells": [
  {
   "cell_type": "markdown",
   "metadata": {},
   "source": [
    "给你一个 升序排列 的数组 nums ，请你 原地 删除重复出现的元素，使每个元素 只出现一次 ，返回删除后数组的新长度。元素的 相对顺序 应该保持 一致 。\n",
    "\n",
    "由于在某些语言中不能改变数组的长度，所以必须将结果放在数组nums的第一部分。更规范地说，如果在删除重复项之后有 k 个元素，那么 nums 的前 k 个元素应该保存最终结果。\n",
    "\n",
    "将最终结果插入 nums 的前 k 个位置后返回 k 。\n",
    "\n",
    "不要使用额外的空间，你必须在 原地 修改输入数组 并在使用 O(1) 额外空间的条件下完成。\n",
    "\n",
    "判题标准:\n",
    "\n",
    "系统会用下面的代码来测试你的题解:\n",
    "\n",
    "int[] nums = [...]; // 输入数组\n",
    "int[] expectedNums = [...]; // 长度正确的期望答案\n",
    "                                                                                                    \n",
    "int k = removeDuplicates(nums); // 调用\n",
    "\n",
    "assert k == expectedNums.length;\n",
    "for (int i = 0; i < k; i++) {\n",
    "    assert nums[i] == expectedNums[i];\n",
    "}\n",
    "如果所有断言都通过，那么您的题解将被 通过。\n",
    "\n",
    " \n",
    "示例 1：\n",
    "\n",
    "输入：nums = [1,1,2]\n",
    "输出：2, nums = [1,2,_]\n",
    "解释：函数应该返回新的长度 2 ，并且原数组 nums 的前两个元素被修改为 1, 2 。不需要考虑数组中超出新长度后面的元素。\n",
    "示例 2：\n",
    "\n",
    "输入：nums = [0,0,1,1,1,2,2,3,3,4]\n",
    "输出：5, nums = [0,1,2,3,4]\n",
    "解释：函数应该返回新的长度 5 ， 并且原数组 nums 的前五个元素被修改为 0, 1, 2, 3, 4 。不需要考虑数组中超出新长度后面的元素。\n",
    " \n",
    "\n",
    "提示：\n",
    "\n",
    "1 <= nums.length <= 3 * 104\n",
    "-104 <= nums[i] <= 104\n",
    "nums 已按 升序 排列"
   ]
  },
  {
   "cell_type": "code",
   "execution_count": 10,
   "metadata": {},
   "outputs": [],
   "source": [
    "# 双指针\n",
    "class Solution:\n",
    "    def removeDuplicates(self,nums:list[int]) -> int:\n",
    "        p=0\n",
    "        q=1\n",
    "        while q<len(nums):\n",
    "            if nums[p]==nums[q]:\n",
    "                pass\n",
    "            else: \n",
    "                if q-p>1:\n",
    "                    nums[p+1]=nums[q]\n",
    "                p+=1\n",
    "            q+=1\n",
    "        return p+1,nums\n",
    "            "
   ]
  },
  {
   "cell_type": "code",
   "execution_count": 11,
   "metadata": {},
   "outputs": [
    {
     "data": {
      "text/plain": [
       "(3, [1, 2, 3, 3, 3])"
      ]
     },
     "execution_count": 11,
     "metadata": {},
     "output_type": "execute_result"
    }
   ],
   "source": [
    "sol=Solution()\n",
    "sol.removeDuplicates([1,1,2,3,3])"
   ]
  },
  {
   "cell_type": "code",
   "execution_count": 12,
   "metadata": {},
   "outputs": [
    {
     "data": {
      "text/plain": [
       "(2, [1, 2, 2])"
      ]
     },
     "execution_count": 12,
     "metadata": {},
     "output_type": "execute_result"
    }
   ],
   "source": [
    "sol=Solution()\n",
    "sol.removeDuplicates([1,1,2])"
   ]
  },
  {
   "cell_type": "code",
   "execution_count": 13,
   "metadata": {},
   "outputs": [
    {
     "data": {
      "text/plain": [
       "(3, [1, 2, 3])"
      ]
     },
     "execution_count": 13,
     "metadata": {},
     "output_type": "execute_result"
    }
   ],
   "source": [
    "sol=Solution()\n",
    "sol.removeDuplicates([1,2,3])"
   ]
  }
 ],
 "metadata": {
  "kernelspec": {
   "display_name": "Python 3.9.12 ('base')",
   "language": "python",
   "name": "python3"
  },
  "language_info": {
   "codemirror_mode": {
    "name": "ipython",
    "version": 3
   },
   "file_extension": ".py",
   "mimetype": "text/x-python",
   "name": "python",
   "nbconvert_exporter": "python",
   "pygments_lexer": "ipython3",
   "version": "3.9.12"
  },
  "orig_nbformat": 4,
  "vscode": {
   "interpreter": {
    "hash": "a825f8e8905b8e64233e6384cfa1616d0baa442a3b458fa78e4916d5c671b0d4"
   }
  }
 },
 "nbformat": 4,
 "nbformat_minor": 2
}
