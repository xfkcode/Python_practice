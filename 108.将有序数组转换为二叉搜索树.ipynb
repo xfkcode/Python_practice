{
 "cells": [
  {
   "cell_type": "markdown",
   "metadata": {},
   "source": [
    "给你一个整数数组 nums ，其中元素已经按 升序 排列，请你将其转换为一棵 高度平衡 二叉搜索树。\n",
    "\n",
    "高度平衡 二叉树是一棵满足「每个节点的左右两个子树的高度差的绝对值不超过 1 」的二叉树。\n",
    "\n",
    " \n",
    "示例 1：\n",
    "输入：nums = [-10,-3,0,5,9]\n",
    "输出：[0,-3,9,-10,null,5]\n",
    "解释：[0,-10,5,null,-3,null,9] 也将被视为正确答案：\n",
    "\n",
    "示例 2：\n",
    "输入：nums = [1,3]\n",
    "输出：[3,1]\n",
    "解释：[1,null,3] 和 [3,1] 都是高度平衡二叉搜索树。\n",
    " \n",
    "\n",
    "提示：\n",
    "\n",
    "1 <= nums.length <= 104\n",
    "-10^4 <= nums[i] <= 10^4\n",
    "nums 按 严格递增 顺序排列"
   ]
  },
  {
   "cell_type": "code",
   "execution_count": 2,
   "metadata": {},
   "outputs": [],
   "source": [
    "# 递归\n",
    "class TreeNode:\n",
    "    def __init__(self, val=0, left=None, right=None):\n",
    "        self.val = val\n",
    "        self.left = left\n",
    "        self.right = right\n",
    "        \n",
    "class Solution:\n",
    "    def sortedArrayToBST(self, nums: list[int]) -> TreeNode:\n",
    "        left=0\n",
    "        right=len(nums)-1\n",
    "        if left>right:\n",
    "            return None\n",
    "        mid=(left+right)//2\n",
    "        root=TreeNode(nums[mid],self.sortedArrayToBST(nums[left:mid]),self.sortedArrayToBST(nums[mid+1:]))\n",
    "        return root"
   ]
  },
  {
   "cell_type": "code",
   "execution_count": 6,
   "metadata": {},
   "outputs": [],
   "source": [
    "# 中序验证\n",
    "class Validation:\n",
    "    def inorderTraversal(self,root: TreeNode) -> list[int]:\n",
    "        if not root:\n",
    "            return \n",
    "        ans=[]\n",
    "        ans.append(self.inorderTraversal(root.left))\n",
    "        ans.append(root.val)\n",
    "        ans.append(self.inorderTraversal(root.right))\n",
    "        return ans"
   ]
  },
  {
   "cell_type": "code",
   "execution_count": 8,
   "metadata": {},
   "outputs": [
    {
     "data": {
      "text/plain": [
       "[[None, -10, [None, -3, None]], 0, [None, 5, [None, 9, None]]]"
      ]
     },
     "execution_count": 8,
     "metadata": {},
     "output_type": "execute_result"
    }
   ],
   "source": [
    "sol=Solution()\n",
    "val=Validation()\n",
    "val.inorderTraversal(sol.sortedArrayToBST([-10,-3,0,5,9]))"
   ]
  },
  {
   "cell_type": "code",
   "execution_count": 9,
   "metadata": {},
   "outputs": [
    {
     "data": {
      "text/plain": [
       "[None, 1, [None, 3, None]]"
      ]
     },
     "execution_count": 9,
     "metadata": {},
     "output_type": "execute_result"
    }
   ],
   "source": [
    "sol=Solution()\n",
    "val=Validation()\n",
    "val.inorderTraversal(sol.sortedArrayToBST([1,3]))"
   ]
  },
  {
   "cell_type": "code",
   "execution_count": null,
   "metadata": {},
   "outputs": [],
   "source": []
  }
 ],
 "metadata": {
  "kernelspec": {
   "display_name": "Python 3.9.12 ('base')",
   "language": "python",
   "name": "python3"
  },
  "language_info": {
   "codemirror_mode": {
    "name": "ipython",
    "version": 3
   },
   "file_extension": ".py",
   "mimetype": "text/x-python",
   "name": "python",
   "nbconvert_exporter": "python",
   "pygments_lexer": "ipython3",
   "version": "3.9.12"
  },
  "orig_nbformat": 4,
  "vscode": {
   "interpreter": {
    "hash": "a825f8e8905b8e64233e6384cfa1616d0baa442a3b458fa78e4916d5c671b0d4"
   }
  }
 },
 "nbformat": 4,
 "nbformat_minor": 2
}
