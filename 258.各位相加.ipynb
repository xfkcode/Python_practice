{
 "cells": [
  {
   "cell_type": "markdown",
   "metadata": {},
   "source": [
    "给定一个非负整数 num，反复将各个位上的数字相加，直到结果为一位数。返回这个结果。\n",
    "\n",
    " \n",
    "示例 1:  \n",
    "输入: num = 38  \n",
    "输出: 2   \n",
    "解释: 各位相加的过程为：  \n",
    "38 --> 3 + 8 --> 11  \n",
    "11 --> 1 + 1 --> 2  \n",
    "由于 2 是一位数，所以返回 2。  \n",
    "\n",
    "示例 1:  \n",
    "输入: num = 0  \n",
    "输出: 0  \n",
    " \n",
    "\n",
    "提示：\n",
    "\n",
    "0 <= num <= 2^31 - 1\n",
    " \n",
    "\n",
    "进阶：你可以不使用循环或者递归，在 O(1) 时间复杂度内解决这个问题吗？"
   ]
  },
  {
   "cell_type": "code",
   "execution_count": 1,
   "metadata": {},
   "outputs": [],
   "source": [
    "class Solution:\n",
    "    def addDigits(self, num: int) -> int:\n",
    "        return (num-1)%9+1 if num else 0"
   ]
  },
  {
   "cell_type": "code",
   "execution_count": 2,
   "metadata": {},
   "outputs": [
    {
     "data": {
      "text/plain": [
       "0"
      ]
     },
     "execution_count": 2,
     "metadata": {},
     "output_type": "execute_result"
    }
   ],
   "source": [
    "sol=Solution()\n",
    "sol.addDigits(0)"
   ]
  },
  {
   "cell_type": "code",
   "execution_count": 3,
   "metadata": {},
   "outputs": [
    {
     "data": {
      "text/plain": [
       "2"
      ]
     },
     "execution_count": 3,
     "metadata": {},
     "output_type": "execute_result"
    }
   ],
   "source": [
    "sol=Solution()\n",
    "sol.addDigits(38)"
   ]
  }
 ],
 "metadata": {
  "kernelspec": {
   "display_name": "Python 3.9.12 ('base')",
   "language": "python",
   "name": "python3"
  },
  "language_info": {
   "codemirror_mode": {
    "name": "ipython",
    "version": 3
   },
   "file_extension": ".py",
   "mimetype": "text/x-python",
   "name": "python",
   "nbconvert_exporter": "python",
   "pygments_lexer": "ipython3",
   "version": "3.9.12"
  },
  "orig_nbformat": 4,
  "vscode": {
   "interpreter": {
    "hash": "a825f8e8905b8e64233e6384cfa1616d0baa442a3b458fa78e4916d5c671b0d4"
   }
  }
 },
 "nbformat": 4,
 "nbformat_minor": 2
}
