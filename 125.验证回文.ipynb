{
 "cells": [
  {
   "cell_type": "markdown",
   "metadata": {},
   "source": [
    "如果在将所有大写字符转换为小写字符、并移除所有非字母数字字符之后，短语正着读和反着读都一样。则可以认为该短语是一个 回文串 。\n",
    "\n",
    "字母和数字都属于字母数字字符。\n",
    "\n",
    "给你一个字符串 s，如果它是 回文串 ，返回 true ；否则，返回 false 。\n",
    "\n",
    " \n",
    "示例 1：\n",
    "输入: s = \"A man, a plan, a canal: Panama\"\n",
    "输出：true\n",
    "解释：\"amanaplanacanalpanama\" 是回文串。\n",
    "\n",
    "示例 2：\n",
    "输入：s = \"race a car\"\n",
    "输出：false\n",
    "解释：\"raceacar\" 不是回文串。\n",
    "\n",
    "示例 3：\n",
    "输入：s = \" \"\n",
    "输出：true\n",
    "解释：在移除非字母数字字符之后，s 是一个空字符串 \"\" 。\n",
    "由于空字符串正着反着读都一样，所以是回文串。\n",
    " \n",
    "\n",
    "提示：\n",
    "\n",
    "1 <= s.length <= 2 * 10^5\n",
    "s 仅由可打印的 ASCII 字符组成"
   ]
  },
  {
   "cell_type": "code",
   "execution_count": 14,
   "metadata": {},
   "outputs": [],
   "source": [
    "class Solution:\n",
    "    def isPalindrome(self,s: str) -> bool:\n",
    "        slist=list(s)\n",
    "        slistcl=[]\n",
    "        for p in range(len(slist)):\n",
    "            if slist[p].islower():\n",
    "                slistcl.append(slist[p])\n",
    "                continue\n",
    "            elif slist[p].isupper():\n",
    "                slistcl.append(slist[p].lower())\n",
    "        if not slistcl:\n",
    "            return True\n",
    "        left=0\n",
    "        right=len(slistcl)-1\n",
    "        while left<=right:\n",
    "            if slistcl[left]==slistcl[right]:\n",
    "                left+=1\n",
    "                right-=1\n",
    "                continue\n",
    "            return False\n",
    "        return True"
   ]
  },
  {
   "cell_type": "code",
   "execution_count": 15,
   "metadata": {},
   "outputs": [
    {
     "data": {
      "text/plain": [
       "True"
      ]
     },
     "execution_count": 15,
     "metadata": {},
     "output_type": "execute_result"
    }
   ],
   "source": [
    "sol=Solution()\n",
    "sol.isPalindrome(\"A man, a plan, a canal: Panama\")"
   ]
  },
  {
   "cell_type": "code",
   "execution_count": 16,
   "metadata": {},
   "outputs": [
    {
     "data": {
      "text/plain": [
       "False"
      ]
     },
     "execution_count": 16,
     "metadata": {},
     "output_type": "execute_result"
    }
   ],
   "source": [
    "sol=Solution()\n",
    "sol.isPalindrome(\"race a car\")"
   ]
  },
  {
   "cell_type": "code",
   "execution_count": 17,
   "metadata": {},
   "outputs": [
    {
     "data": {
      "text/plain": [
       "True"
      ]
     },
     "execution_count": 17,
     "metadata": {},
     "output_type": "execute_result"
    }
   ],
   "source": [
    "sol=Solution()\n",
    "sol.isPalindrome(\" \")"
   ]
  },
  {
   "cell_type": "code",
   "execution_count": 18,
   "metadata": {},
   "outputs": [
    {
     "data": {
      "text/plain": [
       "False"
      ]
     },
     "execution_count": 18,
     "metadata": {},
     "output_type": "execute_result"
    }
   ],
   "source": [
    "sol=Solution()\n",
    "sol.isPalindrome(\"OP\")"
   ]
  },
  {
   "cell_type": "code",
   "execution_count": 19,
   "metadata": {},
   "outputs": [],
   "source": [
    "class Solution:\n",
    "    def isPalindrome(self, s: str) -> bool:\n",
    "        sgood = \"\".join(ch.lower() for ch in s if ch.isalnum())\n",
    "        return sgood == sgood[::-1]"
   ]
  },
  {
   "cell_type": "code",
   "execution_count": 20,
   "metadata": {},
   "outputs": [
    {
     "data": {
      "text/plain": [
       "False"
      ]
     },
     "execution_count": 20,
     "metadata": {},
     "output_type": "execute_result"
    }
   ],
   "source": [
    "sol=Solution()\n",
    "sol.isPalindrome(\"OP\")"
   ]
  },
  {
   "cell_type": "code",
   "execution_count": null,
   "metadata": {},
   "outputs": [],
   "source": []
  }
 ],
 "metadata": {
  "kernelspec": {
   "display_name": "Python 3.9.12 ('base')",
   "language": "python",
   "name": "python3"
  },
  "language_info": {
   "codemirror_mode": {
    "name": "ipython",
    "version": 3
   },
   "file_extension": ".py",
   "mimetype": "text/x-python",
   "name": "python",
   "nbconvert_exporter": "python",
   "pygments_lexer": "ipython3",
   "version": "3.9.12"
  },
  "orig_nbformat": 4,
  "vscode": {
   "interpreter": {
    "hash": "a825f8e8905b8e64233e6384cfa1616d0baa442a3b458fa78e4916d5c671b0d4"
   }
  }
 },
 "nbformat": 4,
 "nbformat_minor": 2
}
