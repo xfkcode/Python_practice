{
 "cells": [
  {
   "cell_type": "markdown",
   "id": "a13b75be",
   "metadata": {},
   "source": [
    "给定一个仅包含数字 2-9 的字符串，返回所有它能表示的字母组合。答案可以按 任意顺序 返回。\n",
    "\n",
    "给出数字到字母的映射如下（与电话按键相同）。注意 1 不对应任何字母。\n",
    "\n",
    "\n",
    "示例 1：\n",
    "输入：digits = \"23\"\n",
    "输出：[\"ad\",\"ae\",\"af\",\"bd\",\"be\",\"bf\",\"cd\",\"ce\",\"cf\"]\n",
    "\n",
    "示例 2：\n",
    "输入：digits = \"\"\n",
    "输出：[]\n",
    "\n",
    "示例 3：\n",
    "输入：digits = \"2\"\n",
    "输出：[\"a\",\"b\",\"c\"]\n",
    " \n",
    "\n",
    "提示：\n",
    "\n",
    "0 <= digits.length <= 4\n",
    "digits[i] 是范围 ['2', '9'] 的一个数字。"
   ]
  },
  {
   "cell_type": "code",
   "execution_count": 10,
   "id": "1566b8c3",
   "metadata": {},
   "outputs": [],
   "source": [
    "# 电话号码的字母组合\n",
    "class Solution:\n",
    "    def letterCombinations(self,digits:str) -> list[str]:\n",
    "        dirt={'2':'abc','3':'def','4':'ghi','5':'jkl','6':'mno','7':'pqrs','8':'tuv','9':'wxyz'}\n",
    "        Digits=list(digits)\n",
    "        ans=[]\n",
    "        ans_str=''\n",
    "        list_str=[]\n",
    "        point_max=[]\n",
    "        point_max1=[]\n",
    "        point=[]\n",
    "        for i in Digits:\n",
    "            list_str.append(dirt[i])\n",
    "            point_max.append(len(dirt[i]))\n",
    "            point_max1.append(len(dirt[i])-1)\n",
    "            point.append(0)\n",
    "            \n",
    "        j=-1\n",
    "        while True:\n",
    "            \n",
    "            for index,element in enumerate(list_str):\n",
    "                ans_str+=element[point[index]]\n",
    "            ans.append(ans_str)\n",
    "    \n",
    "            if point==point_max1:\n",
    "                break\n",
    "                \n",
    "            point[j],ADD=BitAdd(point[j],point_max[j])\n",
    "            if ADD==1:\n",
    "                j-=1\n",
    "            else:\n",
    "                j=-1\n",
    "                \n",
    "    def BitAdd(self,bit,Max):\n",
    "        bit+=1\n",
    "        add=0\n",
    "        if bit==Max:\n",
    "            bit=0\n",
    "            add=1\n",
    "        return bit,add\n",
    "        \n",
    "                    \n",
    "                \n",
    "               "
   ]
  },
  {
   "cell_type": "code",
   "execution_count": 11,
   "id": "ae705af6",
   "metadata": {},
   "outputs": [
    {
     "ename": "NameError",
     "evalue": "name 'BitAdd' is not defined",
     "output_type": "error",
     "traceback": [
      "\u001b[1;31m---------------------------------------------------------------------------\u001b[0m",
      "\u001b[1;31mNameError\u001b[0m                                 Traceback (most recent call last)",
      "Input \u001b[1;32mIn [11]\u001b[0m, in \u001b[0;36m<cell line: 2>\u001b[1;34m()\u001b[0m\n\u001b[0;32m      1\u001b[0m sol\u001b[38;5;241m=\u001b[39mSolution()\n\u001b[1;32m----> 2\u001b[0m \u001b[43msol\u001b[49m\u001b[38;5;241;43m.\u001b[39;49m\u001b[43mletterCombinations\u001b[49m\u001b[43m(\u001b[49m\u001b[38;5;124;43m'\u001b[39;49m\u001b[38;5;124;43m23\u001b[39;49m\u001b[38;5;124;43m'\u001b[39;49m\u001b[43m)\u001b[49m\n",
      "Input \u001b[1;32mIn [10]\u001b[0m, in \u001b[0;36mSolution.letterCombinations\u001b[1;34m(self, digits)\u001b[0m\n\u001b[0;32m     25\u001b[0m \u001b[38;5;28;01mif\u001b[39;00m point\u001b[38;5;241m==\u001b[39mpoint_max1:\n\u001b[0;32m     26\u001b[0m     \u001b[38;5;28;01mbreak\u001b[39;00m\n\u001b[1;32m---> 28\u001b[0m point[j],ADD\u001b[38;5;241m=\u001b[39m\u001b[43mBitAdd\u001b[49m(point[j],point_max[j])\n\u001b[0;32m     29\u001b[0m \u001b[38;5;28;01mif\u001b[39;00m ADD\u001b[38;5;241m==\u001b[39m\u001b[38;5;241m1\u001b[39m:\n\u001b[0;32m     30\u001b[0m     j\u001b[38;5;241m-\u001b[39m\u001b[38;5;241m=\u001b[39m\u001b[38;5;241m1\u001b[39m\n",
      "\u001b[1;31mNameError\u001b[0m: name 'BitAdd' is not defined"
     ]
    }
   ],
   "source": [
    "sol=Solution()\n",
    "sol.letterCombinations('23')"
   ]
  },
  {
   "cell_type": "code",
   "execution_count": 45,
   "id": "6ab6421d",
   "metadata": {},
   "outputs": [],
   "source": [
    "\n",
    "def letterCombinations(digits):\n",
    "    dirt={'2':'abc','3':'def','4':'ghi','5':'jkl','6':'mno','7':'pqrs','8':'tuv','9':'wxyz'}\n",
    "    Digits=list(digits)\n",
    "    ans=[]\n",
    "    list_str=[]\n",
    "    point_max=[]\n",
    "    point_max1=[]\n",
    "    point=[]\n",
    "    \n",
    "    for i in Digits:\n",
    "        list_str.append(dirt[i])\n",
    "        point_max.append(len(dirt[i]))\n",
    "        point_max1.append(len(dirt[i])-1)\n",
    "        point.append(0)\n",
    "\n",
    "    j=-1\n",
    "    ADD=0\n",
    "    while True:\n",
    "        \n",
    "        if ADD!=1:\n",
    "            ans_str=''\n",
    "            \n",
    "            for index,element in enumerate(list_str):\n",
    "                ans_str+=element[point[index]]\n",
    "            ans.append(ans_str)\n",
    "\n",
    "        if point==point_max1:\n",
    "            break\n",
    "                \n",
    "        point[j],ADD=BitAdd(point[j],point_max[j])\n",
    "        if ADD==1:\n",
    "            j-=1\n",
    "        else:\n",
    "            j=-1\n",
    "    return ans\n",
    "                \n",
    "def BitAdd(bit,Max):\n",
    "    bit+=1\n",
    "    add=0\n",
    "    if bit==Max:\n",
    "        bit=0\n",
    "        add=1\n",
    "    return bit,add"
   ]
  },
  {
   "cell_type": "code",
   "execution_count": 46,
   "id": "0495848f",
   "metadata": {},
   "outputs": [
    {
     "name": "stdout",
     "output_type": "stream",
     "text": [
      "['ad', 'ae', 'af', 'bd', 'be', 'bf', 'cd', 'ce', 'cf']\n"
     ]
    }
   ],
   "source": [
    "a=letterCombinations('23')\n",
    "print(a)"
   ]
  },
  {
   "cell_type": "code",
   "execution_count": 47,
   "id": "d393dd4c",
   "metadata": {},
   "outputs": [
    {
     "name": "stdout",
     "output_type": "stream",
     "text": [
      "['ada', 'adb', 'adc', 'aea', 'aeb', 'aec', 'afa', 'afb', 'afc', 'bda', 'bdb', 'bdc', 'bea', 'beb', 'bec', 'bfa', 'bfb', 'bfc', 'cda', 'cdb', 'cdc', 'cea', 'ceb', 'cec', 'cfa', 'cfb', 'cfc']\n"
     ]
    }
   ],
   "source": [
    "a=letterCombinations('232')\n",
    "print(a)"
   ]
  },
  {
   "cell_type": "code",
   "execution_count": 48,
   "id": "b774049b",
   "metadata": {},
   "outputs": [
    {
     "name": "stdout",
     "output_type": "stream",
     "text": [
      "27\n"
     ]
    }
   ],
   "source": [
    "print(len(a))"
   ]
  },
  {
   "cell_type": "code",
   "execution_count": 61,
   "id": "237d394a",
   "metadata": {},
   "outputs": [],
   "source": [
    "# 电话号码的字母组合，自由进制法\n",
    "class Solution:\n",
    "    def letterCombinations(self,digits):\n",
    "        #定义字典\n",
    "        dirt={'2':'abc','3':'def','4':'ghi','5':'jkl','6':'mno','7':'pqrs','8':'tuv','9':'wxyz'}\n",
    "        #定义变量\n",
    "        ans=[] \n",
    "        Digits=list(digits)\n",
    "        list_str=[]\n",
    "        point_max=[]\n",
    "        point_max1=[]\n",
    "        point=[]\n",
    "        \n",
    "        if Digits==[]:\n",
    "            return ans\n",
    "        \n",
    "        #初始化\n",
    "        for i in Digits:\n",
    "            list_str.append(dirt[i])\n",
    "            point_max.append(len(dirt[i]))\n",
    "            point_max1.append(len(dirt[i])-1)\n",
    "            point.append(0)\n",
    "    \n",
    "        j=-1\n",
    "        ADD=0\n",
    "        while True:\n",
    "            #组合字母，有进位不执行\n",
    "            if ADD!=1:\n",
    "                #根据指针point，字母组合一次，并扩充结果\n",
    "                ans_str=''\n",
    "                for index,element in enumerate(list_str):\n",
    "                    ans_str+=element[point[index]]\n",
    "                ans.append(ans_str)\n",
    "            #结束条件\n",
    "            if point==point_max1:\n",
    "                break\n",
    "            #加一操作，调用封装的位加一函数（含进位）\n",
    "            point[j],ADD=BitAdd(point[j],point_max[j])\n",
    "            if ADD==1:\n",
    "                j-=1\n",
    "            else:\n",
    "                j=-1\n",
    "        return ans\n",
    "    #位加一函数\n",
    "    def BitAdd(self,bit,Max):\n",
    "        bit+=1\n",
    "        add=0\n",
    "        if bit==Max:\n",
    "            bit=0\n",
    "            add=1\n",
    "        return bit,add"
   ]
  },
  {
   "cell_type": "code",
   "execution_count": 53,
   "id": "0c3ce276",
   "metadata": {},
   "outputs": [
    {
     "data": {
      "text/plain": [
       "['ad', 'ae', 'af', 'bd', 'be', 'bf', 'cd', 'ce', 'cf']"
      ]
     },
     "execution_count": 53,
     "metadata": {},
     "output_type": "execute_result"
    }
   ],
   "source": [
    "sol=Solution()\n",
    "sol.letterCombinations('23')"
   ]
  },
  {
   "cell_type": "code",
   "execution_count": 54,
   "id": "fdf4f4fe",
   "metadata": {},
   "outputs": [
    {
     "data": {
      "text/plain": [
       "['ada',\n",
       " 'adb',\n",
       " 'adc',\n",
       " 'aea',\n",
       " 'aeb',\n",
       " 'aec',\n",
       " 'afa',\n",
       " 'afb',\n",
       " 'afc',\n",
       " 'bda',\n",
       " 'bdb',\n",
       " 'bdc',\n",
       " 'bea',\n",
       " 'beb',\n",
       " 'bec',\n",
       " 'bfa',\n",
       " 'bfb',\n",
       " 'bfc',\n",
       " 'cda',\n",
       " 'cdb',\n",
       " 'cdc',\n",
       " 'cea',\n",
       " 'ceb',\n",
       " 'cec',\n",
       " 'cfa',\n",
       " 'cfb',\n",
       " 'cfc']"
      ]
     },
     "execution_count": 54,
     "metadata": {},
     "output_type": "execute_result"
    }
   ],
   "source": [
    "sol=Solution()\n",
    "sol.letterCombinations('232')"
   ]
  },
  {
   "cell_type": "code",
   "execution_count": 62,
   "id": "bd94baf5",
   "metadata": {},
   "outputs": [
    {
     "name": "stdout",
     "output_type": "stream",
     "text": [
      "[]\n"
     ]
    },
    {
     "data": {
      "text/plain": [
       "[]"
      ]
     },
     "execution_count": 62,
     "metadata": {},
     "output_type": "execute_result"
    }
   ],
   "source": [
    "sol=Solution()\n",
    "sol.letterCombinations('')"
   ]
  },
  {
   "cell_type": "code",
   "execution_count": null,
   "id": "74cdd293",
   "metadata": {},
   "outputs": [],
   "source": []
  }
 ],
 "metadata": {
  "kernelspec": {
   "display_name": "Python 3 (ipykernel)",
   "language": "python",
   "name": "python3"
  },
  "language_info": {
   "codemirror_mode": {
    "name": "ipython",
    "version": 3
   },
   "file_extension": ".py",
   "mimetype": "text/x-python",
   "name": "python",
   "nbconvert_exporter": "python",
   "pygments_lexer": "ipython3",
   "version": "3.9.12"
  }
 },
 "nbformat": 4,
 "nbformat_minor": 5
}
