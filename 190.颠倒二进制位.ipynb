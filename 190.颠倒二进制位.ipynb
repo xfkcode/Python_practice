{
 "cells": [
  {
   "cell_type": "markdown",
   "metadata": {},
   "source": [
    "颠倒给定的 32 位无符号整数的二进制位。\n",
    "\n",
    "\n",
    "示例 1：\n",
    "输入：n = 00000010100101000001111010011100  \n",
    "输出：964176192 (00111001011110000010100101000000)  \n",
    "解释：输入的二进制串 00000010100101000001111010011100 表示无符号整数 43261596，  \n",
    "     因此返回 964176192，其二进制表示形式为 00111001011110000010100101000000。\n",
    "\n",
    "示例 2：\n",
    "输入：n = 11111111111111111111111111111101  \n",
    "输出：3221225471 (10111111111111111111111111111111)  \n",
    "解释：输入的二进制串 11111111111111111111111111111101 表示无符号整数 4294967293，  \n",
    "     因此返回 3221225471 其二进制表示形式为 10111111111111111111111111111111 。\n",
    " \n",
    "\n",
    "提示：\n",
    "\n",
    "输入是一个长度为 32 的二进制字符串\n",
    " \n",
    "\n",
    "进阶: 如果多次调用这个函数，你将如何优化你的算法？"
   ]
  },
  {
   "cell_type": "code",
   "execution_count": 8,
   "metadata": {},
   "outputs": [],
   "source": [
    "class Solution:\n",
    "    def reverseBits(self,n: int) -> int:\n",
    "        res = 0\n",
    "        for i in range(32):\n",
    "            res = (res << 1) | (n & 1)\n",
    "            n >>= 1\n",
    "        return res"
   ]
  },
  {
   "cell_type": "code",
   "execution_count": 9,
   "metadata": {},
   "outputs": [
    {
     "data": {
      "text/plain": [
       "964176192"
      ]
     },
     "execution_count": 9,
     "metadata": {},
     "output_type": "execute_result"
    }
   ],
   "source": [
    "sol=Solution()\n",
    "sol.reverseBits(43261596)"
   ]
  },
  {
   "cell_type": "code",
   "execution_count": 10,
   "metadata": {},
   "outputs": [
    {
     "data": {
      "text/plain": [
       "3221225471"
      ]
     },
     "execution_count": 10,
     "metadata": {},
     "output_type": "execute_result"
    }
   ],
   "source": [
    "sol=Solution()\n",
    "sol.reverseBits(4294967293)"
   ]
  },
  {
   "cell_type": "code",
   "execution_count": 11,
   "metadata": {},
   "outputs": [],
   "source": [
    "class Solution:\n",
    "    def ReverseBits(self,n: int) -> int:\n",
    "        n = (n >> 16) | (n << 16)\n",
    "        n = ((n & 0xff00ff00) >> 8) | ((n & 0x00ff00ff) << 8)\n",
    "        n = ((n & 0xf0f0f0f0) >> 4) | ((n & 0x0f0f0f0f) << 4)\n",
    "        n = ((n & 0xcccccccc) >> 2) | ((n & 0x33333333) << 2)\n",
    "        n = ((n & 0xaaaaaaaa) >> 1) | ((n & 0x55555555) << 1)\n",
    "        return n"
   ]
  },
  {
   "cell_type": "code",
   "execution_count": 12,
   "metadata": {},
   "outputs": [
    {
     "data": {
      "text/plain": [
       "964176192"
      ]
     },
     "execution_count": 12,
     "metadata": {},
     "output_type": "execute_result"
    }
   ],
   "source": [
    "sol=Solution()\n",
    "sol.ReverseBits(43261596)"
   ]
  },
  {
   "cell_type": "code",
   "execution_count": 13,
   "metadata": {},
   "outputs": [
    {
     "data": {
      "text/plain": [
       "3221225471"
      ]
     },
     "execution_count": 13,
     "metadata": {},
     "output_type": "execute_result"
    }
   ],
   "source": [
    "sol=Solution()\n",
    "sol.ReverseBits(4294967293)"
   ]
  },
  {
   "cell_type": "code",
   "execution_count": null,
   "metadata": {},
   "outputs": [],
   "source": []
  }
 ],
 "metadata": {
  "kernelspec": {
   "display_name": "Python 3.9.12 ('base')",
   "language": "python",
   "name": "python3"
  },
  "language_info": {
   "codemirror_mode": {
    "name": "ipython",
    "version": 3
   },
   "file_extension": ".py",
   "mimetype": "text/x-python",
   "name": "python",
   "nbconvert_exporter": "python",
   "pygments_lexer": "ipython3",
   "version": "3.9.12"
  },
  "orig_nbformat": 4,
  "vscode": {
   "interpreter": {
    "hash": "a825f8e8905b8e64233e6384cfa1616d0baa442a3b458fa78e4916d5c671b0d4"
   }
  }
 },
 "nbformat": 4,
 "nbformat_minor": 2
}
