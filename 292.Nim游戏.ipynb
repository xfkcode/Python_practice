{
 "cells": [
  {
   "cell_type": "markdown",
   "metadata": {},
   "source": [
    "你和你的朋友，两个人一起玩 Nim 游戏：\n",
    "\n",
    "桌子上有一堆石头。  \n",
    "你们轮流进行自己的回合， 你作为先手 。  \n",
    "每一回合，轮到的人拿掉 1 - 3 块石头。  \n",
    "拿掉最后一块石头的人就是获胜者。  \n",
    "假设你们每一步都是最优解。请编写一个函数，来判断你是否可以在给定石头数量为 n 的情况下赢得游戏。如果可以赢，返回 true；否则，返回 false 。  \n",
    "\n",
    " \n",
    "\n",
    "示例 1：  \n",
    "输入：n = 4  \n",
    "输出：false   \n",
    "解释：以下是可能的结果:  \n",
    "1. 移除1颗石头。你的朋友移走了3块石头，包括最后一块。你的朋友赢了。  \n",
    "2. 移除2个石子。你的朋友移走2块石头，包括最后一块。你的朋友赢了。  \n",
    "3. 你移走3颗石子。你的朋友移走了最后一块石头。你的朋友赢了。  \n",
    "在所有结果中，你的朋友是赢家。  \n",
    "\n",
    "示例 2：  \n",
    "输入：n = 1  \n",
    "输出：true  \n",
    "\n",
    "示例 3：  \n",
    "输入：n = 2  \n",
    "输出：true  \n",
    " \n",
    "\n",
    "提示：\n",
    "\n",
    "1 <= n <= 2^31 - 1"
   ]
  },
  {
   "cell_type": "code",
   "execution_count": 1,
   "metadata": {},
   "outputs": [],
   "source": [
    "class Solution:\n",
    "    def canWinNim(self, n: int) -> bool:\n",
    "        return n%4!=0"
   ]
  },
  {
   "cell_type": "code",
   "execution_count": 2,
   "metadata": {},
   "outputs": [
    {
     "data": {
      "text/plain": [
       "False"
      ]
     },
     "execution_count": 2,
     "metadata": {},
     "output_type": "execute_result"
    }
   ],
   "source": [
    "sol=Solution()\n",
    "sol.canWinNim(4)"
   ]
  },
  {
   "cell_type": "code",
   "execution_count": 3,
   "metadata": {},
   "outputs": [
    {
     "data": {
      "text/plain": [
       "True"
      ]
     },
     "execution_count": 3,
     "metadata": {},
     "output_type": "execute_result"
    }
   ],
   "source": [
    "sol=Solution()\n",
    "sol.canWinNim(6)"
   ]
  },
  {
   "cell_type": "code",
   "execution_count": null,
   "metadata": {},
   "outputs": [],
   "source": []
  }
 ],
 "metadata": {
  "kernelspec": {
   "display_name": "Python 3.9.12 ('base')",
   "language": "python",
   "name": "python3"
  },
  "language_info": {
   "codemirror_mode": {
    "name": "ipython",
    "version": 3
   },
   "file_extension": ".py",
   "mimetype": "text/x-python",
   "name": "python",
   "nbconvert_exporter": "python",
   "pygments_lexer": "ipython3",
   "version": "3.9.12"
  },
  "orig_nbformat": 4,
  "vscode": {
   "interpreter": {
    "hash": "a825f8e8905b8e64233e6384cfa1616d0baa442a3b458fa78e4916d5c671b0d4"
   }
  }
 },
 "nbformat": 4,
 "nbformat_minor": 2
}
