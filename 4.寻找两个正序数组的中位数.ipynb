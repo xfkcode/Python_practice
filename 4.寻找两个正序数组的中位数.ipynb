{
 "cells": [
  {
   "cell_type": "code",
   "execution_count": null,
   "metadata": {},
   "outputs": [],
   "source": [
    "给定两个大小分别为 m 和 n 的正序（从小到大）数组 nums1 和 nums2。请你找出并返回这两个正序数组的 中位数 。\n",
    "\n",
    "算法的时间复杂度应该为 O(log (m+n)) 。\n",
    "\n",
    " \n",
    "示例 1：\n",
    "\n",
    "输入：nums1 = [1,3], nums2 = [2]\n",
    "输出：2.00000\n",
    "解释：合并数组 = [1,2,3] ，中位数 2\n",
    "\n",
    "示例 2：\n",
    "\n",
    "输入：nums1 = [1,2], nums2 = [3,4]\n",
    "输出：2.50000\n",
    "解释：合并数组 = [1,2,3,4] ，中位数 (2 + 3) / 2 = 2.5\n",
    " \n",
    "\n",
    "提示：\n",
    "\n",
    "nums1.length == m\n",
    "nums2.length == n\n",
    "0 <= m <= 1000\n",
    "0 <= n <= 1000\n",
    "1 <= m + n <= 2000\n",
    "-106 <= nums1[i], nums2[i] <= 106"
   ]
  },
  {
   "cell_type": "code",
   "execution_count": 30,
   "metadata": {},
   "outputs": [],
   "source": [
    "# 寻找两个正序数组的中位数\n",
    "def findMedianSortedArrays(nums1,nums2):\n",
    "    nums=nums1+nums2\n",
    "    nums.sort()\n",
    "    length=len(nums)\n",
    "    print(nums)\n",
    "    if length%2==0:\n",
    "        return (nums[int(length/2-1)]+nums[int(length/2)])/2\n",
    "    elif length%2!=0:\n",
    "        return nums[int((length+1)/2-1)]\n",
    "    "
   ]
  },
  {
   "cell_type": "code",
   "execution_count": 31,
   "metadata": {},
   "outputs": [
    {
     "name": "stdout",
     "output_type": "stream",
     "text": [
      "[1, 4, 5, 5, 7, 9]\n",
      "5.0\n"
     ]
    }
   ],
   "source": [
    "median=findMedianSortedArrays([1,4,5],[5,9,7])\n",
    "print(median)"
   ]
  },
  {
   "cell_type": "code",
   "execution_count": 32,
   "metadata": {},
   "outputs": [
    {
     "name": "stdout",
     "output_type": "stream",
     "text": [
      "[1, 4, 5, 5, 6, 7, 9]\n",
      "5\n"
     ]
    }
   ],
   "source": [
    "median=findMedianSortedArrays([1,4,5,6],[5,9,7])\n",
    "print(median)"
   ]
  },
  {
   "cell_type": "code",
   "execution_count": 33,
   "metadata": {},
   "outputs": [
    {
     "name": "stdout",
     "output_type": "stream",
     "text": [
      "[1, 2, 3]\n",
      "2\n"
     ]
    }
   ],
   "source": [
    "median=findMedianSortedArrays([1,3],[2])\n",
    "print(median)"
   ]
  },
  {
   "cell_type": "code",
   "execution_count": 7,
   "metadata": {},
   "outputs": [],
   "source": [
    "# 力扣标准解\n",
    "class Solution:\n",
    "    def findMedianSortedArrays(self, nums1: list[int], nums2: list[int]) -> float:\n",
    "        def getKthElement(k):\n",
    "            \"\"\"\n",
    "            - 主要思路：要找到第 k (k>1) 小的元素，那么就取 pivot1 = nums1[k/2-1] 和 pivot2 = nums2[k/2-1] 进行比较\n",
    "            - 这里的 \"/\" 表示整除\n",
    "            - nums1 中小于等于 pivot1 的元素有 nums1[0 .. k/2-2] 共计 k/2-1 个\n",
    "            - nums2 中小于等于 pivot2 的元素有 nums2[0 .. k/2-2] 共计 k/2-1 个\n",
    "            - 取 pivot = min(pivot1, pivot2)，两个数组中小于等于 pivot 的元素共计不会超过 (k/2-1) + (k/2-1) <= k-2 个\n",
    "            - 这样 pivot 本身最大也只能是第 k-1 小的元素\n",
    "            - 如果 pivot = pivot1，那么 nums1[0 .. k/2-1] 都不可能是第 k 小的元素。把这些元素全部 \"删除\"，剩下的作为新的 nums1 数组\n",
    "            - 如果 pivot = pivot2，那么 nums2[0 .. k/2-1] 都不可能是第 k 小的元素。把这些元素全部 \"删除\"，剩下的作为新的 nums2 数组\n",
    "            - 由于我们 \"删除\" 了一些元素（这些元素都比第 k 小的元素要小），因此需要修改 k 的值，减去删除的数的个数\n",
    "            \"\"\"\n",
    "            \n",
    "            index1, index2 = 0, 0\n",
    "            while True:\n",
    "                # 特殊情况\n",
    "                if index1 == m:\n",
    "                    return nums2[index2 + k - 1]\n",
    "                if index2 == n:\n",
    "                    return nums1[index1 + k - 1]\n",
    "                if k == 1:\n",
    "                    return min(nums1[index1], nums2[index2])\n",
    "\n",
    "                # 正常情况\n",
    "                newIndex1 = min(index1 + k // 2 - 1, m - 1)\n",
    "                newIndex2 = min(index2 + k // 2 - 1, n - 1)\n",
    "                pivot1, pivot2 = nums1[newIndex1], nums2[newIndex2]\n",
    "                if pivot1 <= pivot2:\n",
    "                    k -= newIndex1 - index1 + 1\n",
    "                    index1 = newIndex1 + 1\n",
    "                else:\n",
    "                    k -= newIndex2 - index2 + 1\n",
    "                    index2 = newIndex2 + 1\n",
    "        \n",
    "        m, n = len(nums1), len(nums2)\n",
    "        totalLength = m + n\n",
    "        if totalLength % 2 == 1:\n",
    "            return getKthElement((totalLength + 1) // 2)\n",
    "        else:\n",
    "            return (getKthElement(totalLength // 2) + getKthElement(totalLength // 2 + 1)) / 2\n"
   ]
  },
  {
   "cell_type": "code",
   "execution_count": 8,
   "metadata": {},
   "outputs": [
    {
     "data": {
      "text/plain": [
       "2"
      ]
     },
     "execution_count": 8,
     "metadata": {},
     "output_type": "execute_result"
    }
   ],
   "source": [
    "sol=Solution()\n",
    "sol.findMedianSortedArrays([1,3],[2])"
   ]
  },
  {
   "cell_type": "code",
   "execution_count": null,
   "metadata": {},
   "outputs": [],
   "source": []
  }
 ],
 "metadata": {
  "kernelspec": {
   "display_name": "Python 3 (ipykernel)",
   "language": "python",
   "name": "python3"
  },
  "language_info": {
   "codemirror_mode": {
    "name": "ipython",
    "version": 3
   },
   "file_extension": ".py",
   "mimetype": "text/x-python",
   "name": "python",
   "nbconvert_exporter": "python",
   "pygments_lexer": "ipython3",
   "version": "3.9.12"
  }
 },
 "nbformat": 4,
 "nbformat_minor": 2
}
