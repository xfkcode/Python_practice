{
 "cells": [
  {
   "cell_type": "markdown",
   "metadata": {},
   "source": [
    "给你一个整数 n，请你判断该整数是否是 2 的幂次方。如果是，返回 true ；否则，返回 false 。  \n",
    "\n",
    "如果存在一个整数 x 使得 n == 2x ，则认为 n 是 2 的幂次方。  \n",
    "\n",
    " \n",
    "示例 1：  \n",
    "输入：n = 1  \n",
    "输出：true  \n",
    "解释：20 = 1  \n",
    "\n",
    "示例 2：  \n",
    "输入：n = 16  \n",
    "输出：true  \n",
    "解释：24 = 16  \n",
    "\n",
    "示例 3：  \n",
    "输入：n = 3  \n",
    "输出：false  \n",
    "\n",
    "示例 4：  \n",
    "输入：n = 4  \n",
    "输出：true  \n",
    "\n",
    "示例 5：  \n",
    "输入：n = 5  \n",
    "输出：false  \n",
    " \n",
    "\n",
    "提示：\n",
    "\n",
    "-2^31 <= n <= 2^31 - 1\n",
    " \n",
    "\n",
    "进阶：你能够不使用循环/递归解决此问题吗？"
   ]
  },
  {
   "cell_type": "code",
   "execution_count": 1,
   "metadata": {},
   "outputs": [],
   "source": [
    "class Solution:\n",
    "    # n&(n-1)移除二进制最低位1\n",
    "    def isPowerOfTwo(self, n: int) -> bool:\n",
    "        return n>0 and (n&(n-1))==0\n",
    "    # n&(-n)获取二进制最低位1\n",
    "    def IsPowerOfTwo(self, n: int) -> bool:\n",
    "        return n>0 and (n&(-n))==n"
   ]
  },
  {
   "cell_type": "code",
   "execution_count": 3,
   "metadata": {},
   "outputs": [
    {
     "name": "stdout",
     "output_type": "stream",
     "text": [
      "True\n",
      "True\n"
     ]
    }
   ],
   "source": [
    "sol=Solution()\n",
    "print(sol.isPowerOfTwo(16))\n",
    "print(sol.IsPowerOfTwo(16))\n"
   ]
  },
  {
   "cell_type": "code",
   "execution_count": 4,
   "metadata": {},
   "outputs": [
    {
     "name": "stdout",
     "output_type": "stream",
     "text": [
      "False\n",
      "False\n"
     ]
    }
   ],
   "source": [
    "sol=Solution()\n",
    "print(sol.isPowerOfTwo(15))\n",
    "print(sol.IsPowerOfTwo(15))\n"
   ]
  },
  {
   "cell_type": "code",
   "execution_count": null,
   "metadata": {},
   "outputs": [],
   "source": []
  }
 ],
 "metadata": {
  "kernelspec": {
   "display_name": "Python 3.9.12 ('base')",
   "language": "python",
   "name": "python3"
  },
  "language_info": {
   "codemirror_mode": {
    "name": "ipython",
    "version": 3
   },
   "file_extension": ".py",
   "mimetype": "text/x-python",
   "name": "python",
   "nbconvert_exporter": "python",
   "pygments_lexer": "ipython3",
   "version": "3.9.12"
  },
  "orig_nbformat": 4,
  "vscode": {
   "interpreter": {
    "hash": "a825f8e8905b8e64233e6384cfa1616d0baa442a3b458fa78e4916d5c671b0d4"
   }
  }
 },
 "nbformat": 4,
 "nbformat_minor": 2
}
