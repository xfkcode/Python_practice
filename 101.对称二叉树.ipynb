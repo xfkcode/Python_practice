{
 "cells": [
  {
   "cell_type": "markdown",
   "metadata": {},
   "source": [
    "给你一个二叉树的根节点 root ， 检查它是否轴对称。\n",
    "\n",
    " \n",
    "示例 1：\n",
    "输入：root = [1,2,2,3,4,4,3]\n",
    "输出：true\n",
    "\n",
    "示例 2：\n",
    "输入：root = [1,2,2,null,3,null,3]\n",
    "输出：false\n",
    " \n",
    "\n",
    "提示：\n",
    "\n",
    "树中节点数目在范围 [1, 1000] 内\n",
    "-100 <= Node.val <= 100\n",
    " \n",
    "\n",
    "进阶：你可以运用递归和迭代两种方法解决这个问题吗？"
   ]
  },
  {
   "cell_type": "code",
   "execution_count": 2,
   "metadata": {},
   "outputs": [],
   "source": [
    "\n",
    "class TreeNode:\n",
    "    def __init__(self, val=0, left=None, right=None):\n",
    "        self.val = val\n",
    "        self.left = left\n",
    "        self.right = right\n",
    "# 递归 \n",
    "class Solution:\n",
    "    def isSymmetric(self, root: TreeNode) -> bool:\n",
    "        def isMirror(p,q):\n",
    "            if not p and not q:\n",
    "                return True\n",
    "            elif (p==None and q!=None) or (p!=None and q==None):\n",
    "                return False\n",
    "            elif not p.left and not p.right and not q.left and not q.right:\n",
    "                return True\n",
    "            elif (p.left!=None and q.right==None) or (p.left==None and q.right!=None):\n",
    "                return False\n",
    "            elif (p.right!=None and q.left==None) or (p.right==None and q.left!=None):\n",
    "                return False\n",
    "            else:\n",
    "                if p.val==q.val:\n",
    "                    if p.left.val==p.right.val:\n",
    "                        if isMirror(p.left,q.right):\n",
    "                            if p.right.val==q.left.val:\n",
    "                                if isMirror(p.right,q.left):\n",
    "                                    return True\n",
    "                return False\n",
    "            \n",
    "        return isMirror(root.left,root.right)\n",
    "    "
   ]
  },
  {
   "cell_type": "code",
   "execution_count": 37,
   "metadata": {},
   "outputs": [
    {
     "data": {
      "text/plain": [
       "True"
      ]
     },
     "execution_count": 37,
     "metadata": {},
     "output_type": "execute_result"
    }
   ],
   "source": [
    "# Tree1:[1,2,2]\n",
    "right1=TreeNode(2)\n",
    "left1=TreeNode(2)\n",
    "root=TreeNode(1,left1,right1)\n",
    "\n",
    "sol=Solution()\n",
    "sol.isSymmetric(root)"
   ]
  },
  {
   "cell_type": "code",
   "execution_count": 40,
   "metadata": {},
   "outputs": [
    {
     "data": {
      "text/plain": [
       "False"
      ]
     },
     "execution_count": 40,
     "metadata": {},
     "output_type": "execute_result"
    }
   ],
   "source": [
    "# Tree1:[1,2,2,3,4,4,3]\n",
    "right22=TreeNode(3)\n",
    "left22=TreeNode(4)\n",
    "right1=TreeNode(2,left22,right22)\n",
    "right21=TreeNode(4)\n",
    "left21=TreeNode(3)\n",
    "left1=TreeNode(2,left21,right21)\n",
    "root=TreeNode(1,left1,right1)\n",
    "\n",
    "sol=Solution()\n",
    "sol.isSymmetric(root)"
   ]
  },
  {
   "cell_type": "code",
   "execution_count": 39,
   "metadata": {},
   "outputs": [
    {
     "data": {
      "text/plain": [
       "False"
      ]
     },
     "execution_count": 39,
     "metadata": {},
     "output_type": "execute_result"
    }
   ],
   "source": [
    "# Tree1:[1,2,2,null,3,null,3]\n",
    "right22=TreeNode(3)\n",
    "right1=TreeNode(2,None,right22)\n",
    "right21=TreeNode(3)\n",
    "left1=TreeNode(2,None,right21)\n",
    "root=TreeNode(1,left1,right1)\n",
    "\n",
    "sol=Solution()\n",
    "sol.isSymmetric(root)"
   ]
  },
  {
   "cell_type": "code",
   "execution_count": 6,
   "metadata": {},
   "outputs": [],
   "source": [
    "# 我的题解： 递归\n",
    "# 先序遍历（父亲 左孩子 右孩子）和与其对称的先序遍历（父亲 右孩子 左孩子），比对结果是否相同\n",
    "class Solution:\n",
    "    def isSymmetric1(self, root: TreeNode) -> bool:\n",
    "        def search(left, right):\n",
    "            if left is None and right is None:\n",
    "                return True\n",
    "            if left is None or right is None:\n",
    "                return False\n",
    "            return left.val == right.val and search(left.left, right.right) and search(left.right, right.left)\n",
    "        return search(root, root)"
   ]
  },
  {
   "cell_type": "code",
   "execution_count": 7,
   "metadata": {},
   "outputs": [
    {
     "data": {
      "text/plain": [
       "True"
      ]
     },
     "execution_count": 7,
     "metadata": {},
     "output_type": "execute_result"
    }
   ],
   "source": [
    "# Tree1:[1,2,2,3,4,4,3]\n",
    "right22=TreeNode(3)\n",
    "left22=TreeNode(4)\n",
    "right1=TreeNode(2,left22,right22)\n",
    "right21=TreeNode(4)\n",
    "left21=TreeNode(3)\n",
    "left1=TreeNode(2,left21,right21)\n",
    "root=TreeNode(1,left1,right1)\n",
    "\n",
    "sol=Solution()\n",
    "sol.isSymmetric1(root)"
   ]
  },
  {
   "cell_type": "code",
   "execution_count": 4,
   "metadata": {},
   "outputs": [],
   "source": [
    "# 我的题解： 迭代\n",
    "# 层次遍历，比对每一层结果是否对称，\n",
    "# 注意空结点一定要用null补充，方便比对，下一层就不需要在null结点继续拓展了\n",
    "def isSymmetric(self, root: TreeNode) -> bool:\n",
    "    if root is None:\n",
    "        return False\n",
    "    queue = [root, root]\n",
    "    while queue:\n",
    "        left = queue.pop()\n",
    "        right = queue.pop()\n",
    "        if left is None and right is None:\n",
    "            continue\n",
    "        if left is None or right is None or left.val != right.val:\n",
    "            return False\n",
    "        queue.append(left.left)\n",
    "        queue.append(right.right)\n",
    "        queue.append(left.right)\n",
    "        queue.append(right.left)\n",
    "\n",
    "    return True"
   ]
  },
  {
   "cell_type": "code",
   "execution_count": null,
   "metadata": {},
   "outputs": [],
   "source": []
  }
 ],
 "metadata": {
  "kernelspec": {
   "display_name": "Python 3.9.12 ('base')",
   "language": "python",
   "name": "python3"
  },
  "language_info": {
   "codemirror_mode": {
    "name": "ipython",
    "version": 3
   },
   "file_extension": ".py",
   "mimetype": "text/x-python",
   "name": "python",
   "nbconvert_exporter": "python",
   "pygments_lexer": "ipython3",
   "version": "3.9.12"
  },
  "orig_nbformat": 4,
  "vscode": {
   "interpreter": {
    "hash": "a825f8e8905b8e64233e6384cfa1616d0baa442a3b458fa78e4916d5c671b0d4"
   }
  }
 },
 "nbformat": 4,
 "nbformat_minor": 2
}
