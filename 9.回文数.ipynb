{
 "cells": [
  {
   "cell_type": "markdown",
   "metadata": {},
   "source": [
    "给你一个整数 x ，如果 x 是一个回文整数，返回 true ；否则，返回 false 。\n",
    "\n",
    "回文数是指正序（从左向右）和倒序（从右向左）读都是一样的整数。\n",
    "\n",
    "例如，121 是回文，而 123 不是。\n",
    " \n",
    "\n",
    "示例 1：\n",
    "\n",
    "输入：x = 121\n",
    "输出：true\n",
    "\n",
    "示例 2：\n",
    "\n",
    "输入：x = -121\n",
    "输出：false\n",
    "解释：从左向右读, 为 -121 。 从右向左读, 为 121- 。因此它不是一个回文数。\n",
    "\n",
    "示例 3：\n",
    "\n",
    "输入：x = 10\n",
    "输出：false\n",
    "解释：从右向左读, 为 01 。因此它不是一个回文数。\n",
    " \n",
    "\n",
    "提示：\n",
    "\n",
    "-231 <= x <= 231 - 1\n",
    " \n",
    "\n",
    "进阶：你能不将整数转为字符串来解决这个问题吗？"
   ]
  },
  {
   "cell_type": "code",
   "execution_count": 4,
   "metadata": {},
   "outputs": [],
   "source": [
    "# 回文数\n",
    "class Solution:\n",
    "    def isPalindrome(self,x:int)->bool:\n",
    "        convert_str=str(x)\n",
    "        length=len(convert_str)\n",
    "        reverted_str=''\n",
    "        for i in range(length):\n",
    "            reverted_str+=convert_str[-1-i]\n",
    "        if reverted_str==convert_str:\n",
    "            return True\n",
    "        return False\n",
    "        "
   ]
  },
  {
   "cell_type": "code",
   "execution_count": 5,
   "metadata": {},
   "outputs": [
    {
     "data": {
      "text/plain": [
       "False"
      ]
     },
     "execution_count": 5,
     "metadata": {},
     "output_type": "execute_result"
    }
   ],
   "source": [
    "sol=Solution()\n",
    "sol.isPalindrome(786)"
   ]
  },
  {
   "cell_type": "code",
   "execution_count": 6,
   "metadata": {},
   "outputs": [
    {
     "data": {
      "text/plain": [
       "True"
      ]
     },
     "execution_count": 6,
     "metadata": {},
     "output_type": "execute_result"
    }
   ],
   "source": [
    "sol=Solution()\n",
    "sol.isPalindrome(787)"
   ]
  },
  {
   "cell_type": "code",
   "execution_count": null,
   "metadata": {},
   "outputs": [],
   "source": []
  }
 ],
 "metadata": {
  "kernelspec": {
   "display_name": "Python 3 (ipykernel)",
   "language": "python",
   "name": "python3"
  },
  "language_info": {
   "codemirror_mode": {
    "name": "ipython",
    "version": 3
   },
   "file_extension": ".py",
   "mimetype": "text/x-python",
   "name": "python",
   "nbconvert_exporter": "python",
   "pygments_lexer": "ipython3",
   "version": "3.9.12"
  }
 },
 "nbformat": 4,
 "nbformat_minor": 2
}
