{
 "cells": [
  {
   "cell_type": "markdown",
   "metadata": {},
   "source": [
    "请你仅使用两个栈实现先入先出队列。队列应当支持一般队列支持的所有操作（push、pop、peek、empty）：\n",
    "\n",
    "实现 MyQueue 类：\n",
    "\n",
    "void push(int x) 将元素 x 推到队列的末尾  \n",
    "int pop() 从队列的开头移除并返回元素  \n",
    "int peek() 返回队列开头的元素  \n",
    "boolean empty() 如果队列为空，返回 true ；否则，返回 false  \n",
    "说明：\n",
    "\n",
    "你 只能 使用标准的栈操作 —— 也就是只有 push to top, peek/pop from top, size, 和 is empty 操作是合法的。  \n",
    "你所使用的语言也许不支持栈。你可以使用 list 或者 deque（双端队列）来模拟一个栈，只要是标准的栈操作即可。\n",
    " \n",
    "\n",
    "示例 1：  \n",
    "输入：  \n",
    "[\"MyQueue\", \"push\", \"push\", \"peek\", \"pop\", \"empty\"]  \n",
    "[[], [1], [2], [], [], []]  \n",
    "输出：  \n",
    "[null, null, null, 1, 1, false]  \n",
    "解释：  \n",
    "MyQueue myQueue = new MyQueue();  \n",
    "myQueue.push(1); // queue is: [1]  \n",
    "myQueue.push(2); // queue is: [1, 2] (leftmost is front of the queue)  \n",
    "myQueue.peek(); // return 1  \n",
    "myQueue.pop(); // return 1, queue is [2]  \n",
    "myQueue.empty(); // return false  \n",
    " \n",
    "\n",
    "提示：\n",
    "\n",
    "1 <= x <= 9  \n",
    "最多调用 100 次 push、pop、peek 和 empty  \n",
    "假设所有操作都是有效的 （例如，一个空的队列不会调用 pop 或者 peek 操作）"
   ]
  },
  {
   "cell_type": "code",
   "execution_count": 1,
   "metadata": {},
   "outputs": [],
   "source": [
    "class MyQueue:\n",
    "\n",
    "    def __init__(self):\n",
    "        \"\"\"\n",
    "        Initialize your data structure here.\n",
    "        \"\"\"\n",
    "        self.s1 = []\n",
    "        self.s2 = []\n",
    "        self.front = None\n",
    "\n",
    "\n",
    "    def push(self, x: int) -> None:\n",
    "        \"\"\"\n",
    "        Push element x to the back of queue.\n",
    "        \"\"\"\n",
    "        if not self.s1: self.front = x\n",
    "        self.s1.append(x)\n",
    "        \n",
    "\n",
    "\n",
    "    def pop(self) -> int:\n",
    "        \"\"\"\n",
    "        Removes the element from in front of queue and returns that element.\n",
    "        \"\"\"\n",
    "        if not self.s2:\n",
    "            while self.s1:\n",
    "                self.s2.append(self.s1.pop())\n",
    "            self.front = None\n",
    "        return self.s2.pop()\n",
    "\n",
    "    def peek(self) -> int:\n",
    "        \"\"\"\n",
    "        Get the front element.\n",
    "        \"\"\"\n",
    "        if self.s2: \n",
    "            return self.s2[-1]\n",
    "        return self.front\n",
    "\n",
    "\n",
    "    def empty(self) -> bool:\n",
    "        \"\"\"\n",
    "        Returns whether the queue is empty.\n",
    "        \"\"\"\n",
    "        if not self.s1 and not self.s2:\n",
    "            return True\n",
    "        return False\n",
    "    "
   ]
  },
  {
   "cell_type": "code",
   "execution_count": 3,
   "metadata": {},
   "outputs": [
    {
     "name": "stdout",
     "output_type": "stream",
     "text": [
      "1\n",
      "1\n",
      "False\n"
     ]
    }
   ],
   "source": [
    "obj = MyQueue()\n",
    "obj.push(1)\n",
    "obj.push(2)\n",
    "param_2 = obj.peek()\n",
    "param_3 = obj.pop()\n",
    "param_4 = obj.empty()\n",
    "print(param_2)\n",
    "print(param_3)\n",
    "print(param_4)"
   ]
  },
  {
   "cell_type": "code",
   "execution_count": null,
   "metadata": {},
   "outputs": [],
   "source": []
  }
 ],
 "metadata": {
  "kernelspec": {
   "display_name": "Python 3.9.12 ('base')",
   "language": "python",
   "name": "python3"
  },
  "language_info": {
   "codemirror_mode": {
    "name": "ipython",
    "version": 3
   },
   "file_extension": ".py",
   "mimetype": "text/x-python",
   "name": "python",
   "nbconvert_exporter": "python",
   "pygments_lexer": "ipython3",
   "version": "3.9.12"
  },
  "orig_nbformat": 4,
  "vscode": {
   "interpreter": {
    "hash": "a825f8e8905b8e64233e6384cfa1616d0baa442a3b458fa78e4916d5c671b0d4"
   }
  }
 },
 "nbformat": 4,
 "nbformat_minor": 2
}
