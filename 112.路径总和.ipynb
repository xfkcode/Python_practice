{
 "cells": [
  {
   "cell_type": "markdown",
   "metadata": {},
   "source": [
    "给你二叉树的根节点 root 和一个表示目标和的整数 targetSum 。判断该树中是否存在 根节点到叶子节点 的路径，这条路径上所有节点值相加等于目标和 targetSum 。如果存在，返回 true ；否则，返回 false 。\n",
    "\n",
    "叶子节点 是指没有子节点的节点。\n",
    "\n",
    "\n",
    "示例 1：\n",
    "输入：root = [5,4,8,11,null,13,4,7,2,null,null,null,1], targetSum = 22\n",
    "输出：true\n",
    "解释：等于目标和的根节点到叶节点路径如上图所示。\n",
    "\n",
    "示例 2：\n",
    "输入：root = [1,2,3], targetSum = 5\n",
    "输出：false\n",
    "解释：树中存在两条根节点到叶子节点的路径：\n",
    "(1 --> 2): 和为 3\n",
    "(1 --> 3): 和为 4\n",
    "不存在 sum = 5 的根节点到叶子节点的路径。\n",
    "\n",
    "示例 3：\n",
    "输入：root = [], targetSum = 0\n",
    "输出：false\n",
    "解释：由于树是空的，所以不存在根节点到叶子节点的路径。\n",
    " \n",
    "\n",
    "提示：\n",
    "\n",
    "树中节点的数目在范围 [0, 5000] 内\n",
    "-1000 <= Node.val <= 1000\n",
    "-1000 <= targetSum <= 1000"
   ]
  },
  {
   "cell_type": "code",
   "execution_count": 55,
   "metadata": {},
   "outputs": [],
   "source": [
    "# 递归，\n",
    "class TreeNode:\n",
    "    def __init__(self, val=0, left=None, right=None):\n",
    "        self.val = val\n",
    "        self.left = left\n",
    "        self.right = right\n",
    "class Solution:\n",
    "    def hasPathSum(self, root: TreeNode, targetSum: int) -> bool:\n",
    "        # path函数返回当前节点所有路径和的list\n",
    "        def path(root):\n",
    "            # 遍历储存路径和\n",
    "            buf=[]\n",
    "            if not root:\n",
    "                buf.append(0)\n",
    "                return buf\n",
    "            if (not root.left) & (not root.right):\n",
    "                buf.append(root.val)\n",
    "                return buf\n",
    "            \n",
    "            for value in path(root.left):\n",
    "                buf.append(root.val+value)\n",
    "            for value in path(root.right):\n",
    "                buf.append(root.val+value)\n",
    "            return buf\n",
    "\n",
    "        if not root:\n",
    "            return False\n",
    "        path_list=path(root)\n",
    "        if path_list==[1] and targetSum==1:\n",
    "            return True\n",
    "        # 除去所有根节点的值\n",
    "        if path_list:\n",
    "            path_list.sort()\n",
    "            for i,ele in enumerate(path_list):\n",
    "                if ele==root.val:\n",
    "                    del path_list[i]\n",
    "                else:\n",
    "                    continue\n",
    "        if path_list==[0]:\n",
    "            return False\n",
    "        if targetSum in path_list:\n",
    "            return True\n",
    "        return False            \n",
    "            \n",
    "        "
   ]
  },
  {
   "cell_type": "code",
   "execution_count": 42,
   "metadata": {},
   "outputs": [
    {
     "data": {
      "text/plain": [
       "True"
      ]
     },
     "execution_count": 42,
     "metadata": {},
     "output_type": "execute_result"
    }
   ],
   "source": [
    "# Tree [1,2,3]\n",
    "right1=TreeNode(3)\n",
    "left1=TreeNode(2)\n",
    "root=TreeNode(1,left1,right1)\n",
    "\n",
    "sol=Solution()\n",
    "sol.hasPathSum(root,4)"
   ]
  },
  {
   "cell_type": "code",
   "execution_count": 43,
   "metadata": {},
   "outputs": [
    {
     "data": {
      "text/plain": [
       "False"
      ]
     },
     "execution_count": 43,
     "metadata": {},
     "output_type": "execute_result"
    }
   ],
   "source": [
    "root=None\n",
    "sol=Solution()\n",
    "sol.hasPathSum(root,0)"
   ]
  },
  {
   "cell_type": "code",
   "execution_count": 44,
   "metadata": {},
   "outputs": [
    {
     "data": {
      "text/plain": [
       "False"
      ]
     },
     "execution_count": 44,
     "metadata": {},
     "output_type": "execute_result"
    }
   ],
   "source": [
    "# Tree [1,2]\n",
    "left1=TreeNode(2)\n",
    "root=TreeNode(1,left1)\n",
    "\n",
    "sol=Solution()\n",
    "sol.hasPathSum(root,1)"
   ]
  },
  {
   "cell_type": "code",
   "execution_count": 56,
   "metadata": {},
   "outputs": [
    {
     "name": "stdout",
     "output_type": "stream",
     "text": [
      "[-5, -2]\n",
      "0 -5\n",
      "1 -2\n",
      "[-5]\n"
     ]
    },
    {
     "data": {
      "text/plain": [
       "False"
      ]
     },
     "execution_count": 56,
     "metadata": {},
     "output_type": "execute_result"
    }
   ],
   "source": [
    "# Tree [-2,-3,null]\n",
    "left1=TreeNode(-3)\n",
    "root=TreeNode(-2,left1)\n",
    "\n",
    "sol=Solution()\n",
    "sol.hasPathSum(root,-2)"
   ]
  },
  {
   "cell_type": "code",
   "execution_count": 57,
   "metadata": {},
   "outputs": [],
   "source": [
    "# 力扣标准解\n",
    "class Solution:\n",
    "    def hasPathSum(self, root: TreeNode, sum: int) -> bool:\n",
    "        if not root:\n",
    "            return False\n",
    "        que_node = collections.deque([root])\n",
    "        que_val = collections.deque([root.val])\n",
    "        while que_node:\n",
    "            now = que_node.popleft()\n",
    "            temp = que_val.popleft()\n",
    "            if not now.left and not now.right:\n",
    "                if temp == sum:\n",
    "                    return True\n",
    "                continue\n",
    "            if now.left:\n",
    "                que_node.append(now.left)\n",
    "                que_val.append(now.left.val + temp)\n",
    "            if now.right:\n",
    "                que_node.append(now.right)\n",
    "                que_val.append(now.right.val + temp)\n",
    "        return False"
   ]
  },
  {
   "cell_type": "code",
   "execution_count": null,
   "metadata": {},
   "outputs": [],
   "source": []
  }
 ],
 "metadata": {
  "kernelspec": {
   "display_name": "Python 3.9.12 ('base')",
   "language": "python",
   "name": "python3"
  },
  "language_info": {
   "codemirror_mode": {
    "name": "ipython",
    "version": 3
   },
   "file_extension": ".py",
   "mimetype": "text/x-python",
   "name": "python",
   "nbconvert_exporter": "python",
   "pygments_lexer": "ipython3",
   "version": "3.9.12"
  },
  "orig_nbformat": 4,
  "vscode": {
   "interpreter": {
    "hash": "a825f8e8905b8e64233e6384cfa1616d0baa442a3b458fa78e4916d5c671b0d4"
   }
  }
 },
 "nbformat": 4,
 "nbformat_minor": 2
}
