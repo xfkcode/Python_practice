{
 "cells": [
  {
   "cell_type": "markdown",
   "metadata": {},
   "source": [
    "给你一个链表，两两交换其中相邻的节点，并返回交换后链表的头节点。你必须在不修改节点内部的值的情况下完成本题（即，只能进行节点交换）。\n",
    "\n",
    "\n",
    "示例 1：\n",
    "输入：head = [1,2,3,4]  \n",
    "输出：[2,1,4,3]  \n",
    "\n",
    "示例 2：  \n",
    "输入：head = []  \n",
    "输出：[]  \n",
    "\n",
    "示例 3：  \n",
    "输入：head = [1]  \n",
    "输出：[1]  \n",
    " \n",
    "\n",
    "提示：\n",
    "\n",
    "链表中节点的数目在范围 [0, 100] 内  \n",
    "0 <= Node.val <= 100"
   ]
  },
  {
   "cell_type": "code",
   "execution_count": 1,
   "metadata": {},
   "outputs": [],
   "source": [
    "\n",
    "class ListNode:\n",
    "    def __init__(self, val=0, next=None):\n",
    "        self.val = val\n",
    "        self.next = next\n",
    "\n",
    "class Solution:\n",
    "    def swapPairs(self, head: ListNode) -> ListNode:\n",
    "        if not head or not head.next:\n",
    "            return head\n",
    "        newHead = head.next\n",
    "        head.next = self.swapPairs(newHead.next)\n",
    "        newHead.next = head\n",
    "        return newHead"
   ]
  },
  {
   "cell_type": "code",
   "execution_count": 6,
   "metadata": {},
   "outputs": [
    {
     "name": "stdout",
     "output_type": "stream",
     "text": [
      "1\n",
      "2\n",
      "3\n",
      "4\n",
      "1\n",
      "4\n",
      "3\n"
     ]
    }
   ],
   "source": [
    "node3=ListNode(4)\n",
    "node2=ListNode(3,node3)\n",
    "node1=ListNode(2,node2)\n",
    "head=ListNode(1,node1)\n",
    "node=head\n",
    "while(node!=None):\n",
    "    print(node.val)\n",
    "    node = node.next\n",
    "    \n",
    "sol=Solution()\n",
    "sol.swapPairs(head)\n",
    "\n",
    "node=head\n",
    "while(node!=None):\n",
    "    print(node.val)\n",
    "    node = node.next\n",
    "    "
   ]
  },
  {
   "cell_type": "code",
   "execution_count": null,
   "metadata": {},
   "outputs": [],
   "source": []
  }
 ],
 "metadata": {
  "kernelspec": {
   "display_name": "Python 3.9.12 ('base')",
   "language": "python",
   "name": "python3"
  },
  "language_info": {
   "codemirror_mode": {
    "name": "ipython",
    "version": 3
   },
   "file_extension": ".py",
   "mimetype": "text/x-python",
   "name": "python",
   "nbconvert_exporter": "python",
   "pygments_lexer": "ipython3",
   "version": "3.9.12"
  },
  "orig_nbformat": 4,
  "vscode": {
   "interpreter": {
    "hash": "a825f8e8905b8e64233e6384cfa1616d0baa442a3b458fa78e4916d5c671b0d4"
   }
  }
 },
 "nbformat": 4,
 "nbformat_minor": 2
}
