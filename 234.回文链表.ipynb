{
 "cells": [
  {
   "cell_type": "markdown",
   "metadata": {},
   "source": [
    "给你一个单链表的头节点 head ，请你判断该链表是否为回文链表。如果是，返回 true ；否则，返回 false 。\n",
    "\n",
    " \n",
    "示例 1：  \n",
    "输入：head = [1,2,2,1]  \n",
    "输出：true  \n",
    "\n",
    "示例 2：  \n",
    "输入：head = [1,2]  \n",
    "输出：false  \n",
    " \n",
    "\n",
    "提示：\n",
    "链表中节点数目在范围[1, 105] 内  \n",
    "0 <= Node.val <= 9  \n",
    " \n",
    "\n",
    "进阶：你能否用 O(n) 时间复杂度和 O(1) 空间复杂度解决此题？"
   ]
  },
  {
   "cell_type": "code",
   "execution_count": 11,
   "metadata": {},
   "outputs": [],
   "source": [
    "\n",
    "class ListNode:\n",
    "    def __init__(self, val=0, next=None):\n",
    "        self.val = val\n",
    "        self.next = next\n",
    "        \n",
    "class Solution:\n",
    "    # List\n",
    "    def isPalindrome(self, head: ListNode) -> bool:\n",
    "        ans=[]\n",
    "        while head:\n",
    "            ans.append(head.val)\n",
    "            head=head.next\n",
    "        return ans==ans[::-1]\n",
    "    # 递归\n",
    "    def IsPalindrome(self, head: ListNode) -> bool:\n",
    "        self.front=head\n",
    "        def recursion(node):\n",
    "            if node!=None:\n",
    "                if recursion(node.next):\n",
    "                    if self.front.val==node.val:\n",
    "                        self.front=self.front.next\n",
    "                        return True\n",
    "                    return False\n",
    "                return False\n",
    "            return True\n",
    "        return recursion(head)\n",
    "            "
   ]
  },
  {
   "cell_type": "code",
   "execution_count": 12,
   "metadata": {},
   "outputs": [
    {
     "name": "stdout",
     "output_type": "stream",
     "text": [
      "True\n",
      "True\n"
     ]
    }
   ],
   "source": [
    "node3=ListNode(1)\n",
    "node2=ListNode(2,node3)\n",
    "node1=ListNode(2,node2)\n",
    "head=ListNode(1,node1)\n",
    "\n",
    "sol=Solution()\n",
    "print(sol.isPalindrome(head))\n",
    "print(sol.IsPalindrome(head))"
   ]
  },
  {
   "cell_type": "code",
   "execution_count": 13,
   "metadata": {},
   "outputs": [
    {
     "name": "stdout",
     "output_type": "stream",
     "text": [
      "False\n",
      "False\n"
     ]
    }
   ],
   "source": [
    "node1=ListNode(2)\n",
    "head=ListNode(1,node1)\n",
    "\n",
    "sol=Solution()\n",
    "print(sol.isPalindrome(head))\n",
    "print(sol.IsPalindrome(head))"
   ]
  },
  {
   "cell_type": "code",
   "execution_count": null,
   "metadata": {},
   "outputs": [],
   "source": []
  }
 ],
 "metadata": {
  "kernelspec": {
   "display_name": "Python 3.9.12 ('base')",
   "language": "python",
   "name": "python3"
  },
  "language_info": {
   "codemirror_mode": {
    "name": "ipython",
    "version": 3
   },
   "file_extension": ".py",
   "mimetype": "text/x-python",
   "name": "python",
   "nbconvert_exporter": "python",
   "pygments_lexer": "ipython3",
   "version": "3.9.12"
  },
  "orig_nbformat": 4,
  "vscode": {
   "interpreter": {
    "hash": "a825f8e8905b8e64233e6384cfa1616d0baa442a3b458fa78e4916d5c671b0d4"
   }
  }
 },
 "nbformat": 4,
 "nbformat_minor": 2
}
