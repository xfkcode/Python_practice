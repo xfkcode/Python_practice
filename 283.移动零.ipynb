{
 "cells": [
  {
   "cell_type": "markdown",
   "metadata": {},
   "source": [
    "给定一个数组 nums，编写一个函数将所有 0 移动到数组的末尾，同时保持非零元素的相对顺序。\n",
    "\n",
    "请注意 ，必须在不复制数组的情况下原地对数组进行操作。\n",
    "\n",
    " \n",
    "\n",
    "示例 1:  \n",
    "输入: nums = [0,1,0,3,12]  \n",
    "输出: [1,3,12,0,0]  \n",
    "\n",
    "示例 2:  \n",
    "输入: nums = [0]  \n",
    "输出: [0]  \n",
    " \n",
    "\n",
    "提示:\n",
    "\n",
    "1 <= nums.length <= 10^4  \n",
    "-2^31 <= nums[i] <= 2^31 - 1\n",
    " \n",
    "\n",
    "进阶：你能尽量减少完成的操作次数吗？"
   ]
  },
  {
   "cell_type": "code",
   "execution_count": 1,
   "metadata": {},
   "outputs": [],
   "source": [
    "class Solution:\n",
    "    def moveZeroes(self, nums: list[int]) -> None:\n",
    "        a=0;b=0\n",
    "        while a<len(nums):\n",
    "            if nums[a]!=0:\n",
    "                temp=nums[a]\n",
    "                nums[a]=nums[b]\n",
    "                nums[b]=temp\n",
    "                b+=1\n",
    "            a+=1\n",
    "        return"
   ]
  },
  {
   "cell_type": "code",
   "execution_count": 2,
   "metadata": {},
   "outputs": [
    {
     "data": {
      "text/plain": [
       "[1, 3, 12, 0, 0]"
      ]
     },
     "execution_count": 2,
     "metadata": {},
     "output_type": "execute_result"
    }
   ],
   "source": [
    "nums=[0,1,0,3,12]\n",
    "sol=Solution()\n",
    "sol.moveZeroes(nums)\n",
    "nums\n"
   ]
  },
  {
   "cell_type": "code",
   "execution_count": null,
   "metadata": {},
   "outputs": [],
   "source": []
  }
 ],
 "metadata": {
  "kernelspec": {
   "display_name": "Python 3.9.12 ('base')",
   "language": "python",
   "name": "python3"
  },
  "language_info": {
   "codemirror_mode": {
    "name": "ipython",
    "version": 3
   },
   "file_extension": ".py",
   "mimetype": "text/x-python",
   "name": "python",
   "nbconvert_exporter": "python",
   "pygments_lexer": "ipython3",
   "version": "3.9.12"
  },
  "orig_nbformat": 4,
  "vscode": {
   "interpreter": {
    "hash": "a825f8e8905b8e64233e6384cfa1616d0baa442a3b458fa78e4916d5c671b0d4"
   }
  }
 },
 "nbformat": 4,
 "nbformat_minor": 2
}
