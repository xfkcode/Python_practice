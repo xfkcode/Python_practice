{
 "cells": [
  {
   "cell_type": "markdown",
   "metadata": {},
   "source": [
    "当且仅当每个相邻位数上的数字 x 和 y 满足 x <= y 时，我们称这个整数是单调递增的。  \n",
    "给定一个整数 n ，返回 小于或等于 n 的最大数字，且数字呈单调递增 。0 <= n <= 10^9 \n",
    "\n",
    "示例 1:   \n",
    "输入: n = 10   \n",
    "输出: 9   \n",
    "\n",
    "示例 2:   \n",
    "输入: n = 1234   \n",
    "输出: 1234 \n",
    "\n",
    "示例 3:  \n",
    "输入: n = 332   \n",
    "输出: 299  "
   ]
  },
  {
   "cell_type": "code",
   "execution_count": 37,
   "metadata": {},
   "outputs": [],
   "source": [
    "class Solution:\n",
    "    def func(self,num):\n",
    "        ret = []\n",
    "        length = 0\n",
    "        while num != 0:\n",
    "            bit = num % 10\n",
    "            if length > 0:\n",
    "                if ret[length-1] < bit:\n",
    "                    for i in range(length):\n",
    "                        ret[i]= 9\n",
    "                    bit = bit-1 if bit-1>=0 else 0 \n",
    "            ret.append(bit)\n",
    "            length += 1   \n",
    "            num = num // 10\n",
    "        ans = 0\n",
    "        for i in range(length):\n",
    "            ans += ret[i] * (10**i) \n",
    "        return ans\n",
    "            "
   ]
  },
  {
   "cell_type": "code",
   "execution_count": 38,
   "metadata": {},
   "outputs": [
    {
     "data": {
      "text/plain": [
       "9"
      ]
     },
     "execution_count": 38,
     "metadata": {},
     "output_type": "execute_result"
    }
   ],
   "source": [
    "sol=Solution()\n",
    "sol.func(10)"
   ]
  },
  {
   "cell_type": "code",
   "execution_count": 39,
   "metadata": {},
   "outputs": [
    {
     "data": {
      "text/plain": [
       "1234"
      ]
     },
     "execution_count": 39,
     "metadata": {},
     "output_type": "execute_result"
    }
   ],
   "source": [
    "sol=Solution()\n",
    "sol.func(1234)"
   ]
  },
  {
   "cell_type": "code",
   "execution_count": 41,
   "metadata": {},
   "outputs": [
    {
     "data": {
      "text/plain": [
       "299"
      ]
     },
     "execution_count": 41,
     "metadata": {},
     "output_type": "execute_result"
    }
   ],
   "source": [
    "sol=Solution()\n",
    "sol.func(332)"
   ]
  }
 ],
 "metadata": {
  "kernelspec": {
   "display_name": "Python 3.9.12 ('base')",
   "language": "python",
   "name": "python3"
  },
  "language_info": {
   "codemirror_mode": {
    "name": "ipython",
    "version": 3
   },
   "file_extension": ".py",
   "mimetype": "text/x-python",
   "name": "python",
   "nbconvert_exporter": "python",
   "pygments_lexer": "ipython3",
   "version": "3.9.12"
  },
  "orig_nbformat": 4,
  "vscode": {
   "interpreter": {
    "hash": "a825f8e8905b8e64233e6384cfa1616d0baa442a3b458fa78e4916d5c671b0d4"
   }
  }
 },
 "nbformat": 4,
 "nbformat_minor": 2
}
