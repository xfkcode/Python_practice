{
 "cells": [
  {
   "cell_type": "markdown",
   "metadata": {},
   "source": [
    "给定一个包含 [0, n] 中 n 个数的数组 nums ，找出 [0, n] 这个范围内没有出现在数组中的那个数。\n",
    "\n",
    " \n",
    "示例 1：  \n",
    "输入：nums = [3,0,1]  \n",
    "输出：2  \n",
    "解释：n = 3，因为有 3 个数字，所以所有的数字都在范围 [0,3] 内。  \n",
    "2 是丢失的数字，因为它没有出现在 nums 中。\n",
    "\n",
    "示例 2：  \n",
    "输入：nums = [0,1]  \n",
    "输出：2  \n",
    "解释：n = 2，因为有 2 个数字，所以所有的数字都在范围 [0,2] 内。  \n",
    "2 是丢失的数字，因为它没有出现在 nums 中。\n",
    "\n",
    "示例 3：  \n",
    "输入：nums = [9,6,4,2,3,5,7,0,1]  \n",
    "输出：8  \n",
    "解释：n = 9，因为有 9 个数字，所以所有的数字都在范围 [0,9] 内。  \n",
    "8 是丢失的数字，因为它没有出现在 nums 中。\n",
    "\n",
    "示例 4：  \n",
    "输入：nums = [0]  \n",
    "输出：1  \n",
    "解释：n = 1，因为有 1 个数字，所以所有的数字都在范围 [0,1] 内。  \n",
    "1 是丢失的数字，因为它没有出现在 nums 中。\n",
    " \n",
    "\n",
    "提示：\n",
    "\n",
    "n == nums.length  \n",
    "1 <= n <= 10^4  \n",
    "0 <= nums[i] <= n  \n",
    "nums 中的所有数字都 独一无二  \n",
    " \n",
    "\n",
    "进阶：你能否实现线性时间复杂度、仅使用额外常数空间的算法解决此问题?"
   ]
  },
  {
   "cell_type": "code",
   "execution_count": 4,
   "metadata": {},
   "outputs": [],
   "source": [
    "# 排序\n",
    "class Solution:\n",
    "    def missingNumber(self, nums: list[int]) -> int:\n",
    "        nums.sort()\n",
    "        for i,num in enumerate(nums):\n",
    "            if num!=i:\n",
    "                return i\n",
    "        return len(nums)\n",
    "        "
   ]
  },
  {
   "cell_type": "code",
   "execution_count": 5,
   "metadata": {},
   "outputs": [
    {
     "data": {
      "text/plain": [
       "2"
      ]
     },
     "execution_count": 5,
     "metadata": {},
     "output_type": "execute_result"
    }
   ],
   "source": [
    "sol=Solution()\n",
    "sol.missingNumber([3,0,1])"
   ]
  },
  {
   "cell_type": "code",
   "execution_count": 6,
   "metadata": {},
   "outputs": [
    {
     "data": {
      "text/plain": [
       "8"
      ]
     },
     "execution_count": 6,
     "metadata": {},
     "output_type": "execute_result"
    }
   ],
   "source": [
    "sol=Solution()\n",
    "sol.missingNumber([9,6,4,2,3,5,7,0,1])"
   ]
  },
  {
   "cell_type": "code",
   "execution_count": 10,
   "metadata": {},
   "outputs": [],
   "source": [
    "# 哈希集合\n",
    "class Solution:\n",
    "    def MissingNumber(self, nums: list[int]) -> int:\n",
    "        s = set(nums)\n",
    "        for i in range(len(nums) + 1):\n",
    "            if i not in s:\n",
    "                return i"
   ]
  },
  {
   "cell_type": "code",
   "execution_count": 11,
   "metadata": {},
   "outputs": [
    {
     "data": {
      "text/plain": [
       "2"
      ]
     },
     "execution_count": 11,
     "metadata": {},
     "output_type": "execute_result"
    }
   ],
   "source": [
    "sol=Solution()\n",
    "sol.MissingNumber([3,0,1])"
   ]
  },
  {
   "cell_type": "code",
   "execution_count": 12,
   "metadata": {},
   "outputs": [],
   "source": [
    "# 位运算\n",
    "class Solution:\n",
    "    def missing_Number(self, nums: list[int]) -> int:\n",
    "        xor = 0\n",
    "        for i, num in enumerate(nums):\n",
    "            xor ^= i ^ num\n",
    "        return xor ^ len(nums)"
   ]
  },
  {
   "cell_type": "code",
   "execution_count": 13,
   "metadata": {},
   "outputs": [
    {
     "data": {
      "text/plain": [
       "2"
      ]
     },
     "execution_count": 13,
     "metadata": {},
     "output_type": "execute_result"
    }
   ],
   "source": [
    "sol=Solution()\n",
    "sol.missing_Number([3,0,1])"
   ]
  },
  {
   "cell_type": "code",
   "execution_count": 14,
   "metadata": {},
   "outputs": [],
   "source": [
    "# 数学\n",
    "class Solution:\n",
    "    def Missing_Number(self, nums: list[int]) -> int:\n",
    "        n = len(nums)\n",
    "        total = n * (n + 1) // 2\n",
    "        arrSum = sum(nums)\n",
    "        return total - arrSum"
   ]
  },
  {
   "cell_type": "code",
   "execution_count": 15,
   "metadata": {},
   "outputs": [
    {
     "data": {
      "text/plain": [
       "2"
      ]
     },
     "execution_count": 15,
     "metadata": {},
     "output_type": "execute_result"
    }
   ],
   "source": [
    "sol=Solution()\n",
    "sol.Missing_Number([3,0,1])"
   ]
  },
  {
   "cell_type": "code",
   "execution_count": null,
   "metadata": {},
   "outputs": [],
   "source": []
  }
 ],
 "metadata": {
  "kernelspec": {
   "display_name": "Python 3.9.12 ('base')",
   "language": "python",
   "name": "python3"
  },
  "language_info": {
   "codemirror_mode": {
    "name": "ipython",
    "version": 3
   },
   "file_extension": ".py",
   "mimetype": "text/x-python",
   "name": "python",
   "nbconvert_exporter": "python",
   "pygments_lexer": "ipython3",
   "version": "3.9.12"
  },
  "orig_nbformat": 4,
  "vscode": {
   "interpreter": {
    "hash": "a825f8e8905b8e64233e6384cfa1616d0baa442a3b458fa78e4916d5c671b0d4"
   }
  }
 },
 "nbformat": 4,
 "nbformat_minor": 2
}
