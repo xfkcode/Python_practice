{
 "cells": [
  {
   "cell_type": "markdown",
   "metadata": {},
   "source": [
    "实现 pow(x, n) ，即计算 x 的整数 n 次幂函数（即，xn ）。\n",
    "\n",
    " \n",
    "示例 1：\n",
    "输入：x = 2.00000, n = 10\n",
    "输出：1024.00000\n",
    "\n",
    "示例 2：\n",
    "输入：x = 2.10000, n = 3\n",
    "输出：9.26100\n",
    "\n",
    "示例 3：\n",
    "输入：x = 2.00000, n = -2\n",
    "输出：0.25000\n",
    "解释：2-2 = 1/22 = 1/4 = 0.25\n",
    " \n",
    "\n",
    "提示：\n",
    "\n",
    "-100.0 < x < 100.0\n",
    "-231 <= n <= 231-1\n",
    "-10^4 <= xn <= 10^4"
   ]
  },
  {
   "cell_type": "code",
   "execution_count": 20,
   "metadata": {},
   "outputs": [],
   "source": [
    "# 递归，会溢出\n",
    "class Solution:\n",
    "    def myPow(self,x: float,n: int) -> float:\n",
    "        def pos(x,n):\n",
    "            if n>0:\n",
    "                if n%2==0:\n",
    "                    return self.myPow(x,n/2)**2\n",
    "                else:\n",
    "                    # return (self.myPow(x,int(n/2))**2)*x\n",
    "                    return (self.myPow(x,n//2)**2)*x\n",
    "            elif n==0:\n",
    "                return 1\n",
    "        if n>=0:\n",
    "            return pos(x,n) \n",
    "        else:\n",
    "            return 1/pos(x,-n)"
   ]
  },
  {
   "cell_type": "code",
   "execution_count": 9,
   "metadata": {},
   "outputs": [
    {
     "data": {
      "text/plain": [
       "0.25"
      ]
     },
     "execution_count": 9,
     "metadata": {},
     "output_type": "execute_result"
    }
   ],
   "source": [
    "sol=Solution()\n",
    "sol.myPow(2.00000,-2)"
   ]
  },
  {
   "cell_type": "code",
   "execution_count": 10,
   "metadata": {},
   "outputs": [
    {
     "data": {
      "text/plain": [
       "1024.0"
      ]
     },
     "execution_count": 10,
     "metadata": {},
     "output_type": "execute_result"
    }
   ],
   "source": [
    "sol=Solution()\n",
    "sol.myPow(2.00000,10)"
   ]
  },
  {
   "cell_type": "code",
   "execution_count": 11,
   "metadata": {},
   "outputs": [
    {
     "data": {
      "text/plain": [
       "1"
      ]
     },
     "execution_count": 11,
     "metadata": {},
     "output_type": "execute_result"
    }
   ],
   "source": [
    "sol=Solution()\n",
    "sol.myPow(2.00000,0)"
   ]
  },
  {
   "cell_type": "code",
   "execution_count": 21,
   "metadata": {},
   "outputs": [
    {
     "ename": "OverflowError",
     "evalue": "(34, 'Result too large')",
     "output_type": "error",
     "traceback": [
      "\u001b[1;31m---------------------------------------------------------------------------\u001b[0m",
      "\u001b[1;31mOverflowError\u001b[0m                             Traceback (most recent call last)",
      "\u001b[1;32mg:\\python program\\python_practice\\50.Pow(x,n).ipynb Cell 6\u001b[0m in \u001b[0;36m<cell line: 2>\u001b[1;34m()\u001b[0m\n\u001b[0;32m      <a href='vscode-notebook-cell:/g%3A/python%20program/python_practice/50.Pow%28x%2Cn%29.ipynb#X11sZmlsZQ%3D%3D?line=0'>1</a>\u001b[0m sol\u001b[39m=\u001b[39mSolution()\n\u001b[1;32m----> <a href='vscode-notebook-cell:/g%3A/python%20program/python_practice/50.Pow%28x%2Cn%29.ipynb#X11sZmlsZQ%3D%3D?line=1'>2</a>\u001b[0m sol\u001b[39m.\u001b[39;49mmyPow(\u001b[39m2.00000\u001b[39;49m,\u001b[39m-\u001b[39;49m\u001b[39m2147483648\u001b[39;49m)\n",
      "\u001b[1;32mg:\\python program\\python_practice\\50.Pow(x,n).ipynb Cell 6\u001b[0m in \u001b[0;36mSolution.myPow\u001b[1;34m(self, x, n)\u001b[0m\n\u001b[0;32m     <a href='vscode-notebook-cell:/g%3A/python%20program/python_practice/50.Pow%28x%2Cn%29.ipynb#X11sZmlsZQ%3D%3D?line=13'>14</a>\u001b[0m     \u001b[39mreturn\u001b[39;00m pos(x,n) \n\u001b[0;32m     <a href='vscode-notebook-cell:/g%3A/python%20program/python_practice/50.Pow%28x%2Cn%29.ipynb#X11sZmlsZQ%3D%3D?line=14'>15</a>\u001b[0m \u001b[39melse\u001b[39;00m:\n\u001b[1;32m---> <a href='vscode-notebook-cell:/g%3A/python%20program/python_practice/50.Pow%28x%2Cn%29.ipynb#X11sZmlsZQ%3D%3D?line=15'>16</a>\u001b[0m     \u001b[39mreturn\u001b[39;00m \u001b[39m1\u001b[39m\u001b[39m/\u001b[39mpos(x,\u001b[39m-\u001b[39;49mn)\n",
      "\u001b[1;32mg:\\python program\\python_practice\\50.Pow(x,n).ipynb Cell 6\u001b[0m in \u001b[0;36mSolution.myPow.<locals>.pos\u001b[1;34m(x, n)\u001b[0m\n\u001b[0;32m      <a href='vscode-notebook-cell:/g%3A/python%20program/python_practice/50.Pow%28x%2Cn%29.ipynb#X11sZmlsZQ%3D%3D?line=4'>5</a>\u001b[0m \u001b[39mif\u001b[39;00m n\u001b[39m>\u001b[39m\u001b[39m0\u001b[39m:\n\u001b[0;32m      <a href='vscode-notebook-cell:/g%3A/python%20program/python_practice/50.Pow%28x%2Cn%29.ipynb#X11sZmlsZQ%3D%3D?line=5'>6</a>\u001b[0m     \u001b[39mif\u001b[39;00m n\u001b[39m%\u001b[39m\u001b[39m2\u001b[39m\u001b[39m==\u001b[39m\u001b[39m0\u001b[39m:\n\u001b[1;32m----> <a href='vscode-notebook-cell:/g%3A/python%20program/python_practice/50.Pow%28x%2Cn%29.ipynb#X11sZmlsZQ%3D%3D?line=6'>7</a>\u001b[0m         \u001b[39mreturn\u001b[39;00m \u001b[39mself\u001b[39;49m\u001b[39m.\u001b[39;49mmyPow(x,n\u001b[39m/\u001b[39;49m\u001b[39m2\u001b[39;49m)\u001b[39m*\u001b[39m\u001b[39m*\u001b[39m\u001b[39m2\u001b[39m\n\u001b[0;32m      <a href='vscode-notebook-cell:/g%3A/python%20program/python_practice/50.Pow%28x%2Cn%29.ipynb#X11sZmlsZQ%3D%3D?line=7'>8</a>\u001b[0m     \u001b[39melse\u001b[39;00m:\n\u001b[0;32m      <a href='vscode-notebook-cell:/g%3A/python%20program/python_practice/50.Pow%28x%2Cn%29.ipynb#X11sZmlsZQ%3D%3D?line=8'>9</a>\u001b[0m         \u001b[39m# return (self.myPow(x,int(n/2))**2)*x\u001b[39;00m\n\u001b[0;32m     <a href='vscode-notebook-cell:/g%3A/python%20program/python_practice/50.Pow%28x%2Cn%29.ipynb#X11sZmlsZQ%3D%3D?line=9'>10</a>\u001b[0m         \u001b[39mreturn\u001b[39;00m (\u001b[39mself\u001b[39m\u001b[39m.\u001b[39mmyPow(x,n\u001b[39m/\u001b[39m\u001b[39m/\u001b[39m\u001b[39m2\u001b[39m)\u001b[39m*\u001b[39m\u001b[39m*\u001b[39m\u001b[39m2\u001b[39m)\u001b[39m*\u001b[39mx\n",
      "\u001b[1;32mg:\\python program\\python_practice\\50.Pow(x,n).ipynb Cell 6\u001b[0m in \u001b[0;36mSolution.myPow\u001b[1;34m(self, x, n)\u001b[0m\n\u001b[0;32m     <a href='vscode-notebook-cell:/g%3A/python%20program/python_practice/50.Pow%28x%2Cn%29.ipynb#X11sZmlsZQ%3D%3D?line=11'>12</a>\u001b[0m         \u001b[39mreturn\u001b[39;00m \u001b[39m1\u001b[39m\n\u001b[0;32m     <a href='vscode-notebook-cell:/g%3A/python%20program/python_practice/50.Pow%28x%2Cn%29.ipynb#X11sZmlsZQ%3D%3D?line=12'>13</a>\u001b[0m \u001b[39mif\u001b[39;00m n\u001b[39m>\u001b[39m\u001b[39m=\u001b[39m\u001b[39m0\u001b[39m:\n\u001b[1;32m---> <a href='vscode-notebook-cell:/g%3A/python%20program/python_practice/50.Pow%28x%2Cn%29.ipynb#X11sZmlsZQ%3D%3D?line=13'>14</a>\u001b[0m     \u001b[39mreturn\u001b[39;00m pos(x,n) \n\u001b[0;32m     <a href='vscode-notebook-cell:/g%3A/python%20program/python_practice/50.Pow%28x%2Cn%29.ipynb#X11sZmlsZQ%3D%3D?line=14'>15</a>\u001b[0m \u001b[39melse\u001b[39;00m:\n\u001b[0;32m     <a href='vscode-notebook-cell:/g%3A/python%20program/python_practice/50.Pow%28x%2Cn%29.ipynb#X11sZmlsZQ%3D%3D?line=15'>16</a>\u001b[0m     \u001b[39mreturn\u001b[39;00m \u001b[39m1\u001b[39m\u001b[39m/\u001b[39mpos(x,\u001b[39m-\u001b[39mn)\n",
      "\u001b[1;32mg:\\python program\\python_practice\\50.Pow(x,n).ipynb Cell 6\u001b[0m in \u001b[0;36mSolution.myPow.<locals>.pos\u001b[1;34m(x, n)\u001b[0m\n\u001b[0;32m      <a href='vscode-notebook-cell:/g%3A/python%20program/python_practice/50.Pow%28x%2Cn%29.ipynb#X11sZmlsZQ%3D%3D?line=4'>5</a>\u001b[0m \u001b[39mif\u001b[39;00m n\u001b[39m>\u001b[39m\u001b[39m0\u001b[39m:\n\u001b[0;32m      <a href='vscode-notebook-cell:/g%3A/python%20program/python_practice/50.Pow%28x%2Cn%29.ipynb#X11sZmlsZQ%3D%3D?line=5'>6</a>\u001b[0m     \u001b[39mif\u001b[39;00m n\u001b[39m%\u001b[39m\u001b[39m2\u001b[39m\u001b[39m==\u001b[39m\u001b[39m0\u001b[39m:\n\u001b[1;32m----> <a href='vscode-notebook-cell:/g%3A/python%20program/python_practice/50.Pow%28x%2Cn%29.ipynb#X11sZmlsZQ%3D%3D?line=6'>7</a>\u001b[0m         \u001b[39mreturn\u001b[39;00m \u001b[39mself\u001b[39;49m\u001b[39m.\u001b[39;49mmyPow(x,n\u001b[39m/\u001b[39;49m\u001b[39m2\u001b[39;49m)\u001b[39m*\u001b[39m\u001b[39m*\u001b[39m\u001b[39m2\u001b[39m\n\u001b[0;32m      <a href='vscode-notebook-cell:/g%3A/python%20program/python_practice/50.Pow%28x%2Cn%29.ipynb#X11sZmlsZQ%3D%3D?line=7'>8</a>\u001b[0m     \u001b[39melse\u001b[39;00m:\n\u001b[0;32m      <a href='vscode-notebook-cell:/g%3A/python%20program/python_practice/50.Pow%28x%2Cn%29.ipynb#X11sZmlsZQ%3D%3D?line=8'>9</a>\u001b[0m         \u001b[39m# return (self.myPow(x,int(n/2))**2)*x\u001b[39;00m\n\u001b[0;32m     <a href='vscode-notebook-cell:/g%3A/python%20program/python_practice/50.Pow%28x%2Cn%29.ipynb#X11sZmlsZQ%3D%3D?line=9'>10</a>\u001b[0m         \u001b[39mreturn\u001b[39;00m (\u001b[39mself\u001b[39m\u001b[39m.\u001b[39mmyPow(x,n\u001b[39m/\u001b[39m\u001b[39m/\u001b[39m\u001b[39m2\u001b[39m)\u001b[39m*\u001b[39m\u001b[39m*\u001b[39m\u001b[39m2\u001b[39m)\u001b[39m*\u001b[39mx\n",
      "\u001b[1;32mg:\\python program\\python_practice\\50.Pow(x,n).ipynb Cell 6\u001b[0m in \u001b[0;36mSolution.myPow\u001b[1;34m(self, x, n)\u001b[0m\n\u001b[0;32m     <a href='vscode-notebook-cell:/g%3A/python%20program/python_practice/50.Pow%28x%2Cn%29.ipynb#X11sZmlsZQ%3D%3D?line=11'>12</a>\u001b[0m         \u001b[39mreturn\u001b[39;00m \u001b[39m1\u001b[39m\n\u001b[0;32m     <a href='vscode-notebook-cell:/g%3A/python%20program/python_practice/50.Pow%28x%2Cn%29.ipynb#X11sZmlsZQ%3D%3D?line=12'>13</a>\u001b[0m \u001b[39mif\u001b[39;00m n\u001b[39m>\u001b[39m\u001b[39m=\u001b[39m\u001b[39m0\u001b[39m:\n\u001b[1;32m---> <a href='vscode-notebook-cell:/g%3A/python%20program/python_practice/50.Pow%28x%2Cn%29.ipynb#X11sZmlsZQ%3D%3D?line=13'>14</a>\u001b[0m     \u001b[39mreturn\u001b[39;00m pos(x,n) \n\u001b[0;32m     <a href='vscode-notebook-cell:/g%3A/python%20program/python_practice/50.Pow%28x%2Cn%29.ipynb#X11sZmlsZQ%3D%3D?line=14'>15</a>\u001b[0m \u001b[39melse\u001b[39;00m:\n\u001b[0;32m     <a href='vscode-notebook-cell:/g%3A/python%20program/python_practice/50.Pow%28x%2Cn%29.ipynb#X11sZmlsZQ%3D%3D?line=15'>16</a>\u001b[0m     \u001b[39mreturn\u001b[39;00m \u001b[39m1\u001b[39m\u001b[39m/\u001b[39mpos(x,\u001b[39m-\u001b[39mn)\n",
      "    \u001b[1;31m[... skipping similar frames: Solution.myPow.<locals>.pos at line 7 (19 times), Solution.myPow at line 14 (18 times)]\u001b[0m\n",
      "\u001b[1;32mg:\\python program\\python_practice\\50.Pow(x,n).ipynb Cell 6\u001b[0m in \u001b[0;36mSolution.myPow\u001b[1;34m(self, x, n)\u001b[0m\n\u001b[0;32m     <a href='vscode-notebook-cell:/g%3A/python%20program/python_practice/50.Pow%28x%2Cn%29.ipynb#X11sZmlsZQ%3D%3D?line=11'>12</a>\u001b[0m         \u001b[39mreturn\u001b[39;00m \u001b[39m1\u001b[39m\n\u001b[0;32m     <a href='vscode-notebook-cell:/g%3A/python%20program/python_practice/50.Pow%28x%2Cn%29.ipynb#X11sZmlsZQ%3D%3D?line=12'>13</a>\u001b[0m \u001b[39mif\u001b[39;00m n\u001b[39m>\u001b[39m\u001b[39m=\u001b[39m\u001b[39m0\u001b[39m:\n\u001b[1;32m---> <a href='vscode-notebook-cell:/g%3A/python%20program/python_practice/50.Pow%28x%2Cn%29.ipynb#X11sZmlsZQ%3D%3D?line=13'>14</a>\u001b[0m     \u001b[39mreturn\u001b[39;00m pos(x,n) \n\u001b[0;32m     <a href='vscode-notebook-cell:/g%3A/python%20program/python_practice/50.Pow%28x%2Cn%29.ipynb#X11sZmlsZQ%3D%3D?line=14'>15</a>\u001b[0m \u001b[39melse\u001b[39;00m:\n\u001b[0;32m     <a href='vscode-notebook-cell:/g%3A/python%20program/python_practice/50.Pow%28x%2Cn%29.ipynb#X11sZmlsZQ%3D%3D?line=15'>16</a>\u001b[0m     \u001b[39mreturn\u001b[39;00m \u001b[39m1\u001b[39m\u001b[39m/\u001b[39mpos(x,\u001b[39m-\u001b[39mn)\n",
      "\u001b[1;32mg:\\python program\\python_practice\\50.Pow(x,n).ipynb Cell 6\u001b[0m in \u001b[0;36mSolution.myPow.<locals>.pos\u001b[1;34m(x, n)\u001b[0m\n\u001b[0;32m      <a href='vscode-notebook-cell:/g%3A/python%20program/python_practice/50.Pow%28x%2Cn%29.ipynb#X11sZmlsZQ%3D%3D?line=4'>5</a>\u001b[0m \u001b[39mif\u001b[39;00m n\u001b[39m>\u001b[39m\u001b[39m0\u001b[39m:\n\u001b[0;32m      <a href='vscode-notebook-cell:/g%3A/python%20program/python_practice/50.Pow%28x%2Cn%29.ipynb#X11sZmlsZQ%3D%3D?line=5'>6</a>\u001b[0m     \u001b[39mif\u001b[39;00m n\u001b[39m%\u001b[39m\u001b[39m2\u001b[39m\u001b[39m==\u001b[39m\u001b[39m0\u001b[39m:\n\u001b[1;32m----> <a href='vscode-notebook-cell:/g%3A/python%20program/python_practice/50.Pow%28x%2Cn%29.ipynb#X11sZmlsZQ%3D%3D?line=6'>7</a>\u001b[0m         \u001b[39mreturn\u001b[39;00m \u001b[39mself\u001b[39;49m\u001b[39m.\u001b[39;49mmyPow(x,n\u001b[39m/\u001b[39;49m\u001b[39m2\u001b[39;49m)\u001b[39m*\u001b[39;49m\u001b[39m*\u001b[39;49m\u001b[39m2\u001b[39;49m\n\u001b[0;32m      <a href='vscode-notebook-cell:/g%3A/python%20program/python_practice/50.Pow%28x%2Cn%29.ipynb#X11sZmlsZQ%3D%3D?line=7'>8</a>\u001b[0m     \u001b[39melse\u001b[39;00m:\n\u001b[0;32m      <a href='vscode-notebook-cell:/g%3A/python%20program/python_practice/50.Pow%28x%2Cn%29.ipynb#X11sZmlsZQ%3D%3D?line=8'>9</a>\u001b[0m         \u001b[39m# return (self.myPow(x,int(n/2))**2)*x\u001b[39;00m\n\u001b[0;32m     <a href='vscode-notebook-cell:/g%3A/python%20program/python_practice/50.Pow%28x%2Cn%29.ipynb#X11sZmlsZQ%3D%3D?line=9'>10</a>\u001b[0m         \u001b[39mreturn\u001b[39;00m (\u001b[39mself\u001b[39m\u001b[39m.\u001b[39mmyPow(x,n\u001b[39m/\u001b[39m\u001b[39m/\u001b[39m\u001b[39m2\u001b[39m)\u001b[39m*\u001b[39m\u001b[39m*\u001b[39m\u001b[39m2\u001b[39m)\u001b[39m*\u001b[39mx\n",
      "\u001b[1;31mOverflowError\u001b[0m: (34, 'Result too large')"
     ]
    }
   ],
   "source": [
    "sol=Solution()\n",
    "sol.myPow(2.00000,-2147483648)"
   ]
  },
  {
   "cell_type": "code",
   "execution_count": 18,
   "metadata": {},
   "outputs": [],
   "source": [
    "# 力扣标准解\n",
    "class Solution:\n",
    "    def MyPow(self, x: float, n: int) -> float:\n",
    "        def quickMul(N):\n",
    "            if N == 0:\n",
    "                return 1.0\n",
    "            y = quickMul(N // 2)\n",
    "            return y * y if N % 2 == 0 else y * y * x\n",
    "        \n",
    "        return quickMul(n) if n >= 0 else 1.0 / quickMul(-n)"
   ]
  },
  {
   "cell_type": "code",
   "execution_count": 19,
   "metadata": {},
   "outputs": [
    {
     "data": {
      "text/plain": [
       "0.0"
      ]
     },
     "execution_count": 19,
     "metadata": {},
     "output_type": "execute_result"
    }
   ],
   "source": [
    "sol=Solution()\n",
    "sol.MyPow(2.00000,-2147483648)"
   ]
  },
  {
   "cell_type": "code",
   "execution_count": null,
   "metadata": {},
   "outputs": [],
   "source": []
  }
 ],
 "metadata": {
  "kernelspec": {
   "display_name": "Python 3.9.12 ('base')",
   "language": "python",
   "name": "python3"
  },
  "language_info": {
   "codemirror_mode": {
    "name": "ipython",
    "version": 3
   },
   "file_extension": ".py",
   "mimetype": "text/x-python",
   "name": "python",
   "nbconvert_exporter": "python",
   "pygments_lexer": "ipython3",
   "version": "3.9.12"
  },
  "orig_nbformat": 4,
  "vscode": {
   "interpreter": {
    "hash": "a825f8e8905b8e64233e6384cfa1616d0baa442a3b458fa78e4916d5c671b0d4"
   }
  }
 },
 "nbformat": 4,
 "nbformat_minor": 2
}
