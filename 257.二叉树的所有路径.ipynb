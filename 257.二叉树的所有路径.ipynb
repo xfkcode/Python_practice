{
 "cells": [
  {
   "cell_type": "markdown",
   "metadata": {},
   "source": [
    "给你一个二叉树的根节点 root ，按 任意顺序 ，返回所有从根节点到叶子节点的路径。   \n",
    "\n",
    "叶子节点 是指没有子节点的节点。  \n",
    "\n",
    " \n",
    "示例 1：  \n",
    "输入：root = [1,2,3,null,5]  \n",
    "输出：[\"1->2->5\",\"1->3\"]  \n",
    "\n",
    "示例 2：  \n",
    "输入：root = [1]  \n",
    "输出：[\"1\"]  \n",
    " \n",
    "\n",
    "提示：\n",
    "\n",
    "树中节点的数目在范围 [1, 100] 内  \n",
    "-100 <= Node.val <= 100"
   ]
  },
  {
   "cell_type": "code",
   "execution_count": 19,
   "metadata": {},
   "outputs": [],
   "source": [
    "class TreeNode:\n",
    "    def __init__(self, val=0, left=None, right=None):\n",
    "        self.val = val\n",
    "        self.left = left\n",
    "        self.right = right"
   ]
  },
  {
   "cell_type": "code",
   "execution_count": 20,
   "metadata": {},
   "outputs": [],
   "source": [
    "class Solution:\n",
    "    def binaryTreePaths(self, root):\n",
    "        \"\"\"\n",
    "        :type root: TreeNode\n",
    "        :rtype: List[str]\n",
    "        \"\"\"\n",
    "        def construct_paths(root, path):\n",
    "            if root:\n",
    "                path += str(root.val)\n",
    "                if not root.left and not root.right:  # 当前节点是叶子节点\n",
    "                    paths.append(path)  # 把路径加入到答案中\n",
    "                else:\n",
    "                    path += '->'  # 当前节点不是叶子节点，继续递归遍历\n",
    "                    construct_paths(root.left, path)\n",
    "                    construct_paths(root.right, path)\n",
    "\n",
    "        paths = []\n",
    "        construct_paths(root, '')\n",
    "        return paths"
   ]
  },
  {
   "cell_type": "code",
   "execution_count": 21,
   "metadata": {},
   "outputs": [
    {
     "data": {
      "text/plain": [
       "['1->2->5', '1->3']"
      ]
     },
     "execution_count": 21,
     "metadata": {},
     "output_type": "execute_result"
    }
   ],
   "source": [
    "right2=TreeNode(5)\n",
    "right1=TreeNode(3)\n",
    "left1=TreeNode(2,None,right2)\n",
    "root=TreeNode(1,left1,right1)\n",
    "\n",
    "sol=Solution()\n",
    "sol.binaryTreePaths(root)"
   ]
  },
  {
   "cell_type": "code",
   "execution_count": null,
   "metadata": {},
   "outputs": [],
   "source": []
  }
 ],
 "metadata": {
  "kernelspec": {
   "display_name": "Python 3.9.12 ('base')",
   "language": "python",
   "name": "python3"
  },
  "language_info": {
   "codemirror_mode": {
    "name": "ipython",
    "version": 3
   },
   "file_extension": ".py",
   "mimetype": "text/x-python",
   "name": "python",
   "nbconvert_exporter": "python",
   "pygments_lexer": "ipython3",
   "version": "3.9.12"
  },
  "orig_nbformat": 4,
  "vscode": {
   "interpreter": {
    "hash": "a825f8e8905b8e64233e6384cfa1616d0baa442a3b458fa78e4916d5c671b0d4"
   }
  }
 },
 "nbformat": 4,
 "nbformat_minor": 2
}
