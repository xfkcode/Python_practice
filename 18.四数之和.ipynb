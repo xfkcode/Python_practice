{
 "cells": [
  {
   "cell_type": "markdown",
   "id": "4db75fba",
   "metadata": {},
   "source": [
    "给你一个由 n 个整数组成的数组 nums ，和一个目标值 target 。请你找出并返回满足下述全部条件且不重复的四元组 \n",
    "[nums[a], nums[b], nums[c], nums[d]] （若两个四元组元素一一对应，则认为两个四元组重复）：\n",
    "\n",
    "0 <= a, b, c, d < n\n",
    "a、b、c 和 d 互不相同\n",
    "nums[a] + nums[b] + nums[c] + nums[d] == target\n",
    "你可以按 任意顺序 返回答案 。\n",
    "\n",
    " \n",
    "示例 1：\n",
    "输入：nums = [1,0,-1,0,-2,2], target = 0\n",
    "输出：[[-2,-1,1,2],[-2,0,0,2],[-1,0,0,1]]\n",
    "\n",
    "示例 2：\n",
    "输入：nums = [2,2,2,2,2], target = 8\n",
    "输出：[[2,2,2,2]]\n",
    " \n",
    "\n",
    "提示：\n",
    "\n",
    "1 <= nums.length <= 200\n",
    "-109 <= nums[i] <= 109\n",
    "-109 <= target <= 109"
   ]
  },
  {
   "cell_type": "code",
   "execution_count": 1,
   "id": "0e909150",
   "metadata": {},
   "outputs": [],
   "source": [
    "# 四数之和，力扣标准解\n",
    "class Solution:\n",
    "    def fourSum(self,nums: list[int],target: int) -> list[list[int]]:\n",
    "        quadruplets = list()\n",
    "        if not nums or len(nums) < 4:\n",
    "            return quadruplets\n",
    "        \n",
    "        nums.sort()\n",
    "        length = len(nums)\n",
    "        for i in range(length - 3):\n",
    "            if i > 0 and nums[i] == nums[i - 1]:\n",
    "                continue\n",
    "            if nums[i] + nums[i + 1] + nums[i + 2] + nums[i + 3] > target:\n",
    "                break\n",
    "            if nums[i] + nums[length - 3] + nums[length - 2] + nums[length - 1] < target:\n",
    "                continue\n",
    "            for j in range(i + 1, length - 2):\n",
    "                if j > i + 1 and nums[j] == nums[j - 1]:\n",
    "                    continue\n",
    "                if nums[i] + nums[j] + nums[j + 1] + nums[j + 2] > target:\n",
    "                    break\n",
    "                if nums[i] + nums[j] + nums[length - 2] + nums[length - 1] < target:\n",
    "                    continue\n",
    "                left, right = j + 1, length - 1\n",
    "                while left < right:\n",
    "                    total = nums[i] + nums[j] + nums[left] + nums[right]\n",
    "                    if total == target:\n",
    "                        quadruplets.append([nums[i], nums[j], nums[left], nums[right]])\n",
    "                        while left < right and nums[left] == nums[left + 1]:\n",
    "                            left += 1\n",
    "                        left += 1\n",
    "                        while left < right and nums[right] == nums[right - 1]:\n",
    "                            right -= 1\n",
    "                        right -= 1\n",
    "                    elif total < target:\n",
    "                        left += 1\n",
    "                    else:\n",
    "                        right -= 1\n",
    "        \n",
    "        return quadruplets"
   ]
  },
  {
   "cell_type": "code",
   "execution_count": 2,
   "id": "e8f2c7d7",
   "metadata": {},
   "outputs": [
    {
     "data": {
      "text/plain": [
       "[[-2, -1, 1, 2], [-2, 0, 0, 2], [-1, 0, 0, 1]]"
      ]
     },
     "execution_count": 2,
     "metadata": {},
     "output_type": "execute_result"
    }
   ],
   "source": [
    "sol=Solution()\n",
    "sol.fourSum([1,0,-1,0,-2,2],0)"
   ]
  },
  {
   "cell_type": "code",
   "execution_count": 3,
   "id": "5deb4441",
   "metadata": {},
   "outputs": [
    {
     "data": {
      "text/plain": [
       "[[2, 2, 2, 2]]"
      ]
     },
     "execution_count": 3,
     "metadata": {},
     "output_type": "execute_result"
    }
   ],
   "source": [
    "sol=Solution()\n",
    "sol.fourSum([2,2,2,2,2],8)"
   ]
  },
  {
   "cell_type": "code",
   "execution_count": null,
   "id": "083bc76e",
   "metadata": {},
   "outputs": [],
   "source": []
  }
 ],
 "metadata": {
  "kernelspec": {
   "display_name": "Python 3 (ipykernel)",
   "language": "python",
   "name": "python3"
  },
  "language_info": {
   "codemirror_mode": {
    "name": "ipython",
    "version": 3
   },
   "file_extension": ".py",
   "mimetype": "text/x-python",
   "name": "python",
   "nbconvert_exporter": "python",
   "pygments_lexer": "ipython3",
   "version": "3.9.12"
  }
 },
 "nbformat": 4,
 "nbformat_minor": 5
}
