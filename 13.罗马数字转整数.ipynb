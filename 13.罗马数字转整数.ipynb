{
 "cells": [
  {
   "cell_type": "markdown",
   "id": "4c196752",
   "metadata": {},
   "source": [
    "罗马数字包含以下七种字符: I， V， X， L，C，D 和 M。\n",
    "\n",
    "字符          数值\n",
    "I             1\n",
    "V             5\n",
    "X             10\n",
    "L             50\n",
    "C             100\n",
    "D             500\n",
    "M             1000\n",
    "例如， 罗马数字 2 写做 II ，即为两个并列的 1 。12 写做 XII ，即为 X + II 。 27 写做  XXVII, 即为 XX + V + II 。\n",
    "\n",
    "通常情况下，罗马数字中小的数字在大的数字的右边。但也存在特例，例如 4 不写做 IIII，而是 IV。数字 1 在数字 5 的左边，所表示的数等于大数 5 减小数 1 得到的数值 4 。同样地，数字 9 表示为 IX。这个特殊的规则只适用于以下六种情况：\n",
    "\n",
    "I 可以放在 V (5) 和 X (10) 的左边，来表示 4 和 9。\n",
    "X 可以放在 L (50) 和 C (100) 的左边，来表示 40 和 90。 \n",
    "C 可以放在 D (500) 和 M (1000) 的左边，来表示 400 和 900。\n",
    "给定一个罗马数字，将其转换成整数。\n",
    "\n",
    " \n",
    "示例 1:\n",
    "输入: s = \"III\"\n",
    "输出: 3\n",
    "\n",
    "示例 2:\n",
    "输入: s = \"IV\"\n",
    "输出: 4\n",
    "\n",
    "示例 3:\n",
    "输入: s = \"IX\"\n",
    "输出: 9\n",
    "\n",
    "示例 4:\n",
    "输入: s = \"LVIII\"\n",
    "输出: 58\n",
    "解释: L = 50, V= 5, III = 3.\n",
    "\n",
    "示例 5:\n",
    "输入: s = \"MCMXCIV\"\n",
    "输出: 1994\n",
    "解释: M = 1000, CM = 900, XC = 90, IV = 4.\n",
    " \n",
    "\n",
    "提示：\n",
    "\n",
    "1 <= s.length <= 15\n",
    "s 仅含字符 ('I', 'V', 'X', 'L', 'C', 'D', 'M')\n",
    "题目数据保证 s 是一个有效的罗马数字，且表示整数在范围 [1, 3999] 内\n",
    "题目所给测试用例皆符合罗马数字书写规则，不会出现跨位等情况。\n",
    "IL 和 IM 这样的例子并不符合题目要求，49 应该写作 XLIX，999 应该写作 CMXCIX 。\n",
    "关于罗马数字的详尽书写规则，可以参考 罗马数字 - Mathematics 。"
   ]
  },
  {
   "cell_type": "code",
   "execution_count": 22,
   "id": "164b061e",
   "metadata": {},
   "outputs": [],
   "source": [
    "# 罗马数字转整数\n",
    "class Solution:\n",
    "    def romanToInt(self,s:str) -> int:\n",
    "        dirt={'I':1,'V':5,'X':10,'L':50,'C':100,'D':500,'M':1000}\n",
    "        exception={'IV':-2,'IX':-2,'XL':-20,'XC':-20,'CD':-200,'CM':-200}\n",
    "        num=0\n",
    "        for i in s:\n",
    "            num+=dirt[i]\n",
    "        for j in exception.keys():\n",
    "            if s.__contains__(j):\n",
    "                num+=exception[j]\n",
    "        return num"
   ]
  },
  {
   "cell_type": "code",
   "execution_count": 23,
   "id": "746d2090",
   "metadata": {},
   "outputs": [
    {
     "data": {
      "text/plain": [
       "3"
      ]
     },
     "execution_count": 23,
     "metadata": {},
     "output_type": "execute_result"
    }
   ],
   "source": [
    "sol=Solution()\n",
    "sol.romanToInt('III')"
   ]
  },
  {
   "cell_type": "code",
   "execution_count": 25,
   "id": "02cbdc1f",
   "metadata": {},
   "outputs": [
    {
     "data": {
      "text/plain": [
       "1900"
      ]
     },
     "execution_count": 25,
     "metadata": {},
     "output_type": "execute_result"
    }
   ],
   "source": [
    "sol=Solution()\n",
    "sol.romanToInt('MCM')"
   ]
  },
  {
   "cell_type": "code",
   "execution_count": 26,
   "id": "a2d98700",
   "metadata": {},
   "outputs": [
    {
     "data": {
      "text/plain": [
       "1994"
      ]
     },
     "execution_count": 26,
     "metadata": {},
     "output_type": "execute_result"
    }
   ],
   "source": [
    "sol=Solution()\n",
    "sol.romanToInt('MCMXCIV')"
   ]
  },
  {
   "cell_type": "code",
   "execution_count": null,
   "id": "6794fab3",
   "metadata": {},
   "outputs": [],
   "source": []
  }
 ],
 "metadata": {
  "kernelspec": {
   "display_name": "Python 3.9.12 ('base')",
   "language": "python",
   "name": "python3"
  },
  "language_info": {
   "codemirror_mode": {
    "name": "ipython",
    "version": 3
   },
   "file_extension": ".py",
   "mimetype": "text/x-python",
   "name": "python",
   "nbconvert_exporter": "python",
   "pygments_lexer": "ipython3",
   "version": "3.9.12"
  },
  "vscode": {
   "interpreter": {
    "hash": "a825f8e8905b8e64233e6384cfa1616d0baa442a3b458fa78e4916d5c671b0d4"
   }
  }
 },
 "nbformat": 4,
 "nbformat_minor": 5
}
