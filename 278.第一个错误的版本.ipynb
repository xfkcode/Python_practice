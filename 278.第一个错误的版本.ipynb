{
 "cells": [
  {
   "cell_type": "markdown",
   "metadata": {},
   "source": [
    "你是产品经理，目前正在带领一个团队开发新的产品。  \n",
    "不幸的是，你的产品的最新版本没有通过质量检测。  \n",
    "由于每个版本都是基于之前的版本开发的，所以错误的版本之后的所有版本都是错的。\n",
    "\n",
    "假设你有 n 个版本 [1, 2, ..., n]，你想找出导致之后所有版本出错的第一个错误的版本。\n",
    "\n",
    "你可以通过调用 bool isBadVersion(version) 接口来判断版本号 version 是否在单元测试中出错。  \n",
    "实现一个函数来查找第一个错误的版本。你应该尽量减少对调用 API 的次数。\n",
    "\n",
    " \n",
    "示例 1：  \n",
    "输入：n = 5, bad = 4  \n",
    "输出：4  \n",
    "解释：  \n",
    "调用 isBadVersion(3) -> false   \n",
    "调用 isBadVersion(5) -> true   \n",
    "调用 isBadVersion(4) -> true  \n",
    "所以，4 是第一个错误的版本。  \n",
    "\n",
    "示例 2：  \n",
    "输入：n = 1, bad = 1  \n",
    "输出：1  \n",
    " \n",
    "\n",
    "提示：\n",
    "\n",
    "1 <= bad <= n <= 2^31 - 1"
   ]
  },
  {
   "cell_type": "code",
   "execution_count": 12,
   "metadata": {},
   "outputs": [],
   "source": [
    "# The isBadVersion API is already defined for you.\n",
    "def isBadVersion(version: int) -> bool:\n",
    "    v=[0,0,0,1,1] # 示例1：5,4\n",
    "    return bool(v[version-1])\n",
    "# 二分查找\n",
    "class Solution:\n",
    "    def firstBadVersion(self, n: int) -> int:\n",
    "        left=1;right=n\n",
    "        while left<right:\n",
    "            mid=(left+right)//2\n",
    "            if isBadVersion(mid):\n",
    "                right=mid\n",
    "            else:\n",
    "                left=mid+1\n",
    "        return left\n",
    "        "
   ]
  },
  {
   "cell_type": "code",
   "execution_count": 13,
   "metadata": {},
   "outputs": [
    {
     "data": {
      "text/plain": [
       "4"
      ]
     },
     "execution_count": 13,
     "metadata": {},
     "output_type": "execute_result"
    }
   ],
   "source": [
    "sol=Solution()\n",
    "sol.firstBadVersion(5)"
   ]
  },
  {
   "cell_type": "code",
   "execution_count": null,
   "metadata": {},
   "outputs": [],
   "source": []
  }
 ],
 "metadata": {
  "kernelspec": {
   "display_name": "Python 3.9.12 ('base')",
   "language": "python",
   "name": "python3"
  },
  "language_info": {
   "codemirror_mode": {
    "name": "ipython",
    "version": 3
   },
   "file_extension": ".py",
   "mimetype": "text/x-python",
   "name": "python",
   "nbconvert_exporter": "python",
   "pygments_lexer": "ipython3",
   "version": "3.9.12"
  },
  "orig_nbformat": 4,
  "vscode": {
   "interpreter": {
    "hash": "a825f8e8905b8e64233e6384cfa1616d0baa442a3b458fa78e4916d5c671b0d4"
   }
  }
 },
 "nbformat": 4,
 "nbformat_minor": 2
}
