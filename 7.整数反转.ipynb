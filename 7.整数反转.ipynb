{
 "cells": [
  {
   "cell_type": "markdown",
   "metadata": {},
   "source": [
    "给你一个 32 位的有符号整数 x ，返回将 x 中的数字部分反转后的结果。\n",
    "\n",
    "如果反转后整数超过 32 位的有符号整数的范围 [−231,  231 − 1] ，就返回 0。\n",
    "\n",
    "假设环境不允许存储 64 位整数（有符号或无符号）。\n",
    " \n",
    "\n",
    "示例 1：\n",
    "\n",
    "输入：x = 123\n",
    "输出：321\n",
    "\n",
    "示例 2：\n",
    "\n",
    "输入：x = -123\n",
    "输出：-321\n",
    "\n",
    "示例 3：\n",
    "\n",
    "输入：x = 120\n",
    "输出：21\n",
    "\n",
    "示例 4：\n",
    "\n",
    "输入：x = 0\n",
    "输出：0\n",
    " \n",
    "\n",
    "提示：\n",
    "\n",
    "-2^31 <= x <= 2^31 - 1"
   ]
  },
  {
   "cell_type": "code",
   "execution_count": 2,
   "metadata": {},
   "outputs": [],
   "source": [
    "# 整数反转,int转换为string，反转再转换int\n",
    "def reverse(x):\n",
    "    if x>2**31-1 or x<-2**31:\n",
    "        return 0\n",
    "    convertstr=str(x)\n",
    "    length=len(convertstr)\n",
    "    if x<0:\n",
    "        negtive=1 \n",
    "        s='-'\n",
    "    else:\n",
    "        negtive=0\n",
    "        s=''\n",
    "    for i in range(length-negtive):\n",
    "        s+=convertstr[length-1-i]\n",
    "    y=int(s)\n",
    "    if y>2**31-1 or y<-2**31:\n",
    "        return 0\n",
    "    return y\n"
   ]
  },
  {
   "cell_type": "code",
   "execution_count": 3,
   "metadata": {},
   "outputs": [
    {
     "name": "stdout",
     "output_type": "stream",
     "text": [
      "875\n"
     ]
    }
   ],
   "source": [
    "y=reverse(578)\n",
    "print(y)"
   ]
  },
  {
   "cell_type": "code",
   "execution_count": 4,
   "metadata": {},
   "outputs": [
    {
     "name": "stdout",
     "output_type": "stream",
     "text": [
      "-875\n"
     ]
    }
   ],
   "source": [
    "y=reverse(-578)\n",
    "print(y)"
   ]
  },
  {
   "cell_type": "code",
   "execution_count": 20,
   "metadata": {},
   "outputs": [],
   "source": [
    "# 整数反转，数字运算算法\n",
    "def Reverse(x):\n",
    "    if x<0:\n",
    "        x=-x\n",
    "        y=positive_reverse(x)\n",
    "        return -y\n",
    "    else:\n",
    "        y=positive_reverse(x)\n",
    "        return y\n",
    "def positive_reverse(x):\n",
    "    list1=[]\n",
    "    first=x\n",
    "    while first>=1:\n",
    "        last=first%10\n",
    "        first=first//10\n",
    "        list1.append(last)\n",
    "#         print(list1)\n",
    "    length=len(list1)\n",
    "    y=0\n",
    "    for j in range(length):\n",
    "         y+=list1[length-1-j]*10**j\n",
    "    return y"
   ]
  },
  {
   "cell_type": "code",
   "execution_count": 21,
   "metadata": {},
   "outputs": [
    {
     "name": "stdout",
     "output_type": "stream",
     "text": [
      "[8]\n",
      "[8, 7]\n",
      "[8, 7, 5]\n",
      "875\n"
     ]
    }
   ],
   "source": [
    "y=positive_reverse(578)\n",
    "print(y)"
   ]
  },
  {
   "cell_type": "code",
   "execution_count": 22,
   "metadata": {},
   "outputs": [
    {
     "name": "stdout",
     "output_type": "stream",
     "text": [
      "[8]\n",
      "[8, 7]\n",
      "[8, 7, 5]\n",
      "875\n"
     ]
    }
   ],
   "source": [
    "y=Reverse(578)\n",
    "print(y)"
   ]
  },
  {
   "cell_type": "code",
   "execution_count": 23,
   "metadata": {},
   "outputs": [
    {
     "name": "stdout",
     "output_type": "stream",
     "text": [
      "[8]\n",
      "[8, 7]\n",
      "[8, 7, 5]\n",
      "-875\n"
     ]
    }
   ],
   "source": [
    "y=Reverse(-578)\n",
    "print(y)"
   ]
  },
  {
   "cell_type": "code",
   "execution_count": 1,
   "metadata": {},
   "outputs": [
    {
     "name": "stdout",
     "output_type": "stream",
     "text": [
      "2147483647\n"
     ]
    }
   ],
   "source": [
    "print(2**31-1)"
   ]
  },
  {
   "cell_type": "code",
   "execution_count": 5,
   "metadata": {},
   "outputs": [],
   "source": [
    "class Solution:\n",
    "    def reverse(self, x: int) -> int:\n",
    "        if x>2**31-1 or x<-2**31:\n",
    "            return 0\n",
    "        convertstr=str(x)\n",
    "        length=len(convertstr)\n",
    "        if x<0:\n",
    "            negtive=1 \n",
    "            s='-'\n",
    "        else:\n",
    "            negtive=0\n",
    "            s=''\n",
    "        for i in range(length-negtive):\n",
    "            s+=convertstr[length-1-i]\n",
    "        y=int(s)\n",
    "        if y>2**31-1 or y<-2**31:\n",
    "            return 0\n",
    "        return y"
   ]
  },
  {
   "cell_type": "code",
   "execution_count": 6,
   "metadata": {},
   "outputs": [
    {
     "data": {
      "text/plain": [
       "875"
      ]
     },
     "execution_count": 6,
     "metadata": {},
     "output_type": "execute_result"
    }
   ],
   "source": [
    "sol=Solution()\n",
    "sol.reverse(578)"
   ]
  },
  {
   "cell_type": "code",
   "execution_count": null,
   "metadata": {},
   "outputs": [],
   "source": []
  }
 ],
 "metadata": {
  "kernelspec": {
   "display_name": "Python 3.9.12 ('base')",
   "language": "python",
   "name": "python3"
  },
  "language_info": {
   "codemirror_mode": {
    "name": "ipython",
    "version": 3
   },
   "file_extension": ".py",
   "mimetype": "text/x-python",
   "name": "python",
   "nbconvert_exporter": "python",
   "pygments_lexer": "ipython3",
   "version": "3.9.12"
  },
  "vscode": {
   "interpreter": {
    "hash": "a825f8e8905b8e64233e6384cfa1616d0baa442a3b458fa78e4916d5c671b0d4"
   }
  }
 },
 "nbformat": 4,
 "nbformat_minor": 2
}
