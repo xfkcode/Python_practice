{
 "cells": [
  {
   "cell_type": "markdown",
   "id": "bb63b999",
   "metadata": {},
   "source": [
    "罗马数字包含以下七种字符： I， V， X， L，C，D 和 M。\n",
    "\n",
    "字符          数值\n",
    "I             1\n",
    "V             5\n",
    "X             10\n",
    "L             50\n",
    "C             100\n",
    "D             500\n",
    "M             1000\n",
    "例如， 罗马数字 2 写做 II ，即为两个并列的 1。12 写做 XII ，即为 X + II 。 27 写做  XXVII, 即为 XX + V + II 。\n",
    "\n",
    "通常情况下，罗马数字中小的数字在大的数字的右边。但也存在特例，例如 4 不写做 IIII，而是 IV。数字 1 在数字 5 的左边，所表示的数等于大数 5 减小数 1 得到的数值 4 。同样地，数字 9 表示为 IX。这个特殊的规则只适用于以下六种情况：\n",
    "\n",
    "I 可以放在 V (5) 和 X (10) 的左边，来表示 4 和 9。\n",
    "X 可以放在 L (50) 和 C (100) 的左边，来表示 40 和 90。 \n",
    "C 可以放在 D (500) 和 M (1000) 的左边，来表示 400 和 900。\n",
    "给你一个整数，将其转为罗马数字。\n",
    "\n",
    " \n",
    "示例 1:\n",
    "\n",
    "输入: num = 3\n",
    "输出: \"III\"\n",
    "\n",
    "示例 2:\n",
    "\n",
    "输入: num = 4\n",
    "输出: \"IV\"\n",
    "\n",
    "示例 3:\n",
    "\n",
    "输入: num = 9\n",
    "输出: \"IX\"\n",
    "\n",
    "示例 4:\n",
    "\n",
    "输入: num = 58\n",
    "输出: \"LVIII\"\n",
    "解释: L = 50, V = 5, III = 3.\n",
    "\n",
    "示例 5:\n",
    "\n",
    "输入: num = 1994\n",
    "输出: \"MCMXCIV\"\n",
    "解释: M = 1000, CM = 900, XC = 90, IV = 4.\n",
    " \n",
    "\n",
    "提示：\n",
    "\n",
    "1 <= num <= 3999"
   ]
  },
  {
   "cell_type": "code",
   "execution_count": 4,
   "id": "01ec8173",
   "metadata": {},
   "outputs": [],
   "source": [
    "# 整数转罗马数字,字典法\n",
    "class Solution:\n",
    "    def intToRoman(self,num:int) -> str:\n",
    "        dirt={0:'',\n",
    "              1:'I',2:'II',3:'III',4:'IV',5:'V',6:'VI',7:'VII',8:'VIII',9:'IX',\n",
    "              10:'X',20:'XX',30:'XXX',40:'XL',50:'L',60:'LX',70:'LXX',80:'LXXX',90:'XC',\n",
    "              100:'C',200:'CC',300:'CCC',400:'CD',500:'D',600:'DC',700:'DCC',800:'DCCC',900:'CM',\n",
    "              1000:'M',2000:'MM',3000:'MMM'}\n",
    "        num_str=str(num)\n",
    "        reverse=num_str[::-1]\n",
    "        strList = list(reverse)\n",
    "        a=''\n",
    "        roman=''\n",
    "        for i,element in enumerate(strList):\n",
    "            a=dirt[int(element)*10**i]\n",
    "            roman=a+roman\n",
    "            # 向前加字符串\n",
    "        return roman"
   ]
  },
  {
   "cell_type": "code",
   "execution_count": 5,
   "id": "9cb766f0",
   "metadata": {},
   "outputs": [
    {
     "data": {
      "text/plain": [
       "'III'"
      ]
     },
     "execution_count": 5,
     "metadata": {},
     "output_type": "execute_result"
    }
   ],
   "source": [
    "sol=Solution()\n",
    "sol.intToRoman(3)"
   ]
  },
  {
   "cell_type": "code",
   "execution_count": 6,
   "id": "62a52776",
   "metadata": {},
   "outputs": [
    {
     "data": {
      "text/plain": [
       "'LVIII'"
      ]
     },
     "execution_count": 6,
     "metadata": {},
     "output_type": "execute_result"
    }
   ],
   "source": [
    "sol=Solution()\n",
    "sol.intToRoman(58)"
   ]
  },
  {
   "cell_type": "code",
   "execution_count": 7,
   "id": "98b07586",
   "metadata": {},
   "outputs": [
    {
     "data": {
      "text/plain": [
       "'MCMXCIV'"
      ]
     },
     "execution_count": 7,
     "metadata": {},
     "output_type": "execute_result"
    }
   ],
   "source": [
    "sol=Solution()\n",
    "sol.intToRoman(1994)"
   ]
  },
  {
   "cell_type": "code",
   "execution_count": 8,
   "id": "0b848387",
   "metadata": {},
   "outputs": [
    {
     "data": {
      "text/plain": [
       "'X'"
      ]
     },
     "execution_count": 8,
     "metadata": {},
     "output_type": "execute_result"
    }
   ],
   "source": [
    "sol=Solution()\n",
    "sol.intToRoman(10)"
   ]
  },
  {
   "cell_type": "code",
   "execution_count": null,
   "id": "b1fbacbf",
   "metadata": {},
   "outputs": [],
   "source": []
  }
 ],
 "metadata": {
  "kernelspec": {
   "display_name": "Python 3.9.12 ('base')",
   "language": "python",
   "name": "python3"
  },
  "language_info": {
   "codemirror_mode": {
    "name": "ipython",
    "version": 3
   },
   "file_extension": ".py",
   "mimetype": "text/x-python",
   "name": "python",
   "nbconvert_exporter": "python",
   "pygments_lexer": "ipython3",
   "version": "3.9.12"
  },
  "vscode": {
   "interpreter": {
    "hash": "a825f8e8905b8e64233e6384cfa1616d0baa442a3b458fa78e4916d5c671b0d4"
   }
  }
 },
 "nbformat": 4,
 "nbformat_minor": 5
}
