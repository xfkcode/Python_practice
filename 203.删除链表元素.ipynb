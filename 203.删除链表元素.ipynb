{
 "cells": [
  {
   "cell_type": "markdown",
   "metadata": {},
   "source": [
    "给你一个链表的头节点 head 和一个整数 val ，请你删除链表中所有满足 Node.val == val 的节点，并返回 新的头节点 。\n",
    " \n",
    "\n",
    "示例 1：\n",
    "输入：head = [1,2,6,3,4,5,6], val = 6\n",
    "输出：[1,2,3,4,5]\n",
    "\n",
    "示例 2：\n",
    "输入：head = [], val = 1\n",
    "输出：[]\n",
    "\n",
    "示例 3：\n",
    "输入：head = [7,7,7,7], val = 7\n",
    "输出：[]\n",
    " \n",
    "\n",
    "提示：\n",
    "\n",
    "列表中的节点数目在范围 [0, 104] 内\n",
    "1 <= Node.val <= 50\n",
    "0 <= val <= 50"
   ]
  },
  {
   "cell_type": "code",
   "execution_count": 10,
   "metadata": {},
   "outputs": [],
   "source": [
    "class ListNode:\n",
    "    def __init__(self, val=0, next=None):\n",
    "        self.val = val\n",
    "        self.next = next\n",
    "class Solution:\n",
    "    def removeElements(self, head: ListNode, val: int) -> ListNode:\n",
    "        if head==None:\n",
    "            return head\n",
    "        head.next=self.removeElements(head.next,val)\n",
    "        return head.next if head.val==val else head \n",
    "                 \n",
    "            "
   ]
  },
  {
   "cell_type": "code",
   "execution_count": 11,
   "metadata": {},
   "outputs": [
    {
     "name": "stdout",
     "output_type": "stream",
     "text": [
      "[1]\n"
     ]
    }
   ],
   "source": [
    "# 链表建立\n",
    "node3=ListNode(7)\n",
    "node2=ListNode(7,node3)\n",
    "node1=ListNode(7,node2)\n",
    "head=ListNode(1,node1)\n",
    "\n",
    "sol=Solution()\n",
    "sol.removeElements(head,7)\n",
    "# 可视化\n",
    "ans=[]\n",
    "while head:\n",
    "    ans.append(head.val)\n",
    "    head=head.next\n",
    "print(ans)\n"
   ]
  },
  {
   "cell_type": "code",
   "execution_count": 18,
   "metadata": {},
   "outputs": [
    {
     "name": "stdout",
     "output_type": "stream",
     "text": [
      "[7, 7, 7]\n"
     ]
    }
   ],
   "source": [
    "# 链表建立\n",
    "node3=ListNode(7)\n",
    "node2=ListNode(1,node3)\n",
    "node1=ListNode(7,node2)\n",
    "head=ListNode(7,node1)\n",
    "\n",
    "sol=Solution()\n",
    "sol.removeElements(head,1)\n",
    "# 可视化\n",
    "ans=[]\n",
    "while head:\n",
    "    ans.append(head.val)\n",
    "    head=head.next\n",
    "print(ans)\n"
   ]
  },
  {
   "cell_type": "code",
   "execution_count": null,
   "metadata": {},
   "outputs": [],
   "source": []
  }
 ],
 "metadata": {
  "kernelspec": {
   "display_name": "Python 3.9.12 ('base')",
   "language": "python",
   "name": "python3"
  },
  "language_info": {
   "codemirror_mode": {
    "name": "ipython",
    "version": 3
   },
   "file_extension": ".py",
   "mimetype": "text/x-python",
   "name": "python",
   "nbconvert_exporter": "python",
   "pygments_lexer": "ipython3",
   "version": "3.9.12"
  },
  "orig_nbformat": 4,
  "vscode": {
   "interpreter": {
    "hash": "a825f8e8905b8e64233e6384cfa1616d0baa442a3b458fa78e4916d5c671b0d4"
   }
  }
 },
 "nbformat": 4,
 "nbformat_minor": 2
}
