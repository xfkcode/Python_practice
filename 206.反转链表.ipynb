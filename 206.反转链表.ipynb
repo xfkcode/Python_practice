{
 "cells": [
  {
   "cell_type": "markdown",
   "metadata": {},
   "source": [
    "给你单链表的头节点 head ，请你反转链表，并返回反转后的链表。\n",
    " \n",
    "\n",
    "示例 1：\n",
    "输入：head = [1,2,3,4,5]\n",
    "输出：[5,4,3,2,1]\n",
    "\n",
    "示例 2：\n",
    "输入：head = [1,2]\n",
    "输出：[2,1]\n",
    "\n",
    "示例 3：\n",
    "输入：head = []\n",
    "输出：[]\n",
    " \n",
    "\n",
    "提示：\n",
    "\n",
    "链表中节点的数目范围是 [0, 5000]\n",
    "-5000 <= Node.val <= 5000\n",
    " \n",
    "\n",
    "进阶：链表可以选用迭代或递归方式完成反转。你能否用两种方法解决这道题？"
   ]
  },
  {
   "cell_type": "code",
   "execution_count": 14,
   "metadata": {},
   "outputs": [],
   "source": [
    "\n",
    "class ListNode:\n",
    "    def __init__(self, val=0, next=None):\n",
    "        self.val = val\n",
    "        self.next = next\n",
    "class Solution:\n",
    "    def reverseList(self, head: ListNode) -> ListNode:\n",
    "        if head==None:\n",
    "            return head\n",
    "        if head.next==None:\n",
    "            return head\n",
    "        tmp=head\n",
    "        node=head.next\n",
    "        head.next=None\n",
    "        while node:\n",
    "            next=node.next\n",
    "            node.next=tmp\n",
    "            tmp=node\n",
    "            if next==None:\n",
    "                return node\n",
    "            node=next\n",
    "            "
   ]
  },
  {
   "cell_type": "code",
   "execution_count": 19,
   "metadata": {},
   "outputs": [
    {
     "name": "stdout",
     "output_type": "stream",
     "text": [
      "[5, 4, 3, 2, 1]\n"
     ]
    }
   ],
   "source": [
    "node4=ListNode(5)\n",
    "node3=ListNode(4,node4)\n",
    "node2=ListNode(3,node3)\n",
    "node1=ListNode(2,node2)\n",
    "head=ListNode(1,node1)\n",
    "sol=Solution()\n",
    "headre=sol.reverseList(head)\n",
    "\n",
    "# 可视化\n",
    "ans=[]\n",
    "while headre:\n",
    "    ans.append(headre.val)\n",
    "    headre=headre.next \n",
    "print(ans)"
   ]
  },
  {
   "cell_type": "code",
   "execution_count": 10,
   "metadata": {},
   "outputs": [],
   "source": [
    "sol=Solution()\n",
    "sol.reverseList(None)"
   ]
  },
  {
   "cell_type": "code",
   "execution_count": 20,
   "metadata": {},
   "outputs": [
    {
     "name": "stdout",
     "output_type": "stream",
     "text": [
      "[2, 1]\n"
     ]
    }
   ],
   "source": [
    "node1=ListNode(2)\n",
    "head=ListNode(1,node1)\n",
    "sol=Solution()\n",
    "headre=sol.reverseList(head)\n",
    "\n",
    "# 可视化\n",
    "ans=[]\n",
    "while headre:\n",
    "    ans.append(headre.val)\n",
    "    headre=headre.next \n",
    "print(ans)"
   ]
  },
  {
   "cell_type": "code",
   "execution_count": null,
   "metadata": {},
   "outputs": [],
   "source": []
  }
 ],
 "metadata": {
  "kernelspec": {
   "display_name": "Python 3.9.12 ('base')",
   "language": "python",
   "name": "python3"
  },
  "language_info": {
   "codemirror_mode": {
    "name": "ipython",
    "version": 3
   },
   "file_extension": ".py",
   "mimetype": "text/x-python",
   "name": "python",
   "nbconvert_exporter": "python",
   "pygments_lexer": "ipython3",
   "version": "3.9.12"
  },
  "orig_nbformat": 4,
  "vscode": {
   "interpreter": {
    "hash": "a825f8e8905b8e64233e6384cfa1616d0baa442a3b458fa78e4916d5c671b0d4"
   }
  }
 },
 "nbformat": 4,
 "nbformat_minor": 2
}
