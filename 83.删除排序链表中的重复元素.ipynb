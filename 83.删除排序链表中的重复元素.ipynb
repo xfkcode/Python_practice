{
 "cells": [
  {
   "cell_type": "markdown",
   "metadata": {},
   "source": [
    "给定一个已排序的链表的头 head ， 删除所有重复的元素，使每个元素只出现一次 。\n",
    "返回 已排序的链表 。\n",
    "\n",
    " \n",
    "示例 1：\n",
    "输入：head = [1,1,2]\n",
    "输出：[1,2]\n",
    "\n",
    "示例 2：\n",
    "输入：head = [1,1,2,3,3]\n",
    "输出：[1,2,3]\n",
    " \n",
    "\n",
    "提示：\n",
    "\n",
    "链表中节点数目在范围 [0, 300] 内\n",
    "-100 <= Node.val <= 100\n",
    "题目数据保证链表已经按升序 排列"
   ]
  },
  {
   "cell_type": "code",
   "execution_count": 10,
   "metadata": {},
   "outputs": [],
   "source": [
    "class ListNode:\n",
    "    def __init__(self, val=0, next=None):\n",
    "        self.val = val\n",
    "        self.next = next\n",
    "        \n",
    "class Solution:\n",
    "    def deleteDuplicates(self, head: ListNode) -> ListNode:\n",
    "        if not head:\n",
    "            return head\n",
    "        cur = head\n",
    "        while cur.next:\n",
    "            if cur.val == cur.next.val:\n",
    "                cur.next = cur.next.next\n",
    "            else:\n",
    "                cur = cur.next\n",
    "        return head"
   ]
  },
  {
   "cell_type": "code",
   "execution_count": 19,
   "metadata": {},
   "outputs": [
    {
     "name": "stdout",
     "output_type": "stream",
     "text": [
      "1\n",
      "2\n"
     ]
    }
   ],
   "source": [
    "# [1,1,2] -> [1,2]\n",
    "# 建立链表\n",
    "node2=ListNode(2)\n",
    "node1=ListNode(1,node2)\n",
    "head=ListNode(1,node1)\n",
    "# 删除重复节点\n",
    "sol=Solution()\n",
    "sol.deleteDuplicates(head)\n",
    "# 打印结果\n",
    "cur=head\n",
    "while cur.val:\n",
    "    print(cur.val)\n",
    "    cur=cur.next\n",
    "    if cur.next==None:\n",
    "        print(cur.val)\n",
    "        break"
   ]
  },
  {
   "cell_type": "code",
   "execution_count": null,
   "metadata": {},
   "outputs": [],
   "source": [
    "# 力扣解题前缀代码：\n",
    "# Definition for singly-linked list.\n",
    "import typing \n",
    "class ListNode:\n",
    "    def __init__(self, val=0, next=None):\n",
    "        self.val = val\n",
    "        self.next = next\n",
    "class Solution:\n",
    "    def deleteDuplicates(self, head: Optional[ListNode]) -> Optional[ListNode]:\n",
    "        pass"
   ]
  }
 ],
 "metadata": {
  "kernelspec": {
   "display_name": "Python 3.9.12 ('base')",
   "language": "python",
   "name": "python3"
  },
  "language_info": {
   "codemirror_mode": {
    "name": "ipython",
    "version": 3
   },
   "file_extension": ".py",
   "mimetype": "text/x-python",
   "name": "python",
   "nbconvert_exporter": "python",
   "pygments_lexer": "ipython3",
   "version": "3.9.12"
  },
  "orig_nbformat": 4,
  "vscode": {
   "interpreter": {
    "hash": "a825f8e8905b8e64233e6384cfa1616d0baa442a3b458fa78e4916d5c671b0d4"
   }
  }
 },
 "nbformat": 4,
 "nbformat_minor": 2
}
