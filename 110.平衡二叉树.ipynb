{
 "cells": [
  {
   "cell_type": "markdown",
   "metadata": {},
   "source": [
    "给定一个二叉树，判断它是否是高度平衡的二叉树。\n",
    "\n",
    "本题中，一棵高度平衡二叉树定义为：\n",
    "\n",
    "一个二叉树每个节点 的左右两个子树的高度差的绝对值不超过 1 。\n",
    "\n",
    " \n",
    "示例 1：\n",
    "输入：root = [3,9,20,null,null,15,7]\n",
    "输出：true\n",
    "\n",
    "示例 2：\n",
    "输入：root = [1,2,2,3,3,null,null,4,4]\n",
    "输出：false\n",
    "\n",
    "示例 3：\n",
    "输入：root = []\n",
    "输出：true\n",
    " \n",
    "\n",
    "提示：\n",
    "\n",
    "树中的节点数在范围 [0, 5000] 内\n",
    "-10^4 <= Node.val <= 10^4"
   ]
  },
  {
   "cell_type": "code",
   "execution_count": 1,
   "metadata": {},
   "outputs": [],
   "source": [
    "# 递归\n",
    "class TreeNode:\n",
    "    def __init__(self, val=0, left=None, right=None):\n",
    "        self.val = val\n",
    "        self.left = left\n",
    "        self.right = right\n",
    "        \n",
    "class Solution:\n",
    "    def isBalanced(self, root: TreeNode) -> bool:\n",
    "        \n",
    "        def Hight(root):\n",
    "            if not root:\n",
    "                return 0\n",
    "            return max(Hight(root.left),Hight(root.right))+1    \n",
    "        \n",
    "        if not root:\n",
    "            return True\n",
    "        if abs(Hight(root.left)-Hight(root.right))<=1:\n",
    "            if self.isBalanced(root.left):\n",
    "                if self.isBalanced(root.right):\n",
    "                    return True\n",
    "        return False\n",
    "    "
   ]
  },
  {
   "cell_type": "code",
   "execution_count": 2,
   "metadata": {},
   "outputs": [
    {
     "data": {
      "text/plain": [
       "True"
      ]
     },
     "execution_count": 2,
     "metadata": {},
     "output_type": "execute_result"
    }
   ],
   "source": [
    "# Tree1:[3,9,20,null,null,15,7]\n",
    "right22=TreeNode(7)\n",
    "left22=TreeNode(15)\n",
    "right1=TreeNode(20,left22,right22)\n",
    "left1=TreeNode(9)\n",
    "root=TreeNode(3,left1,right1)\n",
    "\n",
    "sol=Solution()\n",
    "sol.isBalanced(root)"
   ]
  },
  {
   "cell_type": "code",
   "execution_count": 3,
   "metadata": {},
   "outputs": [
    {
     "data": {
      "text/plain": [
       "False"
      ]
     },
     "execution_count": 3,
     "metadata": {},
     "output_type": "execute_result"
    }
   ],
   "source": [
    "# Tree1:[1,2,2,3,3,null,null,4,4]\n",
    "right32=TreeNode(4)\n",
    "left31=TreeNode(4)\n",
    "right22=TreeNode(3)\n",
    "left21=TreeNode(3,left31,right32)\n",
    "right12=TreeNode(2)\n",
    "left11=TreeNode(2,left21,right22)\n",
    "root=TreeNode(1,left11,right12)\n",
    "\n",
    "sol=Solution()\n",
    "sol.isBalanced(root)"
   ]
  },
  {
   "cell_type": "code",
   "execution_count": null,
   "metadata": {},
   "outputs": [],
   "source": []
  }
 ],
 "metadata": {
  "kernelspec": {
   "display_name": "Python 3.9.12 ('base')",
   "language": "python",
   "name": "python3"
  },
  "language_info": {
   "codemirror_mode": {
    "name": "ipython",
    "version": 3
   },
   "file_extension": ".py",
   "mimetype": "text/x-python",
   "name": "python",
   "nbconvert_exporter": "python",
   "pygments_lexer": "ipython3",
   "version": "3.9.12"
  },
  "orig_nbformat": 4,
  "vscode": {
   "interpreter": {
    "hash": "a825f8e8905b8e64233e6384cfa1616d0baa442a3b458fa78e4916d5c671b0d4"
   }
  }
 },
 "nbformat": 4,
 "nbformat_minor": 2
}
