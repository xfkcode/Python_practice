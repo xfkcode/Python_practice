{
 "cells": [
  {
   "cell_type": "markdown",
   "metadata": {},
   "source": [
    "给你二叉树的根节点 root ，返回它节点值的 前序 遍历。\n",
    "\n",
    "\n",
    "示例 1：\n",
    "输入：root = [1,null,2,3]\n",
    "输出：[1,2,3]\n",
    "\n",
    "示例 2：\n",
    "输入：root = []\n",
    "输出：[]\n",
    "\n",
    "示例 3：\n",
    "输入：root = [1]\n",
    "输出：[1]\n",
    "\n",
    "示例 4：\n",
    "输入：root = [1,2]\n",
    "输出：[1,2]\n",
    "\n",
    "示例 5：\n",
    "输入：root = [1,null,2]\n",
    "输出：[1,2]\n",
    " \n",
    "\n",
    "提示：\n",
    "\n",
    "树中节点数目在范围 [0, 100] 内\n",
    "-100 <= Node.val <= 100\n"
   ]
  },
  {
   "cell_type": "code",
   "execution_count": 34,
   "metadata": {},
   "outputs": [],
   "source": [
    "\n",
    "class TreeNode:\n",
    "    def __init__(self, val=0, left=None, right=None):\n",
    "        self.val = val\n",
    "        self.left = left\n",
    "        self.right = right\n",
    "# 根节点->->左子树->->右子树\n",
    "class Solution:\n",
    "    def preorderTraversal(self, root: TreeNode) -> list[int]:\n",
    "        def trevers(node,ans):\n",
    "            if node==None:\n",
    "                return ans\n",
    "            else:\n",
    "                ans.append(node.val)\n",
    "                if node.left!=None:\n",
    "                    ans=trevers(node.left,ans)\n",
    "                if node.right!=None:    \n",
    "                    ans=trevers(node.right,ans)\n",
    "                return ans\n",
    "        ans=[]\n",
    "        return trevers(root,ans)\n",
    "         "
   ]
  },
  {
   "cell_type": "code",
   "execution_count": 35,
   "metadata": {},
   "outputs": [
    {
     "data": {
      "text/plain": [
       "[1, 2, 3]"
      ]
     },
     "execution_count": 35,
     "metadata": {},
     "output_type": "execute_result"
    }
   ],
   "source": [
    "node3=TreeNode(3)\n",
    "node2=TreeNode(2,node3)\n",
    "root=TreeNode(1,None,node2)\n",
    "\n",
    "sol=Solution()\n",
    "sol.preorderTraversal(root)"
   ]
  },
  {
   "cell_type": "code",
   "execution_count": null,
   "metadata": {},
   "outputs": [],
   "source": []
  }
 ],
 "metadata": {
  "kernelspec": {
   "display_name": "Python 3.9.12 ('base')",
   "language": "python",
   "name": "python3"
  },
  "language_info": {
   "codemirror_mode": {
    "name": "ipython",
    "version": 3
   },
   "file_extension": ".py",
   "mimetype": "text/x-python",
   "name": "python",
   "nbconvert_exporter": "python",
   "pygments_lexer": "ipython3",
   "version": "3.9.12"
  },
  "orig_nbformat": 4,
  "vscode": {
   "interpreter": {
    "hash": "a825f8e8905b8e64233e6384cfa1616d0baa442a3b458fa78e4916d5c671b0d4"
   }
  }
 },
 "nbformat": 4,
 "nbformat_minor": 2
}
