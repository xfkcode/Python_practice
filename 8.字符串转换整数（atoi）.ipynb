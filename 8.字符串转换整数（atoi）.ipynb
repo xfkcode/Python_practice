{
 "cells": [
  {
   "cell_type": "markdown",
   "metadata": {},
   "source": [
    "请你来实现一个 myAtoi(string s) 函数，使其能将字符串转换成一个 32 位有符号整数（类似 C/C++ 中的 atoi 函数）。\n",
    "\n",
    "函数 myAtoi(string s) 的算法如下：\n",
    "\n",
    "读入字符串并丢弃无用的前导空格\n",
    "检查下一个字符（假设还未到字符末尾）为正还是负号，读取该字符（如果有）。 确定最终结果是负数还是正数。 如果两者都不存在，则假定结果为正。\n",
    "读入下一个字符，直到到达下一个非数字字符或到达输入的结尾。字符串的其余部分将被忽略。\n",
    "将前面步骤读入的这些数字转换为整数（即，\"123\" -> 123， \"0032\" -> 32）。如果没有读入数字，则整数为 0 。必要时更改符号（从步骤 2 开始）。\n",
    "如果整数数超过 32 位有符号整数范围 [−231,  231 − 1] ，需要截断这个整数，使其保持在这个范围内。具体来说，小于 −231 的整数应该被固定为 −231 ，大于 231 − 1 的整数应该被固定为 231 − 1 。\n",
    "返回整数作为最终结果。\n",
    "注意：\n",
    "\n",
    "本题中的空白字符只包括空格字符 ' ' 。\n",
    "除前导空格或数字后的其余字符串外，请勿忽略 任何其他字符。\n",
    " \n",
    "\n",
    "示例 1：\n",
    "\n",
    "输入：s = \"42\"\n",
    "输出：42\n",
    "解释：加粗的字符串为已经读入的字符，插入符号是当前读取的字符。\n",
    "第 1 步：\"42\"（当前没有读入字符，因为没有前导空格）\n",
    "         ^\n",
    "第 2 步：\"42\"（当前没有读入字符，因为这里不存在 '-' 或者 '+'）\n",
    "         ^\n",
    "第 3 步：\"42\"（读入 \"42\"）\n",
    "           ^\n",
    "解析得到整数 42 。\n",
    "由于 \"42\" 在范围 [-231, 231 - 1] 内，最终结果为 42 。\n",
    "示例 2：\n",
    "\n",
    "输入：s = \"   -42\"\n",
    "输出：-42\n",
    "解释：\n",
    "第 1 步：\"   -42\"（读入前导空格，但忽视掉）\n",
    "            ^\n",
    "第 2 步：\"   -42\"（读入 '-' 字符，所以结果应该是负数）\n",
    "             ^\n",
    "第 3 步：\"   -42\"（读入 \"42\"）\n",
    "               ^\n",
    "解析得到整数 -42 。\n",
    "由于 \"-42\" 在范围 [-231, 231 - 1] 内，最终结果为 -42 。\n",
    "示例 3：\n",
    "\n",
    "输入：s = \"4193 with words\"\n",
    "输出：4193\n",
    "解释：\n",
    "第 1 步：\"4193 with words\"（当前没有读入字符，因为没有前导空格）\n",
    "         ^\n",
    "第 2 步：\"4193 with words\"（当前没有读入字符，因为这里不存在 '-' 或者 '+'）\n",
    "         ^\n",
    "第 3 步：\"4193 with words\"（读入 \"4193\"；由于下一个字符不是一个数字，所以读入停止）\n",
    "             ^\n",
    "解析得到整数 4193 。\n",
    "由于 \"4193\" 在范围 [-231, 231 - 1] 内，最终结果为 4193 。\n",
    " \n",
    "\n",
    "提示：\n",
    "\n",
    "0 <= s.length <= 200\n",
    "s 由英文字母（大写和小写）、数字（0-9）、' '、'+'、'-' 和 '.' 组成"
   ]
  },
  {
   "cell_type": "code",
   "execution_count": 28,
   "metadata": {},
   "outputs": [],
   "source": [
    "# 字符串转换整数（atoi），状态转移\n",
    "INT_MAX=2**31-1\n",
    "INT_MIN=-2**31\n",
    "\n",
    "class Automaton:\n",
    "    def __init__(self):\n",
    "        self.state='start'\n",
    "        self.sign=1\n",
    "        self.ans=0\n",
    "        self.table={\n",
    "            'start':['start','signed','in_number','end'],\n",
    "            'signed':['end','end','in_number','end'],\n",
    "            'in_number':['end','end','in_number','end'],\n",
    "            'end':['end','end','end','end']\n",
    "        }\n",
    "    \n",
    "    def get_col(self,c):\n",
    "        if c.isspace():\n",
    "            return 0\n",
    "        if c=='+' or c=='-':\n",
    "            return 1\n",
    "        if c.isdigit():\n",
    "            return 2\n",
    "        return 3\n",
    "    \n",
    "    def get(self,c):\n",
    "        self.state=self.table[self.state][self.get_col(c)]\n",
    "        if self.state=='in_number':\n",
    "            self.ans=self.ans*10+int(c)\n",
    "            self.ans=min(self.ans,INT_MAX) if self.sign==1 else min(self.ans,-INT_MIN)\n",
    "        elif self.state=='signed':\n",
    "            self.sign=1 if c=='+' else -1\n",
    "\n",
    "class Solution:\n",
    "    def myAtoi(self,str:str) -> int:\n",
    "        automaton=Automaton()\n",
    "        for c in str:\n",
    "            automaton.get(c)\n",
    "        return automaton.sign*automaton.ans"
   ]
  },
  {
   "cell_type": "code",
   "execution_count": 29,
   "metadata": {},
   "outputs": [
    {
     "data": {
      "text/plain": [
       "987"
      ]
     },
     "execution_count": 29,
     "metadata": {},
     "output_type": "execute_result"
    }
   ],
   "source": [
    "sol=Solution()\n",
    "sol.myAtoi('987')\n"
   ]
  },
  {
   "cell_type": "code",
   "execution_count": 31,
   "metadata": {},
   "outputs": [
    {
     "data": {
      "text/plain": [
       "-987"
      ]
     },
     "execution_count": 31,
     "metadata": {},
     "output_type": "execute_result"
    }
   ],
   "source": [
    "sol=Solution()\n",
    "sol.myAtoi(' -987')"
   ]
  },
  {
   "cell_type": "code",
   "execution_count": 32,
   "metadata": {},
   "outputs": [
    {
     "data": {
      "text/plain": [
       "0"
      ]
     },
     "execution_count": 32,
     "metadata": {},
     "output_type": "execute_result"
    }
   ],
   "source": [
    "sol=Solution()\n",
    "sol.myAtoi('wed987')"
   ]
  },
  {
   "cell_type": "code",
   "execution_count": 33,
   "metadata": {},
   "outputs": [
    {
     "data": {
      "text/plain": [
       "98"
      ]
     },
     "execution_count": 33,
     "metadata": {},
     "output_type": "execute_result"
    }
   ],
   "source": [
    "sol=Solution()\n",
    "sol.myAtoi('98wed7')"
   ]
  },
  {
   "cell_type": "code",
   "execution_count": null,
   "metadata": {},
   "outputs": [],
   "source": []
  }
 ],
 "metadata": {
  "kernelspec": {
   "display_name": "Python 3.9.12 ('base')",
   "language": "python",
   "name": "python3"
  },
  "language_info": {
   "codemirror_mode": {
    "name": "ipython",
    "version": 3
   },
   "file_extension": ".py",
   "mimetype": "text/x-python",
   "name": "python",
   "nbconvert_exporter": "python",
   "pygments_lexer": "ipython3",
   "version": "3.9.12"
  },
  "vscode": {
   "interpreter": {
    "hash": "a825f8e8905b8e64233e6384cfa1616d0baa442a3b458fa78e4916d5c671b0d4"
   }
  }
 },
 "nbformat": 4,
 "nbformat_minor": 2
}
