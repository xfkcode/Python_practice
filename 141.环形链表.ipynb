{
 "cells": [
  {
   "cell_type": "markdown",
   "metadata": {},
   "source": [
    "给你一个链表的头节点 head ，判断链表中是否有环。\n",
    "\n",
    "如果链表中有某个节点，可以通过连续跟踪 next 指针再次到达，则链表中存在环。 为了表示给定链表中的环，评测系统内部使用整数 pos 来表示链表尾连接到链表中的位置（索引从 0 开始）。注意：pos 不作为参数进行传递 。仅仅是为了标识链表的实际情况。\n",
    "\n",
    "如果链表中存在环 ，则返回 true 。 否则，返回 false 。\n",
    "\n",
    " \n",
    "\n",
    "示例 1：\n",
    "输入：head = [3,2,0,-4], pos = 1\n",
    "输出：true\n",
    "解释：链表中有一个环，其尾部连接到第二个节点。\n",
    "\n",
    "示例 2：\n",
    "输入：head = [1,2], pos = 0\n",
    "输出：true\n",
    "解释：链表中有一个环，其尾部连接到第一个节点。\n",
    "\n",
    "示例 3：\n",
    "输入：head = [1], pos = -1\n",
    "输出：false\n",
    "解释：链表中没有环。\n",
    " \n",
    "\n",
    "提示：\n",
    "\n",
    "链表中节点的数目范围是 [0, 10^4]\n",
    "-10^5 <= Node.val <= 10^5\n",
    "pos 为 -1 或者链表中的一个 有效索引 。\n",
    " \n",
    "\n",
    "进阶：你能用 O(1)（即，常量）内存解决此问题吗？"
   ]
  },
  {
   "cell_type": "code",
   "execution_count": 15,
   "metadata": {},
   "outputs": [],
   "source": [
    "\n",
    "class Node:\n",
    "    def __init__(self, x, next=None):\n",
    "        self.val = x\n",
    "        self.next = next\n",
    "# 递归\n",
    "class Solution:\n",
    "    def hasCycle(self, head: Node) -> bool:\n",
    "        d={}\n",
    "        def traverse(Node,d):\n",
    "            if Node!=None:\n",
    "                if Node not in list(d.keys()):\n",
    "                    d[Node]=head.val\n",
    "                    return traverse(Node.next,d)\n",
    "                else:\n",
    "                    return True\n",
    "            else:\n",
    "                return False\n",
    "        return traverse(head,d)\n",
    "        \n",
    "        "
   ]
  },
  {
   "cell_type": "code",
   "execution_count": 16,
   "metadata": {},
   "outputs": [
    {
     "data": {
      "text/plain": [
       "False"
      ]
     },
     "execution_count": 16,
     "metadata": {},
     "output_type": "execute_result"
    }
   ],
   "source": [
    "\n",
    "node3=Node(-4)\n",
    "node2=Node(0,node3)\n",
    "node1=Node(2,node2)\n",
    "head=Node(3,node1)\n",
    "\n",
    "sol=Solution()\n",
    "sol.hasCycle(head)"
   ]
  },
  {
   "cell_type": "code",
   "execution_count": 17,
   "metadata": {},
   "outputs": [],
   "source": [
    "class Solution:\n",
    "    def hasCycle(self, head: Node) -> bool:\n",
    "        seen = set()\n",
    "        while head:\n",
    "            if head in seen:\n",
    "                return True\n",
    "            seen.add(head)\n",
    "            head = head.next\n",
    "        return False"
   ]
  },
  {
   "cell_type": "code",
   "execution_count": 34,
   "metadata": {},
   "outputs": [
    {
     "data": {
      "text/plain": [
       "False"
      ]
     },
     "execution_count": 34,
     "metadata": {},
     "output_type": "execute_result"
    }
   ],
   "source": [
    "\n",
    "node3=Node(-4)\n",
    "node2=Node(0,node3)\n",
    "node1=Node(2,node2)\n",
    "head=Node(3,node1)\n",
    "\n",
    "sol=Solution()\n",
    "sol.hasCycle(head)"
   ]
  },
  {
   "cell_type": "code",
   "execution_count": 19,
   "metadata": {},
   "outputs": [],
   "source": [
    "# 快慢指针\n",
    "class Solution:\n",
    "    def hasCycle(self, head: Node) -> bool:\n",
    "        if not head or not head.next:\n",
    "            return False\n",
    "        \n",
    "        slow = head\n",
    "        fast = head.next\n",
    "\n",
    "        while slow != fast:\n",
    "            if not fast or not fast.next:\n",
    "                return False\n",
    "            slow = slow.next\n",
    "            fast = fast.next.next\n",
    "        \n",
    "        return True"
   ]
  },
  {
   "cell_type": "code",
   "execution_count": 33,
   "metadata": {},
   "outputs": [
    {
     "data": {
      "text/plain": [
       "False"
      ]
     },
     "execution_count": 33,
     "metadata": {},
     "output_type": "execute_result"
    }
   ],
   "source": [
    "\n",
    "node3=Node(-4)\n",
    "node2=Node(0,node3)\n",
    "node1=Node(2,node2)\n",
    "head=Node(3,node1)\n",
    "\n",
    "sol=Solution()\n",
    "sol.hasCycle(head)"
   ]
  },
  {
   "cell_type": "code",
   "execution_count": 45,
   "metadata": {},
   "outputs": [
    {
     "name": "stdout",
     "output_type": "stream",
     "text": [
      "3\n",
      "2\n",
      "0\n",
      "-4\n",
      "2\n",
      "0\n",
      "-4\n",
      "2\n",
      "0\n",
      "-4\n",
      "2\n",
      "0\n",
      "-4\n",
      "2\n",
      "0\n",
      "-4\n",
      "2\n",
      "0\n",
      "-4\n",
      "2\n",
      "0\n",
      "-4\n",
      "2\n",
      "0\n",
      "-4\n",
      "2\n",
      "0\n",
      "-4\n",
      "2\n",
      "0\n",
      "-4\n",
      "2\n",
      "0\n",
      "-4\n",
      "2\n",
      "0\n",
      "-4\n",
      "2\n",
      "0\n",
      "-4\n"
     ]
    }
   ],
   "source": [
    "# 环形链表创建存在问题？？？\n",
    "node3=Node(-4,node1)\n",
    "node2=Node(0,node3)\n",
    "node1=Node(2,node2)\n",
    "head=Node(3,node1)\n",
    "# 测试循环链表打印，打印个数不确定？？？\n",
    "# 理应是打印100次，打印1次head，剩余循环打印node1、node2、node3\n",
    "i=0\n",
    "while head and i<100:\n",
    "    print(head.val)\n",
    "    i+=1\n",
    "    head=head.next"
   ]
  },
  {
   "cell_type": "code",
   "execution_count": null,
   "metadata": {},
   "outputs": [],
   "source": []
  }
 ],
 "metadata": {
  "kernelspec": {
   "display_name": "Python 3.9.12 ('base')",
   "language": "python",
   "name": "python3"
  },
  "language_info": {
   "codemirror_mode": {
    "name": "ipython",
    "version": 3
   },
   "file_extension": ".py",
   "mimetype": "text/x-python",
   "name": "python",
   "nbconvert_exporter": "python",
   "pygments_lexer": "ipython3",
   "version": "3.9.12"
  },
  "orig_nbformat": 4,
  "vscode": {
   "interpreter": {
    "hash": "a825f8e8905b8e64233e6384cfa1616d0baa442a3b458fa78e4916d5c671b0d4"
   }
  }
 },
 "nbformat": 4,
 "nbformat_minor": 2
}
